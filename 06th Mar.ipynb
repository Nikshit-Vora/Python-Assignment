{
 "cells": [
  {
   "cell_type": "markdown",
   "id": "163bc6db-a7bf-4356-864f-9061b4616312",
   "metadata": {},
   "source": [
    "Q1. What is Statistics?"
   ]
  },
  {
   "cell_type": "markdown",
   "id": "2b23a0fe-2079-4077-8c8c-e7ee716f928c",
   "metadata": {},
   "source": [
    "Ans. Statistics is the science of collecting, organizing and analyzing the data."
   ]
  },
  {
   "cell_type": "code",
   "execution_count": null,
   "id": "66ce9a18-b35b-401d-a7af-ea5d9c1453bc",
   "metadata": {},
   "outputs": [],
   "source": []
  },
  {
   "cell_type": "markdown",
   "id": "e6d2e1bb-cff0-4042-8dd8-8f290685c8b8",
   "metadata": {},
   "source": [
    "Q2. Define the different types of statistics and give an example of when each type might be used."
   ]
  },
  {
   "cell_type": "markdown",
   "id": "72ccfd15-432b-45b9-a661-c6aa82402b54",
   "metadata": {},
   "source": [
    "|Descriptive Statistics|Inferential Statistics|\n",
    "|-|-|\n",
    "|It constists of organizing and summurizing the data|It consists of using data you have measured to form conclusion.|\n",
    "|The summarization is done from the sample of the population using different parameters like Mean or standard deviation.|It involves hypothesis testing and making predictions based on the results of the sample data.|\n",
    "|Data is typically arranged and displayed in tables or graphs summarizing details such as histograms, pie charts, bars or scatter plots.|Inferential Statistics are intended to test hypotheses and investigate relationships between variables and can be used to make population predictions.|\n",
    "|Example: A survey conducted by a research team about the amount of time students spent on their mobile phones each day. The research team might use descriptive statistics to summarize the data by calculating the average time spent on mobile phones, the standard deviation, and the frequency distribution of the time spent. |Example: A pharmaceutical company is testing a new drug and wants to determine whether it is effective. The company might use inferential statistics to analyze the results of a clinical trial to determine whether the drug is significantly better than a placebo in treating a specific condition.|"
   ]
  },
  {
   "cell_type": "code",
   "execution_count": null,
   "id": "fad8903b-b487-4117-b1d5-62a5ae7ba6f3",
   "metadata": {},
   "outputs": [],
   "source": []
  },
  {
   "cell_type": "markdown",
   "id": "fd06d438-b2b9-4c3c-b8d4-3fac7d3ec781",
   "metadata": {},
   "source": [
    "Q3. What are the different types of data and how do they differ from each other? Provide an example of\n",
    "each type of data."
   ]
  },
  {
   "cell_type": "markdown",
   "id": "e8409da3-0542-4d1b-8e44-b177b397ff5b",
   "metadata": {},
   "source": [
    "Ans. Types of Data\n",
    "\n",
    "1. Qualitative data\n",
    "* Nominal \n",
    "* ordinal\n",
    "2. Quantitative data\n",
    "* Discrete\n",
    "* Continuous"
   ]
  },
  {
   "cell_type": "markdown",
   "id": "cf28ea3d-00fc-4a2f-afd5-ca804b742702",
   "metadata": {},
   "source": [
    "1. Qualitative Data: \n",
    "* It used to represent some characteristics or attributes of the data. The facts and figures depicted by the qualitative data cannot be computed.\n",
    "\n",
    "Nominal Data:\n",
    "\n",
    "* It is used to label the variables without providing the numerical value for them. \n",
    "* Nominal data attributes can’t either be ordered or measured. \n",
    "* Example : Gender (Women, Men), Eye color (Blue, Green, Brown), Hair color (Blonde, Brown, Brunette, Red, etc.), Marital status (Married, Single), Religion (Muslim, Hindu, Christian)\n",
    "\n",
    "Ordinal Data:\n",
    "\n",
    "* Ordinal data/variable is the specific type of data that follows a natural order.  \n",
    "* The difference between the data values is not determined in the case of nominal data. \n",
    "* For instance, ordinal data variable is mostly found in surveys, economics, questionnaires, and finance operations. \n",
    "* Examples: Feedback is recorded in the form of ratings from 1-10; Education level: elementary school, high school, college; Economic status: low, medium, and high; Letter grades: A, B, C, and etc."
   ]
  },
  {
   "cell_type": "markdown",
   "id": "1ab533f1-1287-42d4-9db1-b31b83e74480",
   "metadata": {},
   "source": [
    "2. Quantitative Data\n",
    "\n",
    "* Quantitative data can be measured. The measurement of data is numerically recorded and represented. Calculations and interpretations can then be performed on the obtained results. \n",
    "* Numerical data is indicated by quantitative data. For instance, data can be recorded about how many users found a product satisfactory in terms of the collected rating, and therefore, an overall product review can be generated. \n",
    "\n",
    "Discrete Data\n",
    "\n",
    "* Discrete data refers to the data values which can only attain certain specific values. Discrete data can’t attain a range of values. \n",
    "* Discrete data can be represented using bar charts. For instance, ratings of a product made by the users can only be in discrete numbers. \n",
    "* Examples: The number of students in a class, The number of chips in a bag, The number of stars in the sky Continuous Data \n",
    "\n",
    "Continuous Data:\n",
    "\n",
    "* It can contain values between a certain range that is within the highest and lowest values. \n",
    "* The corresponding difference between the highest and lowest value of these intervals can be termed as the range of data. \n",
    "* Continuous data can be tabulated in what is called a frequency distribution. The frequency distribution table can be computed for the range type of data. \n",
    "* Examples: Height and weight of a student, Daily temperature recordings of a place, Wind speed measurement"
   ]
  },
  {
   "cell_type": "code",
   "execution_count": null,
   "id": "7e56d45f-557b-4ae1-92a5-ca31782d4d66",
   "metadata": {},
   "outputs": [],
   "source": []
  },
  {
   "cell_type": "markdown",
   "id": "b6e03cd9-1074-4a78-92e6-078ffba650f6",
   "metadata": {},
   "source": [
    "Q4. Categorise the following datasets with respect to quantitative and qualitative data types:\n",
    "\n"
   ]
  },
  {
   "cell_type": "markdown",
   "id": "5a27cb0e-fb7d-48f5-a828-069226db40c5",
   "metadata": {},
   "source": [
    "|Examples|Data Type|\n",
    "|-|-|\n",
    "|(i) Grading in exam: A+, A, B+, B, C+, C, D, E|Ordinal|\n",
    "|(ii) Colour of mangoes: yellow, green, orange, red|Nominal|\n",
    "|(iii) Height data of a class: [178.9, 179, 179.5, 176, 177.2, 178.3, 175.8,...]|Continuous|\n",
    "|(iv) Number of mangoes exported by a farm: [500, 600, 478, 672, ...]|Descrete|"
   ]
  },
  {
   "cell_type": "code",
   "execution_count": null,
   "id": "4177e4c1-266e-4404-ab20-a3d6c110b28f",
   "metadata": {},
   "outputs": [],
   "source": []
  },
  {
   "cell_type": "markdown",
   "id": "c83a20d9-19f5-4bb4-b537-f0c6b8e52e50",
   "metadata": {},
   "source": [
    "Q5. Explain the concept of levels of measurement and give an example of a variable for each level."
   ]
  },
  {
   "cell_type": "markdown",
   "id": "8399f7cc-fa8a-45e7-82c9-20503a18778a",
   "metadata": {},
   "source": [
    "Ans. There are 4 levels of measurement:\n",
    "\n",
    "1. Nominal: the data can only be categorized\n",
    "2. Ordinal: the data can be categorized and ranked\n",
    "3. Interval: the data can be categorized, ranked, and evenly spaced\n",
    "4. Ratio: the data can be categorized, ranked, evenly spaced, and has a natural zero."
   ]
  },
  {
   "cell_type": "markdown",
   "id": "dba78d2f-6f08-4f71-bb16-010ef54eee82",
   "metadata": {},
   "source": [
    "### 1. Nominal level:\t\n",
    "* We can categorize data by labelling them in mutually exclusive groups, but there is no order between the categories.\t\n",
    "\n",
    "Examples of nominal scales\n",
    "\n",
    "* City of birth\n",
    "* Gender\n",
    "* Ethnicity\n",
    "* Car brands\n",
    "* Marital status\n",
    "\n",
    "\n",
    "\n"
   ]
  },
  {
   "cell_type": "markdown",
   "id": "f6f3e4b8-18a8-4ae6-ae77-6e6747b90495",
   "metadata": {},
   "source": [
    "### 2. Ordinal level\t\n",
    "\n",
    "* We can categorize and rank data in an order, but cannot say anything about the intervals between the rankings.\n",
    "* Although we can rank the top 5 Olympic medallists, this scale does not tell us how close or far apart they are in number of wins.\n",
    "\n",
    "Examples of ordinal scales\n",
    "\n",
    "* Top 5 Olympic medallists\n",
    "* Language ability (e.g., beginner, intermediate, fluent)\n",
    "* Likert-type questions  (e.g., very dissatisfied to very satisfied)"
   ]
  },
  {
   "cell_type": "markdown",
   "id": "f1a7360b-d6ea-4aa1-9e93-aba7578011da",
   "metadata": {},
   "source": [
    "### 3. Interval level\n",
    "\n",
    "* We can categorize, rank, and infer equal intervals between neighboring data points, but there is no true zero point.\n",
    "* The difference between any two adjacent temperatures is the same: one degree. But  zero degrees is defined differently depending on the scale – it doesn’t mean an absolute absence of temperature.\n",
    "\n",
    "Examples of interval scales\n",
    "\n",
    "* Test scores (e.g., IQ or exams)\n",
    "* Personality inventories\n",
    "* Temperature in Fahrenheit or Celsius"
   ]
  },
  {
   "cell_type": "markdown",
   "id": "439319ef-1f74-498d-b6a3-c35a8319967f",
   "metadata": {},
   "source": [
    "### 4. Ratio level\t\n",
    "* You can categorize, rank, and infer equal intervals between neighboring data points, and there is a true zero point.\n",
    "* A true zero means there is an absence of the variable of interest. In ratio scales, zero does mean an absolute lack of the variable.\n",
    "* For example, in the Kelvin temperature scale, there are no negative degrees of temperature – zero means an absolute lack of thermal energy.\n",
    "\n",
    "Examples of ratio scales\n",
    "\n",
    "* Height\n",
    "* Age\n",
    "* Weight\n",
    "* Temperature in Kelvin"
   ]
  },
  {
   "cell_type": "code",
   "execution_count": null,
   "id": "05ab2b5a-eb71-46f5-b025-05876fe31862",
   "metadata": {},
   "outputs": [],
   "source": []
  },
  {
   "cell_type": "markdown",
   "id": "41990d4d-82f1-4d4a-ae58-b70f829de572",
   "metadata": {},
   "source": [
    "Q6. Why is it important to understand the level of measurement when analyzing data? Provide an example to illustrate your answer."
   ]
  },
  {
   "cell_type": "markdown",
   "id": "97a0c036-9240-4b01-b3f3-590e17aacc68",
   "metadata": {},
   "source": [
    "Ans.\n",
    "\n",
    "* It is important to understand the level of measurement when analyzing data because it determines which statistical analysis is appropriate to use. \n",
    "* Different levels of measurement have different properties and constraints, and each type requires specific statistical methods and procedures for analysis.\n",
    "* For example, if we have nominal data, we cannot perform mathematical operations such as addition, subtraction, multiplication, or division because there is no inherent order or ranking in the categories. \n",
    "* In contrast, if we have interval or ratio data, we can perform mathematical operations because there is a meaningful difference between values.\n",
    "* Another example is the use of the mean versus the median. If the data is skewed or has outliers, the median may be a more appropriate measure of central tendency than the mean. However, if the data is normally distributed, the mean may be a better measure of central tendency.\n",
    "* In summary, understanding the level of measurement is critical for selecting the appropriate statistical analysis to use and for accurately interpreting the results."
   ]
  },
  {
   "cell_type": "code",
   "execution_count": null,
   "id": "c5e65ebf-008e-43e3-8055-1932a65c9a52",
   "metadata": {},
   "outputs": [],
   "source": []
  },
  {
   "cell_type": "markdown",
   "id": "557a3cab-b692-407d-850d-6558a601b267",
   "metadata": {},
   "source": [
    "Q7. How nominal data type is different from ordinal data type."
   ]
  },
  {
   "cell_type": "markdown",
   "id": "ff439934-7f43-4e67-891c-5dd6d544446f",
   "metadata": {},
   "source": [
    "|Nominal Data|Ordinal Data|\n",
    "|-|-|\n",
    "|It is defined as the data type that is used for naming or labeling variables.|Ordinal Data classifies variables that have a natural order or rank.|\n",
    "|Classifies the data into named groups without any quantitative meaning|Frequency distribution, mode, median, and range are used to analyze Ordinal Data.|\n",
    "|Example: Blood Type: A, B, O, AB; Sex: Male, Female; Marital Status: Single, Married, Divorced|Example: Grades: A, B, C, D, F; Rating: Worst, Poor, Neutral, Good, Excellent; Income Group: High, Medium, Low; Education: 12th, Graduate, Post-Graduate, PhD|"
   ]
  },
  {
   "cell_type": "code",
   "execution_count": null,
   "id": "d7e627d4-e7f6-49e0-a83e-65ae4c155b00",
   "metadata": {},
   "outputs": [],
   "source": []
  },
  {
   "cell_type": "markdown",
   "id": "35c89db7-ebb0-4cb1-9670-b2d305f2252b",
   "metadata": {},
   "source": [
    "Q8. Which type of plot can be used to display data in terms of range?"
   ]
  },
  {
   "cell_type": "markdown",
   "id": "2a042f7d-87f8-4e82-aefd-7ecf520345f3",
   "metadata": {},
   "source": [
    "Ans. Box Plot, Histogram"
   ]
  },
  {
   "cell_type": "code",
   "execution_count": null,
   "id": "d8dbb75d-e93a-40ed-a0a1-325c6033df40",
   "metadata": {},
   "outputs": [],
   "source": []
  },
  {
   "cell_type": "markdown",
   "id": "29e205f7-cc5a-4396-ba15-d1a2e5bcd0d6",
   "metadata": {},
   "source": [
    "Q9. Describe the difference between descriptive and inferential statistics. Give an example of each type of statistics and explain how they are used."
   ]
  },
  {
   "cell_type": "markdown",
   "id": "acdfe429-d26e-4ed4-a257-594205973c75",
   "metadata": {},
   "source": [
    "Ans. Measures of central tendency and variability are common statistical tools used to describe the properties of a dataset.\n",
    "\n",
    "Measures of central tendency describe the typical or central value of a dataset. The most common measures of central tendency are:\n",
    "\n",
    "1. Mean: The mean is the average value of a dataset. It is calculated by adding up all the values in the dataset and dividing by the number of values. The mean is sensitive to outliers, which can skew the value.\n",
    "\n",
    "2. Median: The median is the middle value of a dataset when the values are arranged in order. It is less sensitive to outliers than the mean.\n",
    "\n",
    "3. Mode: The mode is the value that appears most frequently in a dataset. It is useful for identifying the most common value in a dataset with discrete values."
   ]
  },
  {
   "cell_type": "markdown",
   "id": "0f0941fa-1261-4b77-904c-ccc48620e744",
   "metadata": {},
   "source": [
    "Measures of variability describe the spread or dispersion of a dataset. The most common measures of variability are:\n",
    "\n",
    "1. Range: The range is the difference between the maximum and minimum values in a dataset. It provides a simple measure of the spread of the data.\n",
    "\n",
    "2. Variance: The variance is a measure of how spread out the data is from the mean. It is calculated by taking the average of the squared differences between each data point and the mean. A higher variance indicates that the data is more spread out.\n",
    "\n",
    "3. Standard deviation: The standard deviation is the square root of the variance. It is a commonly used measure of variability that indicates how much the data deviates from the mean."
   ]
  },
  {
   "cell_type": "code",
   "execution_count": null,
   "id": "f23a61ef-04a4-4eff-9df2-49247abd5702",
   "metadata": {},
   "outputs": [],
   "source": []
  }
 ],
 "metadata": {
  "kernelspec": {
   "display_name": "Python 3 (ipykernel)",
   "language": "python",
   "name": "python3"
  },
  "language_info": {
   "codemirror_mode": {
    "name": "ipython",
    "version": 3
   },
   "file_extension": ".py",
   "mimetype": "text/x-python",
   "name": "python",
   "nbconvert_exporter": "python",
   "pygments_lexer": "ipython3",
   "version": "3.10.8"
  }
 },
 "nbformat": 4,
 "nbformat_minor": 5
}
