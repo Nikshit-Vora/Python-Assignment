{
 "cells": [
  {
   "cell_type": "markdown",
   "id": "aa9e2262-2583-4d16-baeb-faf959c6b24e",
   "metadata": {},
   "source": [
    "Q1. What are the three measures of central tendency?"
   ]
  },
  {
   "cell_type": "markdown",
   "id": "a9252813-93ba-47dd-b682-239c0ea05aee",
   "metadata": {},
   "source": [
    "Ans.\n",
    "\n",
    "The three measures of central tendency are:\n",
    "    \n",
    "1. Mean\n",
    "2. Median\n",
    "3. Mode"
   ]
  },
  {
   "cell_type": "code",
   "execution_count": null,
   "id": "f79126dc-4e3c-4e02-aa60-6e8282924a91",
   "metadata": {},
   "outputs": [],
   "source": []
  },
  {
   "cell_type": "markdown",
   "id": "397f6d07-e83f-4078-a83c-625923cf8712",
   "metadata": {},
   "source": [
    "Q2. What is the difference between the mean, median, and mode? How are they used to measure the\n",
    "central tendency of a dataset?\n"
   ]
  },
  {
   "cell_type": "markdown",
   "id": "7d4a6b35-724e-48b4-8c0b-c26b10751d93",
   "metadata": {},
   "source": [
    "\n",
    "1. Mean: \n",
    "* The mean is the average of all the values in a dataset.\n",
    "* It is calculated by summing up all the values and dividing by the number of values. \n",
    "* The mean is sensitive to extreme values, and if there are outliers in the dataset, it may not be a good measure of central tendency.\n",
    "\n",
    "2. Median: \n",
    "* The median is the middle value in a dataset. It is the value that separates the lower 50% of values from the upper 50%. * If there are an even number of values in the dataset, the median is the average of the two middle values. \n",
    "* The median is less sensitive to extreme values than the mean and is a good measure of central tendency when there are outliers in the dataset.\n",
    "\n",
    "3. Mode: \n",
    "* The mode is the value that appears most frequently in a dataset. \n",
    "* A dataset can have one or more modes, or no mode at all. The mode is useful for finding the most common value in a dataset and is not affected by extreme values."
   ]
  },
  {
   "cell_type": "code",
   "execution_count": null,
   "id": "00c98a03-d0c0-4c6c-8782-f8401feba764",
   "metadata": {},
   "outputs": [],
   "source": []
  },
  {
   "cell_type": "markdown",
   "id": "603c38fc-18cc-48d5-9963-b135daff83c5",
   "metadata": {},
   "source": [
    "\n",
    "Q3. Measure the three measures of central tendency for the given height data:\n",
    "\n",
    "[178,177,176,177,178.2,178,175,179,180,175,178.9,176.2,177,172.5,178,176.5]\n"
   ]
  },
  {
   "cell_type": "code",
   "execution_count": 3,
   "id": "16f22c67-a84d-4614-a12b-02a0ab1696bd",
   "metadata": {},
   "outputs": [],
   "source": [
    "data = [178,177,176,177,178.2,178,175,179,180,175,178.9,176.2,177,172.5,178,176.5]"
   ]
  },
  {
   "cell_type": "code",
   "execution_count": 9,
   "id": "874a39da-e7d4-4aa0-b9f5-112a07c6bca5",
   "metadata": {},
   "outputs": [
    {
     "name": "stdout",
     "output_type": "stream",
     "text": [
      "mean of the data : 177.01875\n",
      "median of the data :  177.0\n",
      "mode of the data : ModeResult(mode=array([177.]), count=array([3]))\n"
     ]
    },
    {
     "name": "stderr",
     "output_type": "stream",
     "text": [
      "/tmp/ipykernel_98/3705569235.py:6: FutureWarning: Unlike other reduction functions (e.g. `skew`, `kurtosis`), the default behavior of `mode` typically preserves the axis it acts along. In SciPy 1.11.0, this behavior will change: the default value of `keepdims` will become False, the `axis` over which the statistic is taken will be eliminated, and the value None will no longer be accepted. Set `keepdims` to True or False to avoid this warning.\n",
      "  data_mode = stats.mode(data)\n"
     ]
    }
   ],
   "source": [
    "import numpy as np\n",
    "from scipy import stats\n",
    "\n",
    "data_mean = np.mean(data)\n",
    "data_median = np.median(data)\n",
    "data_mode = stats.mode(data)\n",
    "\n",
    "print('mean of the data :',data_mean)\n",
    "print('median of the data : ',data_median)\n",
    "print('mode of the data :',data_mode)\n"
   ]
  },
  {
   "cell_type": "code",
   "execution_count": null,
   "id": "0f58c0ae-3929-4873-8187-2b1ef8b8f385",
   "metadata": {},
   "outputs": [],
   "source": []
  },
  {
   "cell_type": "markdown",
   "id": "fc8a9d23-7c24-4059-9441-3a5098cd838a",
   "metadata": {},
   "source": [
    "Q4. Find the standard deviation for the given data:\n",
    "\n",
    "[178,177,176,177,178.2,178,175,179,180,175,178.9,176.2,177,172.5,178,176.5]\n"
   ]
  },
  {
   "cell_type": "code",
   "execution_count": 12,
   "id": "0a7d23ff-31a0-4688-9017-c0b0d1b16ddd",
   "metadata": {},
   "outputs": [
    {
     "name": "stdout",
     "output_type": "stream",
     "text": [
      "standard deviation of the data is :  1.7885814036548633\n"
     ]
    }
   ],
   "source": [
    "data = [178,177,176,177,178.2,178,175,179,180,175,178.9,176.2,177,172.5,178,176.5]\n",
    "data_std = np.std(data)\n",
    "print('standard deviation of the data is : ',data_std)"
   ]
  },
  {
   "cell_type": "code",
   "execution_count": null,
   "id": "328cbdce-0f7c-41da-848e-831701abb49c",
   "metadata": {},
   "outputs": [],
   "source": []
  },
  {
   "cell_type": "markdown",
   "id": "4abe5a0a-866b-48e8-be71-8b41f36357be",
   "metadata": {},
   "source": [
    "Q5. How are measures of dispersion such as range, variance, and standard deviation used to describe the spread of a dataset? Provide an example."
   ]
  },
  {
   "cell_type": "markdown",
   "id": "9511955e-6188-4bda-90ff-5a6677fd3af2",
   "metadata": {},
   "source": [
    "Ans.\n",
    "\n",
    "Measures of dispersion, such as range, variance, and standard deviation, are used to describe how spread out the values in a dataset are.\n",
    "\n",
    "1. Range: \n",
    "* It is the difference between the largest and smallest values in a dataset. \n",
    "* It provides a simple measure of the spread of the data. \n",
    "* For example, if a dataset of test scores ranges from 60 to 90, the range would be 30.\n",
    "\n",
    "2. Variance:\n",
    "* It is a measure of how far the individual data points are from the mean. \n",
    "* It is calculated by taking the average of the squared differences between each data point and the mean. \n",
    "* A higher variance indicates that the data is more spread out from the mean. For example, if the dataset of test scores has a variance of 25, this means that the individual scores are, on average, 25 points away from the mean.\n",
    "\n",
    "3. Standard Deviation:\n",
    "* It is the square root of the variance. \n",
    "* It is another measure of the spread of the data and is often used because it is in the same units as the original data. \n",
    "* A higher standard deviation indicates that the data is more spread out from the mean. For example, if the dataset of test scores has a standard deviation of 5, this means that the individual scores are, on average, 5 points away from the mean."
   ]
  },
  {
   "cell_type": "code",
   "execution_count": null,
   "id": "c11852bb-77c0-40ac-86e2-2c2d25b7061c",
   "metadata": {},
   "outputs": [],
   "source": []
  },
  {
   "cell_type": "markdown",
   "id": "27531234-9678-4ec2-9492-4b4ca078437f",
   "metadata": {},
   "source": [
    "Q6. What is a Venn diagram?"
   ]
  },
  {
   "cell_type": "markdown",
   "id": "982df392-1a55-49e9-9d0f-425703b9fdb4",
   "metadata": {},
   "source": [
    "A Venn diagram:\n",
    "* It is a graphical representation of set relationships. \n",
    "* It consists of overlapping circles, each representing a set, and the overlapping area representing the elements that are common to both sets. \n",
    "* The purpose of a Venn diagram is to visually illustrate the relationships between sets.\n",
    "* The size of the circles in a Venn diagram represents the relative size of the sets, and the degree of overlap represents the degree of similarity between the sets. \n",
    "* Venn diagrams can be used to represent the relationships between two or more sets and can be used to solve problems in set theory and logic."
   ]
  },
  {
   "cell_type": "code",
   "execution_count": null,
   "id": "95942ad8-6c8d-4aed-b4c1-9f810ce74984",
   "metadata": {},
   "outputs": [],
   "source": []
  },
  {
   "cell_type": "markdown",
   "id": "a8514046-0bfb-47a8-ae1d-58402a64ab74",
   "metadata": {},
   "source": [
    "\n",
    "Q7. For the two given sets A = (2,3,4,5,6,7) & B = (0,2,6,8,10). \n",
    "\n",
    "Find:\n",
    "(i) A  B\n",
    "(ii) A ⋃ B"
   ]
  },
  {
   "cell_type": "code",
   "execution_count": 15,
   "id": "c1ade85e-0037-4c5d-b549-8b668b917e2d",
   "metadata": {},
   "outputs": [],
   "source": [
    "A = (2,3,4,5,6,7) \n",
    "B = (0,2,6,8,10)\n",
    "\n",
    "A_intersection_B = (2,6)\n",
    "A_union_B = (0,2,3,4,5,6,7,8,10)"
   ]
  },
  {
   "cell_type": "code",
   "execution_count": 16,
   "id": "f1ef1f4a-8faa-471a-87ee-c5f8b2295d40",
   "metadata": {},
   "outputs": [
    {
     "data": {
      "text/plain": [
       "array([2, 6])"
      ]
     },
     "execution_count": 16,
     "metadata": {},
     "output_type": "execute_result"
    }
   ],
   "source": [
    "np.intersect1d(A,B)"
   ]
  },
  {
   "cell_type": "code",
   "execution_count": 19,
   "id": "9ad06a0c-2399-41e7-bfb6-cb2bc117a467",
   "metadata": {},
   "outputs": [
    {
     "data": {
      "text/plain": [
       "array([ 0,  2,  3,  4,  5,  6,  7,  8, 10])"
      ]
     },
     "execution_count": 19,
     "metadata": {},
     "output_type": "execute_result"
    }
   ],
   "source": [
    "np.union1d(A,B)"
   ]
  },
  {
   "cell_type": "code",
   "execution_count": null,
   "id": "fab2325f-e567-469f-ad19-4edf75535e4f",
   "metadata": {},
   "outputs": [],
   "source": []
  },
  {
   "cell_type": "markdown",
   "id": "62feffbe-3376-4ee0-abc2-56a945d09457",
   "metadata": {},
   "source": [
    "\n",
    "Q8. What do you understand about skewness in data?\n"
   ]
  },
  {
   "cell_type": "markdown",
   "id": "2c83b684-9df6-486e-9a79-d33ae3f4da4f",
   "metadata": {},
   "source": [
    "Skewness:\n",
    "\n",
    "* It is a measurement of the distortion of symmetrical distribution or asymmetry in a data set. \n",
    "* Skewness is demonstrated on a bell curve when data points are not distributed symmetrically to the left and right sides of the median on a bell curve. If the bell curve is shifted to the left or the right, it is said to be skewed."
   ]
  },
  {
   "cell_type": "code",
   "execution_count": null,
   "id": "19da731e-d607-41fe-be60-3d042eb7e93d",
   "metadata": {},
   "outputs": [],
   "source": []
  },
  {
   "cell_type": "markdown",
   "id": "50973854-92e4-445d-8b99-3e93dc9c4525",
   "metadata": {},
   "source": [
    "\n",
    "Q9. If a data is right skewed then what will be the position of median with respect to mean?\n"
   ]
  },
  {
   "cell_type": "markdown",
   "id": "4194f105-ebfb-4af2-ab11-9d2d335f3a3b",
   "metadata": {},
   "source": [
    "Ans. Mean > Median > Mode"
   ]
  },
  {
   "cell_type": "code",
   "execution_count": null,
   "id": "0a828639-0315-4ad1-88e3-1403cd7f6879",
   "metadata": {},
   "outputs": [],
   "source": []
  },
  {
   "cell_type": "markdown",
   "id": "5c61a563-70ab-4722-95d7-bf9698bddbe5",
   "metadata": {},
   "source": [
    "\n",
    "Q10. Explain the difference between covariance and correlation. How are these measures used in\n",
    "statistical analysis?\n"
   ]
  },
  {
   "cell_type": "markdown",
   "id": "b5d69a0c-eddf-4fd1-8823-a946bf0e1dc9",
   "metadata": {},
   "source": [
    "Ans.\n",
    "\n",
    "Covariance and correlation are two measures used to describe the relationship between two variables in a dataset.\n",
    "\n",
    "1. Covariance:\n",
    "* It measures the degree to which two variables vary together. \n",
    "* It measures how much the deviations of two variables from their respective means vary together. \n",
    "* A positive covariance indicates that the two variables tend to move in the same direction, while a negative covariance indicates that they tend to move in opposite directions. \n",
    "* However, the magnitude of the covariance depends on the units of measurement of the variables, making it difficult to compare covariances across different datasets.\n",
    "\n",
    "2. Correlation:\n",
    "* It is a standardized measure of the relationship between two variables. \n",
    "* It measures the degree to which two variables are linearly related. \n",
    "* Correlation takes values between -1 and 1, where a value of -1 indicates a perfectly negative correlation, a value of 0 indicates no correlation, and a value of 1 indicates a perfectly positive correlation. \n",
    "* Correlation is not affected by differences in the units of measurement of the variables."
   ]
  },
  {
   "cell_type": "code",
   "execution_count": null,
   "id": "7fef9f52-e2a1-4c3b-af3c-629357cd0003",
   "metadata": {},
   "outputs": [],
   "source": []
  },
  {
   "cell_type": "markdown",
   "id": "9eaf7776-8286-491b-b248-a4f709a9f0cc",
   "metadata": {},
   "source": [
    "\n",
    "Q11. What is the formula for calculating the sample mean? Provide an example calculation for a\n",
    "dataset.\n"
   ]
  },
  {
   "cell_type": "markdown",
   "id": "c39e9fa8-0152-4c27-9458-1ae6f712444f",
   "metadata": {},
   "source": [
    "The formula for calculating the sample mean is:\n",
    "\n",
    "sample mean = (sum of all values in the sample) / (number of values in the sample)\n",
    "\n",
    "X̄ = ΣXi / n\n",
    "\n",
    "where,\n",
    "\n",
    "X̄ is the sample mean\n",
    "\n",
    "ΣXi is the sum of all values in the sample\n",
    "\n",
    "n is the number of values in the sample\n",
    "\n",
    "Here's an example calculation of the sample mean for a dataset of 5 values:\n",
    "\n",
    "Dataset: 3, 7, 2, 9, 5"
   ]
  },
  {
   "cell_type": "code",
   "execution_count": 24,
   "id": "2f11c13b-144b-4b09-b946-6b8de405283a",
   "metadata": {},
   "outputs": [
    {
     "name": "stdout",
     "output_type": "stream",
     "text": [
      "5.2\n"
     ]
    }
   ],
   "source": [
    "# manual method\n",
    "\n",
    "data  = [3,7,2,9,5]\n",
    "ΣXi = sum(data)\n",
    "n = 5\n",
    "\n",
    "X̄ = ΣXi / n\n",
    "print(X̄)"
   ]
  },
  {
   "cell_type": "code",
   "execution_count": 25,
   "id": "13569eca-ac51-44c9-95cd-e8c77d6edad2",
   "metadata": {},
   "outputs": [
    {
     "data": {
      "text/plain": [
       "5.2"
      ]
     },
     "execution_count": 25,
     "metadata": {},
     "output_type": "execute_result"
    }
   ],
   "source": [
    "# using numpy\n",
    "\n",
    "np.mean(data)"
   ]
  },
  {
   "cell_type": "code",
   "execution_count": null,
   "id": "8acde12d-af55-4f8d-94ca-acacc31d26d6",
   "metadata": {},
   "outputs": [],
   "source": []
  },
  {
   "cell_type": "markdown",
   "id": "555c1e9b-e60b-42bc-ba40-f8e9e6da8b33",
   "metadata": {},
   "source": [
    "\n",
    "Q12. For a normal distribution data what is the relationship between its measure of central tendency?\n"
   ]
  },
  {
   "cell_type": "markdown",
   "id": "f32be382-bb3c-44b1-a15d-b0b26b180ae1",
   "metadata": {},
   "source": [
    "Ans.  Mean = Median = Mode"
   ]
  },
  {
   "cell_type": "code",
   "execution_count": null,
   "id": "4994c09d-c3a5-406c-befc-7751dadf1ab3",
   "metadata": {},
   "outputs": [],
   "source": []
  },
  {
   "cell_type": "markdown",
   "id": "34e9c32b-5f4d-44d3-b2d6-1edd42c188dd",
   "metadata": {},
   "source": [
    "Q13. How is covariance different from correlation?\n"
   ]
  },
  {
   "cell_type": "markdown",
   "id": "4e091678-8f64-4f4c-885c-8db4e944f819",
   "metadata": {},
   "source": [
    "|Covariance| Correlation|\n",
    "|-|-|\n",
    "|It measures the degree to which two variables vary together.|It is a standardized measure of the relationship between two variables.|\n",
    "|It measures how much the deviations of two variables from their respective means vary together.|It measures the degree to which two variables are linearly related. |\n",
    "|A positive covariance indicates that the two variables tend to move in the same direction, while a negative covariance indicates that they tend to move in opposite directions.|Correlation takes values between -1 and 1, where a value of -1 indicates a perfectly negative correlation, a value of 0 indicates no correlation, and a value of 1 indicates a perfectly positive correlation.|\n",
    "|However, the magnitude of the covariance depends on the units of measurement of the variables, making it difficult to compare covariances across different datasets.|Correlation is not affected by differences in the units of measurement of the variables.|"
   ]
  },
  {
   "cell_type": "code",
   "execution_count": null,
   "id": "816b279b-5682-455e-91a0-b2ca707f875b",
   "metadata": {},
   "outputs": [],
   "source": [
    "9925659226"
   ]
  },
  {
   "cell_type": "markdown",
   "id": "848cdc4a-7d76-4d31-8f2a-d5422b783f2a",
   "metadata": {},
   "source": [
    "Q14. How do outliers affect measures of central tendency and dispersion? Provide an example."
   ]
  },
  {
   "cell_type": "markdown",
   "id": "594d306e-8373-4d94-b9ef-1040c65fa17b",
   "metadata": {},
   "source": [
    "Outliers can have a significant impact on measures of central tendency and dispersion.\n",
    "\n",
    "1. impact on Measures of central tendency:\n",
    "* Outliers, which are values that are much larger or smaller than the other values in the dataset, can pull the mean towards them and cause it to no longer represent the typical value of the data. \n",
    "* On the other hand, the median is less sensitive to outliers because it is not influenced by extreme values in the same way as the mean.\n",
    "\n",
    "2. Impact on Measures of dispersion:\n",
    "* Outliers can increase the range of the data, making it appear more spread out than it actually is. \n",
    "* The variance and standard deviation are based on the distance of each data point from the mean, so outliers can greatly increase these measures of dispersion."
   ]
  },
  {
   "cell_type": "code",
   "execution_count": null,
   "id": "7dc4e821-70a0-4956-939e-1233bb14f816",
   "metadata": {},
   "outputs": [],
   "source": []
  },
  {
   "cell_type": "code",
   "execution_count": null,
   "id": "2230d213-8ca1-4196-b78a-73a9b8f3be7d",
   "metadata": {},
   "outputs": [],
   "source": []
  },
  {
   "cell_type": "code",
   "execution_count": null,
   "id": "27a0e39b-2adc-40b3-8ea7-a6acd03f38d6",
   "metadata": {},
   "outputs": [],
   "source": []
  },
  {
   "cell_type": "code",
   "execution_count": null,
   "id": "c01c763c-c720-4f1a-8a30-0fecbf5c122c",
   "metadata": {},
   "outputs": [],
   "source": []
  },
  {
   "cell_type": "code",
   "execution_count": null,
   "id": "05cbd92c-0ba0-4df0-a36e-23fd33ca62e9",
   "metadata": {},
   "outputs": [],
   "source": []
  },
  {
   "cell_type": "code",
   "execution_count": null,
   "id": "6e7def54-c262-4ade-9363-7a184f2f6ba3",
   "metadata": {},
   "outputs": [],
   "source": []
  },
  {
   "cell_type": "code",
   "execution_count": null,
   "id": "7937f39a-c05c-44c5-a8ea-2db2a484e323",
   "metadata": {},
   "outputs": [],
   "source": []
  },
  {
   "cell_type": "code",
   "execution_count": null,
   "id": "e2c26939-d7cf-45dc-809f-f76d2eea9901",
   "metadata": {},
   "outputs": [],
   "source": []
  },
  {
   "cell_type": "code",
   "execution_count": null,
   "id": "0914abfd-6a60-4cc6-8f2a-4b1aca8e5aae",
   "metadata": {},
   "outputs": [],
   "source": []
  },
  {
   "cell_type": "code",
   "execution_count": null,
   "id": "a87cac00-fcc3-499f-807a-62141b0d6baf",
   "metadata": {},
   "outputs": [],
   "source": []
  },
  {
   "cell_type": "code",
   "execution_count": null,
   "id": "9519f164-a385-4e0a-9d37-a7881a592772",
   "metadata": {},
   "outputs": [],
   "source": []
  },
  {
   "cell_type": "code",
   "execution_count": null,
   "id": "edcd00d3-caa2-4bee-b8d3-dcb71ecd7e9c",
   "metadata": {},
   "outputs": [],
   "source": []
  },
  {
   "cell_type": "code",
   "execution_count": null,
   "id": "54e454fe-bfab-4c58-aff8-5d84fe259719",
   "metadata": {},
   "outputs": [],
   "source": []
  },
  {
   "cell_type": "code",
   "execution_count": null,
   "id": "a29e47d0-edd8-4878-8c94-e833b40204f7",
   "metadata": {},
   "outputs": [],
   "source": []
  },
  {
   "cell_type": "code",
   "execution_count": null,
   "id": "945d41a8-81d4-4d99-ab30-7a43a56963a0",
   "metadata": {},
   "outputs": [],
   "source": []
  },
  {
   "cell_type": "code",
   "execution_count": null,
   "id": "98c6ac74-6b40-4186-8cfb-8a5a91a4b181",
   "metadata": {},
   "outputs": [],
   "source": []
  },
  {
   "cell_type": "code",
   "execution_count": null,
   "id": "54fcaad0-6bc9-452f-bd7f-1966658e8559",
   "metadata": {},
   "outputs": [],
   "source": []
  },
  {
   "cell_type": "code",
   "execution_count": null,
   "id": "6175b334-3fa8-4979-abf9-e82ffb1a4143",
   "metadata": {},
   "outputs": [],
   "source": []
  },
  {
   "cell_type": "code",
   "execution_count": null,
   "id": "a00da523-7c77-4106-8680-6622465aeea0",
   "metadata": {},
   "outputs": [],
   "source": []
  },
  {
   "cell_type": "code",
   "execution_count": null,
   "id": "dba72243-26b7-4ca8-a0f3-d334f229a1e4",
   "metadata": {},
   "outputs": [],
   "source": []
  },
  {
   "cell_type": "code",
   "execution_count": null,
   "id": "b3d06ecd-b0b9-442f-852b-842c9aeca8c4",
   "metadata": {},
   "outputs": [],
   "source": []
  },
  {
   "cell_type": "code",
   "execution_count": null,
   "id": "1b4f077b-c49c-4e81-87f7-7e5633d93b17",
   "metadata": {},
   "outputs": [],
   "source": []
  },
  {
   "cell_type": "code",
   "execution_count": null,
   "id": "4613d0f4-3591-45a4-bc7a-87ea1bea1834",
   "metadata": {},
   "outputs": [],
   "source": []
  },
  {
   "cell_type": "code",
   "execution_count": null,
   "id": "24363cdf-ec0c-45bf-b791-3f8779eb60c3",
   "metadata": {},
   "outputs": [],
   "source": []
  },
  {
   "cell_type": "code",
   "execution_count": null,
   "id": "e30f4a5b-b76c-4414-8f1d-f1ce0105feeb",
   "metadata": {},
   "outputs": [],
   "source": []
  },
  {
   "cell_type": "code",
   "execution_count": null,
   "id": "41ff4f0b-1329-4474-8786-0d9737dfd7cd",
   "metadata": {},
   "outputs": [],
   "source": []
  },
  {
   "cell_type": "code",
   "execution_count": null,
   "id": "55724f10-0740-41ff-b069-6a8150aafd07",
   "metadata": {},
   "outputs": [],
   "source": []
  },
  {
   "cell_type": "code",
   "execution_count": null,
   "id": "3a9dcf67-a081-49a2-beaa-1ccb748be0b5",
   "metadata": {},
   "outputs": [],
   "source": []
  },
  {
   "cell_type": "code",
   "execution_count": null,
   "id": "ded795d8-9d8c-4bc8-aec3-f79c0daa628f",
   "metadata": {},
   "outputs": [],
   "source": []
  },
  {
   "cell_type": "code",
   "execution_count": null,
   "id": "2ac77951-e24f-4ba4-ab7c-a2e5964ffed0",
   "metadata": {},
   "outputs": [],
   "source": []
  },
  {
   "cell_type": "code",
   "execution_count": null,
   "id": "f141514e-14be-41cd-9dab-fc76ff59e533",
   "metadata": {},
   "outputs": [],
   "source": []
  },
  {
   "cell_type": "code",
   "execution_count": null,
   "id": "fd151270-3cae-4b64-94b5-3064ae7d9c37",
   "metadata": {},
   "outputs": [],
   "source": []
  },
  {
   "cell_type": "code",
   "execution_count": null,
   "id": "5c705ac5-f5d6-4035-92a9-cf17797842ab",
   "metadata": {},
   "outputs": [],
   "source": []
  }
 ],
 "metadata": {
  "kernelspec": {
   "display_name": "Python 3 (ipykernel)",
   "language": "python",
   "name": "python3"
  },
  "language_info": {
   "codemirror_mode": {
    "name": "ipython",
    "version": 3
   },
   "file_extension": ".py",
   "mimetype": "text/x-python",
   "name": "python",
   "nbconvert_exporter": "python",
   "pygments_lexer": "ipython3",
   "version": "3.10.8"
  }
 },
 "nbformat": 4,
 "nbformat_minor": 5
}
