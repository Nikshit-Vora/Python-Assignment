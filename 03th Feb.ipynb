{
 "cells": [
  {
   "cell_type": "markdown",
   "id": "40ce3bd7-b673-4018-80ee-53d8ff07adc1",
   "metadata": {
    "tags": []
   },
   "source": [
    "### Problem 1\n",
    "\n",
    "Which key word is used to create a function? Create a function to return a list of odd numbers in the range of 1 to 25."
   ]
  },
  {
   "cell_type": "markdown",
   "id": "6af1329f-afb6-4d90-ae7d-0fbd563d0ede",
   "metadata": {},
   "source": [
    "Ans. def key word is used to create function in python."
   ]
  },
  {
   "cell_type": "code",
   "execution_count": 1,
   "id": "e504b608-441f-4391-89d4-d5ab459c4a3b",
   "metadata": {},
   "outputs": [],
   "source": [
    "# example of function to return all odd number with the range of 1 to 25\n",
    "\n",
    "def odd_num(n):\n",
    "    lst_odd_num = []\n",
    "    for i in range(1,n+1):\n",
    "        if i%2!=0:\n",
    "            lst_odd_num.append(i)\n",
    "    return lst_odd_num\n",
    "            "
   ]
  },
  {
   "cell_type": "code",
   "execution_count": 2,
   "id": "48cfe9e0-ccbc-4d8e-8ece-5dec595dfd70",
   "metadata": {},
   "outputs": [
    {
     "data": {
      "text/plain": [
       "[1, 3, 5, 7, 9, 11, 13, 15, 17, 19, 21, 23, 25]"
      ]
     },
     "execution_count": 2,
     "metadata": {},
     "output_type": "execute_result"
    }
   ],
   "source": [
    "odd_num(25)"
   ]
  },
  {
   "cell_type": "code",
   "execution_count": null,
   "id": "7891b9d8-a444-43ed-b3ea-a66beb057812",
   "metadata": {},
   "outputs": [],
   "source": []
  },
  {
   "cell_type": "markdown",
   "id": "fb34c2ff-f1e8-4386-abfc-3b30d3788593",
   "metadata": {},
   "source": [
    "### Problem 2\n",
    "\n",
    "Why *args and **kwargs is used in some function? Create a function each for *args and **kwargs to demonstrate their us."
   ]
  },
  {
   "cell_type": "markdown",
   "id": "f5efb5b3-1f23-45e9-9ae2-f749c5a39d92",
   "metadata": {},
   "source": [
    "Ans. *args is used to pass multiple non-keyword arguments in function.\n",
    "     **kwargs is used to pass multiple key-word arguments in function."
   ]
  },
  {
   "cell_type": "code",
   "execution_count": 3,
   "id": "0c538bf6-4280-455d-a7ab-ee7593b4de4b",
   "metadata": {},
   "outputs": [],
   "source": [
    "# function with *args\n",
    "\n",
    "def test1(*args):\n",
    "    for i in args:\n",
    "        print(i)"
   ]
  },
  {
   "cell_type": "code",
   "execution_count": 4,
   "id": "6e47d4b9-0d02-4d10-9c40-42fe1a29c074",
   "metadata": {},
   "outputs": [
    {
     "name": "stdout",
     "output_type": "stream",
     "text": [
      "1\n",
      "2.5\n",
      "True\n",
      "(2+6j)\n",
      "Python\n",
      "[1, 2, 3, 4, 5, 6]\n",
      "{'key': 'value'}\n",
      "(1, 2, 3, 4)\n"
     ]
    }
   ],
   "source": [
    "test1(1,2.5,True,2+6j,\"Python\",[1,2,3,4,5,6],{\"key\":\"value\"},(1,2,3,4))"
   ]
  },
  {
   "cell_type": "code",
   "execution_count": 5,
   "id": "05a8a48c-9342-41a9-a0ff-5d0406e6a016",
   "metadata": {},
   "outputs": [],
   "source": [
    "# function with *kwargs\n",
    "\n",
    "def test2(**kwargs):\n",
    "    for i in kwargs.items():\n",
    "        print(i)"
   ]
  },
  {
   "cell_type": "code",
   "execution_count": 6,
   "id": "af48fbb1-0583-46f4-8f3e-6a5a09f57a34",
   "metadata": {},
   "outputs": [
    {
     "name": "stdout",
     "output_type": "stream",
     "text": [
      "('a', 1)\n",
      "('b', 2.5)\n",
      "('c', True)\n",
      "('d', [1, 2, 3, 4, 5])\n",
      "('e', {1, 2, 3, 45})\n"
     ]
    }
   ],
   "source": [
    "test2(a=1,b=2.5,c=True,d=[1,2,3,4,5],e={1,2,3,45})"
   ]
  },
  {
   "cell_type": "code",
   "execution_count": null,
   "id": "5de4736d-4e89-4446-acb4-b3efe3d9decb",
   "metadata": {},
   "outputs": [],
   "source": []
  },
  {
   "cell_type": "markdown",
   "id": "c00e4ed7-54dc-41a4-bf04-d018bfb7cb29",
   "metadata": {},
   "source": [
    "### Problem 3\n",
    "\n",
    "What is an iterator in python? Name the method used to initialise the itertor object and the method used for iteration. Use these methods to print the first five elements of given list [2,4,6,8,10,12,14,16,18,20]"
   ]
  },
  {
   "cell_type": "markdown",
   "id": "f43b763b-685b-4422-bfbf-b16bf50717c3",
   "metadata": {},
   "source": [
    "Ans. iterator in Python is an object that is used to iterate over iterable objects like lists, tuples, dicts, and sets. The iterator object is initialized using the iter() method. It uses the next() method for iteration."
   ]
  },
  {
   "cell_type": "code",
   "execution_count": 7,
   "id": "4fde2b67-6d86-4cca-98a2-f52b543d066e",
   "metadata": {},
   "outputs": [],
   "source": [
    "l = [2,4,6,8,10,12,14,16,18,20]"
   ]
  },
  {
   "cell_type": "code",
   "execution_count": 8,
   "id": "81e44599-88c6-435d-a602-d35183f331c8",
   "metadata": {},
   "outputs": [],
   "source": [
    "r = iter(l)"
   ]
  },
  {
   "cell_type": "code",
   "execution_count": 9,
   "id": "6034d215-68a1-40dc-8eb4-d36fa5bb1e1e",
   "metadata": {},
   "outputs": [
    {
     "data": {
      "text/plain": [
       "2"
      ]
     },
     "execution_count": 9,
     "metadata": {},
     "output_type": "execute_result"
    }
   ],
   "source": [
    "next(r)    # using next function"
   ]
  },
  {
   "cell_type": "code",
   "execution_count": 10,
   "id": "eb1d2c59-aeea-4e2a-9ba0-58529f0c9340",
   "metadata": {},
   "outputs": [
    {
     "data": {
      "text/plain": [
       "4"
      ]
     },
     "execution_count": 10,
     "metadata": {},
     "output_type": "execute_result"
    }
   ],
   "source": [
    "next(r)"
   ]
  },
  {
   "cell_type": "code",
   "execution_count": 11,
   "id": "89356258-db7e-4a8d-bdd6-a6b3a45d1ad4",
   "metadata": {},
   "outputs": [
    {
     "data": {
      "text/plain": [
       "6"
      ]
     },
     "execution_count": 11,
     "metadata": {},
     "output_type": "execute_result"
    }
   ],
   "source": [
    "next(r)"
   ]
  },
  {
   "cell_type": "code",
   "execution_count": 12,
   "id": "defb032d-04c6-43e5-863f-b750bbdde4e0",
   "metadata": {},
   "outputs": [
    {
     "data": {
      "text/plain": [
       "8"
      ]
     },
     "execution_count": 12,
     "metadata": {},
     "output_type": "execute_result"
    }
   ],
   "source": [
    "next(r)"
   ]
  },
  {
   "cell_type": "code",
   "execution_count": 13,
   "id": "1fa4ce0c-01e6-4529-abac-14787f8b235c",
   "metadata": {},
   "outputs": [
    {
     "name": "stdout",
     "output_type": "stream",
     "text": [
      "2\n",
      "4\n",
      "6\n",
      "8\n",
      "10\n",
      "12\n",
      "14\n",
      "16\n",
      "18\n",
      "20\n"
     ]
    }
   ],
   "source": [
    "# using for loop\n",
    "\n",
    "y = iter(l)\n",
    "\n",
    "for i in y:\n",
    "    print(i)"
   ]
  },
  {
   "cell_type": "code",
   "execution_count": null,
   "id": "ccfa34a0-b644-4bd7-bd61-5b81e39b4e47",
   "metadata": {},
   "outputs": [],
   "source": []
  },
  {
   "cell_type": "markdown",
   "id": "7f2605b7-bdba-475d-8ef5-983c1db7ed06",
   "metadata": {},
   "source": [
    "### Problem 4\n",
    "\n",
    "What is generator function in python? Why yield keyword is used? Give an example of a generator function."
   ]
  },
  {
   "cell_type": "markdown",
   "id": "c1ac333d-24f9-4381-bf6e-efe1ede545d8",
   "metadata": {},
   "source": [
    "Ans. In a generator function, a yield statement is used rather than a return statement. Here, the yield keyword is used to produce a value from the generator. When the generator function is called, it does not execute the function body immediately. Instead, it returns a generator object that can be iterated over to produce the values."
   ]
  },
  {
   "cell_type": "code",
   "execution_count": 14,
   "id": "ab6ca883-b837-45ca-aaad-5f278f3a9969",
   "metadata": {},
   "outputs": [],
   "source": [
    "def gen_cube(n):\n",
    "    for i in range(n):\n",
    "        yield i**3"
   ]
  },
  {
   "cell_type": "code",
   "execution_count": 15,
   "id": "c1147c83-42bf-430d-8be5-05f208c2fc62",
   "metadata": {},
   "outputs": [
    {
     "data": {
      "text/plain": [
       "generator"
      ]
     },
     "execution_count": 15,
     "metadata": {},
     "output_type": "execute_result"
    }
   ],
   "source": [
    "type(gen_cube(10))"
   ]
  },
  {
   "cell_type": "code",
   "execution_count": 16,
   "id": "a2a7ceeb-ed88-4925-8c47-af2b1178a64f",
   "metadata": {},
   "outputs": [
    {
     "name": "stdout",
     "output_type": "stream",
     "text": [
      "0\n",
      "1\n",
      "8\n",
      "27\n",
      "64\n",
      "125\n",
      "216\n",
      "343\n",
      "512\n",
      "729\n"
     ]
    }
   ],
   "source": [
    "# we can use for loop to get the value\n",
    "\n",
    "for i in gen_cube(10):\n",
    "    print(i)"
   ]
  },
  {
   "cell_type": "code",
   "execution_count": 17,
   "id": "c7f9bf9b-3849-406f-94d1-e77c8759f717",
   "metadata": {},
   "outputs": [],
   "source": [
    "# we cna use next() to print individual value\n",
    "\n",
    "p = gen_cube(10)"
   ]
  },
  {
   "cell_type": "code",
   "execution_count": 18,
   "id": "5b38c9f1-d695-4f13-ba19-d94287b8e953",
   "metadata": {},
   "outputs": [
    {
     "data": {
      "text/plain": [
       "0"
      ]
     },
     "execution_count": 18,
     "metadata": {},
     "output_type": "execute_result"
    }
   ],
   "source": [
    "next(p)"
   ]
  },
  {
   "cell_type": "code",
   "execution_count": 19,
   "id": "112df451-0a33-45b7-99f8-30c50027bad4",
   "metadata": {},
   "outputs": [
    {
     "data": {
      "text/plain": [
       "1"
      ]
     },
     "execution_count": 19,
     "metadata": {},
     "output_type": "execute_result"
    }
   ],
   "source": [
    "next(p)"
   ]
  },
  {
   "cell_type": "code",
   "execution_count": 20,
   "id": "b66bd40c-d0aa-41c1-9fce-b7c135990509",
   "metadata": {},
   "outputs": [
    {
     "data": {
      "text/plain": [
       "8"
      ]
     },
     "execution_count": 20,
     "metadata": {},
     "output_type": "execute_result"
    }
   ],
   "source": [
    "next(p)"
   ]
  },
  {
   "cell_type": "code",
   "execution_count": 21,
   "id": "3e0e3184-0e33-4a91-ab5b-c25479f44652",
   "metadata": {},
   "outputs": [
    {
     "data": {
      "text/plain": [
       "27"
      ]
     },
     "execution_count": 21,
     "metadata": {},
     "output_type": "execute_result"
    }
   ],
   "source": [
    "next(p)"
   ]
  },
  {
   "cell_type": "code",
   "execution_count": 22,
   "id": "87fffc72-8584-4bd9-8bea-ae568d36b3bb",
   "metadata": {},
   "outputs": [
    {
     "data": {
      "text/plain": [
       "64"
      ]
     },
     "execution_count": 22,
     "metadata": {},
     "output_type": "execute_result"
    }
   ],
   "source": [
    "next(p)"
   ]
  },
  {
   "cell_type": "code",
   "execution_count": null,
   "id": "f047c219-35b8-4b9c-8683-0fda1f9dd78d",
   "metadata": {},
   "outputs": [],
   "source": []
  },
  {
   "cell_type": "markdown",
   "id": "53586141-f7cd-4b3c-829f-db10b7dd8118",
   "metadata": {},
   "source": [
    "### Problem 5\n",
    "\n",
    "Create a generator function for prime numbers less than 1000. Use next() methode to print the first 20 prime numbers."
   ]
  },
  {
   "cell_type": "code",
   "execution_count": 23,
   "id": "cadbcc85-f090-496e-8637-96df19426512",
   "metadata": {},
   "outputs": [],
   "source": [
    "def prime_num(n):\n",
    "    for i in range(1,n+1):\n",
    "        for j in range(2,i):\n",
    "            if i%j==0:\n",
    "                break\n",
    "        else:\n",
    "            yield i"
   ]
  },
  {
   "cell_type": "code",
   "execution_count": 24,
   "id": "831c8da3-b49b-49a6-a6cc-cdc1cc35fee4",
   "metadata": {},
   "outputs": [],
   "source": [
    "x = prime_num(1000)"
   ]
  },
  {
   "cell_type": "code",
   "execution_count": 25,
   "id": "2d381727-a02c-4a1e-a2bc-94de80a65431",
   "metadata": {},
   "outputs": [
    {
     "data": {
      "text/plain": [
       "generator"
      ]
     },
     "execution_count": 25,
     "metadata": {},
     "output_type": "execute_result"
    }
   ],
   "source": [
    "type(x)   ## generator type"
   ]
  },
  {
   "cell_type": "code",
   "execution_count": 26,
   "id": "63dd338b-4780-4e76-9929-864f9a6d0741",
   "metadata": {},
   "outputs": [
    {
     "name": "stdout",
     "output_type": "stream",
     "text": [
      "1\n",
      "2\n",
      "3\n",
      "5\n",
      "7\n",
      "11\n",
      "13\n",
      "17\n",
      "19\n",
      "23\n",
      "29\n",
      "31\n",
      "37\n",
      "41\n",
      "43\n",
      "47\n",
      "53\n",
      "59\n",
      "61\n",
      "67\n",
      "71\n"
     ]
    }
   ],
   "source": [
    "# using for loop to print first 20 prime number\n",
    "\n",
    "count = 0\n",
    "for i in prime_num(1000):\n",
    "    if count<=20:\n",
    "        print(i)\n",
    "    else:\n",
    "        break\n",
    "    count = count +1"
   ]
  },
  {
   "cell_type": "code",
   "execution_count": 49,
   "id": "0da6f27b-00a2-4eac-8402-7d0188ab377b",
   "metadata": {},
   "outputs": [],
   "source": [
    "# using next to print first 20 prime number\n",
    "\n",
    "x = prime_num(1000)"
   ]
  },
  {
   "cell_type": "code",
   "execution_count": 28,
   "id": "7a4f7692-c736-48ac-a213-7ff307e28eb9",
   "metadata": {},
   "outputs": [
    {
     "data": {
      "text/plain": [
       "1"
      ]
     },
     "execution_count": 28,
     "metadata": {},
     "output_type": "execute_result"
    }
   ],
   "source": [
    "next(x)"
   ]
  },
  {
   "cell_type": "code",
   "execution_count": 29,
   "id": "eba8be48-747d-4c28-8034-c1aee3dbf457",
   "metadata": {},
   "outputs": [
    {
     "data": {
      "text/plain": [
       "2"
      ]
     },
     "execution_count": 29,
     "metadata": {},
     "output_type": "execute_result"
    }
   ],
   "source": [
    "next(x)"
   ]
  },
  {
   "cell_type": "code",
   "execution_count": 30,
   "id": "c5e279f8-b54c-43c1-8401-c759dce4bf80",
   "metadata": {},
   "outputs": [
    {
     "data": {
      "text/plain": [
       "3"
      ]
     },
     "execution_count": 30,
     "metadata": {},
     "output_type": "execute_result"
    }
   ],
   "source": [
    "next(x)"
   ]
  },
  {
   "cell_type": "code",
   "execution_count": 31,
   "id": "022f4fc1-6368-483d-a046-8850c950d901",
   "metadata": {},
   "outputs": [
    {
     "data": {
      "text/plain": [
       "5"
      ]
     },
     "execution_count": 31,
     "metadata": {},
     "output_type": "execute_result"
    }
   ],
   "source": [
    "next(x)"
   ]
  },
  {
   "cell_type": "code",
   "execution_count": 32,
   "id": "278e3091-8d3f-4761-9d75-2a88a8229edc",
   "metadata": {},
   "outputs": [
    {
     "data": {
      "text/plain": [
       "7"
      ]
     },
     "execution_count": 32,
     "metadata": {},
     "output_type": "execute_result"
    }
   ],
   "source": [
    "next(x)"
   ]
  },
  {
   "cell_type": "code",
   "execution_count": 33,
   "id": "a5ff9815-2639-4a2e-9d1e-95eff5a0d17c",
   "metadata": {},
   "outputs": [
    {
     "data": {
      "text/plain": [
       "11"
      ]
     },
     "execution_count": 33,
     "metadata": {},
     "output_type": "execute_result"
    }
   ],
   "source": [
    "next(x)"
   ]
  },
  {
   "cell_type": "code",
   "execution_count": 34,
   "id": "0645d7a5-43f2-4bf0-baea-e6a3d9b4cdec",
   "metadata": {},
   "outputs": [
    {
     "data": {
      "text/plain": [
       "13"
      ]
     },
     "execution_count": 34,
     "metadata": {},
     "output_type": "execute_result"
    }
   ],
   "source": [
    "next(x)"
   ]
  },
  {
   "cell_type": "code",
   "execution_count": 35,
   "id": "d7884a42-3a53-4ebb-9568-2906b2a59c23",
   "metadata": {},
   "outputs": [
    {
     "data": {
      "text/plain": [
       "17"
      ]
     },
     "execution_count": 35,
     "metadata": {},
     "output_type": "execute_result"
    }
   ],
   "source": [
    "next(x)"
   ]
  },
  {
   "cell_type": "code",
   "execution_count": 36,
   "id": "713e70d2-c835-41f4-aa69-a0a51044a043",
   "metadata": {},
   "outputs": [
    {
     "data": {
      "text/plain": [
       "19"
      ]
     },
     "execution_count": 36,
     "metadata": {},
     "output_type": "execute_result"
    }
   ],
   "source": [
    "next(x)"
   ]
  },
  {
   "cell_type": "code",
   "execution_count": 37,
   "id": "500bcf1b-ae7c-489e-803b-1b47fd765026",
   "metadata": {},
   "outputs": [
    {
     "data": {
      "text/plain": [
       "23"
      ]
     },
     "execution_count": 37,
     "metadata": {},
     "output_type": "execute_result"
    }
   ],
   "source": [
    "next(x)"
   ]
  },
  {
   "cell_type": "code",
   "execution_count": 38,
   "id": "734f12ad-fcba-4adf-aa8d-239cb984a759",
   "metadata": {},
   "outputs": [
    {
     "data": {
      "text/plain": [
       "29"
      ]
     },
     "execution_count": 38,
     "metadata": {},
     "output_type": "execute_result"
    }
   ],
   "source": [
    "next(x)"
   ]
  },
  {
   "cell_type": "code",
   "execution_count": 39,
   "id": "ebbdb983-b68a-4402-9692-01e4477a71eb",
   "metadata": {},
   "outputs": [
    {
     "data": {
      "text/plain": [
       "31"
      ]
     },
     "execution_count": 39,
     "metadata": {},
     "output_type": "execute_result"
    }
   ],
   "source": [
    "next(x)"
   ]
  },
  {
   "cell_type": "code",
   "execution_count": 40,
   "id": "3d5766cc-c34b-41ec-9a5a-bd67ae971eca",
   "metadata": {},
   "outputs": [
    {
     "data": {
      "text/plain": [
       "37"
      ]
     },
     "execution_count": 40,
     "metadata": {},
     "output_type": "execute_result"
    }
   ],
   "source": [
    "next(x)\n"
   ]
  },
  {
   "cell_type": "code",
   "execution_count": 41,
   "id": "2ad8d924-ea60-4fb6-ad10-a3bc1492cbc4",
   "metadata": {},
   "outputs": [
    {
     "data": {
      "text/plain": [
       "41"
      ]
     },
     "execution_count": 41,
     "metadata": {},
     "output_type": "execute_result"
    }
   ],
   "source": [
    "next(x)"
   ]
  },
  {
   "cell_type": "code",
   "execution_count": 42,
   "id": "024425d4-c074-42d1-bba7-6869c2ef02b5",
   "metadata": {},
   "outputs": [
    {
     "data": {
      "text/plain": [
       "43"
      ]
     },
     "execution_count": 42,
     "metadata": {},
     "output_type": "execute_result"
    }
   ],
   "source": [
    "next(x)"
   ]
  },
  {
   "cell_type": "code",
   "execution_count": 43,
   "id": "fd68a0bd-e41f-4b73-8323-d21180bc19d4",
   "metadata": {},
   "outputs": [
    {
     "data": {
      "text/plain": [
       "47"
      ]
     },
     "execution_count": 43,
     "metadata": {},
     "output_type": "execute_result"
    }
   ],
   "source": [
    "next(x)"
   ]
  },
  {
   "cell_type": "code",
   "execution_count": 44,
   "id": "aa29451b-f182-4f5c-b767-a98cd5a8deab",
   "metadata": {},
   "outputs": [
    {
     "data": {
      "text/plain": [
       "53"
      ]
     },
     "execution_count": 44,
     "metadata": {},
     "output_type": "execute_result"
    }
   ],
   "source": [
    "next(x)"
   ]
  },
  {
   "cell_type": "code",
   "execution_count": 45,
   "id": "3b16c4c1-6bca-48ea-989d-bc9f5ec6be29",
   "metadata": {},
   "outputs": [
    {
     "data": {
      "text/plain": [
       "59"
      ]
     },
     "execution_count": 45,
     "metadata": {},
     "output_type": "execute_result"
    }
   ],
   "source": [
    "next(x)"
   ]
  },
  {
   "cell_type": "code",
   "execution_count": 46,
   "id": "9d33e770-0951-49f8-91ac-ba7a7138086d",
   "metadata": {},
   "outputs": [
    {
     "data": {
      "text/plain": [
       "61"
      ]
     },
     "execution_count": 46,
     "metadata": {},
     "output_type": "execute_result"
    }
   ],
   "source": [
    "next(x)"
   ]
  },
  {
   "cell_type": "code",
   "execution_count": 47,
   "id": "1640afac-ab7f-470e-9c6c-d4ff0dd6c6f1",
   "metadata": {},
   "outputs": [
    {
     "data": {
      "text/plain": [
       "67"
      ]
     },
     "execution_count": 47,
     "metadata": {},
     "output_type": "execute_result"
    }
   ],
   "source": [
    "next(x)"
   ]
  },
  {
   "cell_type": "code",
   "execution_count": 48,
   "id": "9875d919-e684-4ad7-ae69-12fd84b5b0e8",
   "metadata": {},
   "outputs": [
    {
     "data": {
      "text/plain": [
       "71"
      ]
     },
     "execution_count": 48,
     "metadata": {},
     "output_type": "execute_result"
    }
   ],
   "source": [
    "next(x)"
   ]
  }
 ],
 "metadata": {
  "kernelspec": {
   "display_name": "Python 3 (ipykernel)",
   "language": "python",
   "name": "python3"
  },
  "language_info": {
   "codemirror_mode": {
    "name": "ipython",
    "version": 3
   },
   "file_extension": ".py",
   "mimetype": "text/x-python",
   "name": "python",
   "nbconvert_exporter": "python",
   "pygments_lexer": "ipython3",
   "version": "3.10.8"
  }
 },
 "nbformat": 4,
 "nbformat_minor": 5
}
