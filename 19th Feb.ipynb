{
 "cells": [
  {
   "cell_type": "markdown",
   "id": "95a6e405-ba49-45b0-9cac-7148d243598d",
   "metadata": {},
   "source": [
    "Q1. What is Flask Framework? What are the advantages of Flask Framework?"
   ]
  },
  {
   "cell_type": "markdown",
   "id": "413fd0f3-0689-42a9-93d4-1c78ef8c0d08",
   "metadata": {},
   "source": [
    "Ans. Flask is a lightweight and flexible web framework for building web applications in Python. It is designed to be easy to use and does not have too many restrictions or pre-defined structures, which makes it suitable for building small to medium-sized web applications.\n",
    "\n",
    "Flask is classified as a \"micro\" framework because it does not require any particular tools or libraries and provides only the essential features needed for web application development, such as URL routing, template rendering, and request handling."
   ]
  },
  {
   "cell_type": "markdown",
   "id": "bd4223f9-2880-447c-a30b-b54b77b1cb0e",
   "metadata": {},
   "source": [
    "There are several advantages of using Flask for web development in Python:\n",
    "\n",
    "1. Simplicity: Flask is a lightweight framework with a simple API, making it easy to learn and use for building web applications.\n",
    "\n",
    "2. Flexibility: Flask is flexible in terms of application structure and allows developers to choose the tools and libraries they want to use.\n",
    "\n",
    "3. Modular design: Flask is built on a modular design that allows developers to add or remove components as needed, making it easy to build custom web applications.\n",
    "\n",
    "4. Extensibility: Flask has a large number of third-party extensions that provide additional functionality, such as database integration, authentication, and testing tools.\n",
    "\n",
    "5. Compatibility: Flask works well with a variety of other tools and libraries in the Python ecosystem, making it easy to integrate with existing systems.\n",
    "\n",
    "6. Scalability: Flask is a lightweight framework that can handle a large number of requests per second, making it suitable for building scalable web applications.\n",
    "\n",
    "7. Community: Flask has a large and active community of developers, which means there is a lot of support and resources available for developers using the framework."
   ]
  },
  {
   "cell_type": "code",
   "execution_count": null,
   "id": "514b4af4-8f98-4f24-bd13-7a3526a7f374",
   "metadata": {},
   "outputs": [],
   "source": []
  },
  {
   "cell_type": "markdown",
   "id": "d53e88bd-ae0c-4e50-a4ac-8348d991841c",
   "metadata": {},
   "source": [
    "Q2. Create a simple Flask application to display ‘Hello World!!’. Attach the screenshot of the output in\n",
    "Jupyter Notebook."
   ]
  },
  {
   "cell_type": "code",
   "execution_count": 1,
   "id": "afd60648-aeb7-49b0-9779-25922c536248",
   "metadata": {},
   "outputs": [
    {
     "name": "stdout",
     "output_type": "stream",
     "text": [
      " * Serving Flask app '__main__'\n",
      " * Debug mode: off\n"
     ]
    },
    {
     "name": "stderr",
     "output_type": "stream",
     "text": [
      "WARNING: This is a development server. Do not use it in a production deployment. Use a production WSGI server instead.\n",
      " * Running on all addresses (0.0.0.0)\n",
      " * Running on http://127.0.0.1:5000\n",
      " * Running on http://172.18.0.3:5000\n",
      "Press CTRL+C to quit\n"
     ]
    }
   ],
   "source": [
    "from flask import Flask\n",
    "\n",
    "app = Flask(__name__)\n",
    "\n",
    "@app.route(\"/\")\n",
    "def hello_world():\n",
    "    return \"Hello, World!\"\n",
    "\n",
    "if __name__==\"__main__\":\n",
    "    app.run(host=\"0.0.0.0\")"
   ]
  },
  {
   "cell_type": "code",
   "execution_count": 2,
   "id": "6bff22a7-cfa2-4181-8176-9c95557c72a5",
   "metadata": {},
   "outputs": [
    {
     "data": {
      "text/html": [
       "<img src=\"hello.PNG\"/>"
      ],
      "text/plain": [
       "<IPython.core.display.Image object>"
      ]
     },
     "execution_count": 2,
     "metadata": {},
     "output_type": "execute_result"
    }
   ],
   "source": [
    "from IPython.display import Image\n",
    "  \n",
    "# get the image\n",
    "Image(url=\"hello.PNG\")"
   ]
  },
  {
   "cell_type": "code",
   "execution_count": null,
   "id": "ee748d3c-4f48-4c0f-bdc8-49ed78321de6",
   "metadata": {},
   "outputs": [],
   "source": []
  },
  {
   "cell_type": "markdown",
   "id": "11118c1e-6855-4f10-bfa3-9dbfd981d0ec",
   "metadata": {},
   "source": [
    "Q3. What is App routing in Flask? Why do we use app routes?\n"
   ]
  },
  {
   "cell_type": "markdown",
   "id": "05326798-1e53-471d-af55-30263dbbf91c",
   "metadata": {},
   "source": [
    "Ans. App routing in Flask refers to the process of mapping URLs to specific functions or views in a Flask application. This allows the application to respond to different requests from the client by executing the appropriate function and returning the result as an HTTP response.\n",
    "\n",
    "We use app routes in Flask to create a structured and organized way to handle different requests from the client. This helps to keep the application code manageable and easy to understand. App routes also allow us to create RESTful APIs, where different routes correspond to different resources or actions that can be performed on those resources."
   ]
  },
  {
   "cell_type": "markdown",
   "id": "027ed513-ec76-4d3e-bf8f-6618adbf3c3e",
   "metadata": {},
   "source": []
  },
  {
   "cell_type": "markdown",
   "id": "0e1e9dc4-7173-4f1c-9546-49a930c9f48b",
   "metadata": {},
   "source": [
    "Q4. Create a “/welcome” route to display the welcome message “Welcome to ABC Corporation” and a “/”\n",
    "route to show the following details:\n",
    "Company Name: ABC Corporation\n",
    "Location: India\n",
    "Contact Detail: 999-999-9999\n",
    "Attach the screenshot of the output in Jupyter Notebook."
   ]
  },
  {
   "cell_type": "code",
   "execution_count": 3,
   "id": "ff0e4313-3a46-4d58-bfb6-2906e5266a75",
   "metadata": {},
   "outputs": [
    {
     "name": "stdout",
     "output_type": "stream",
     "text": [
      " * Serving Flask app '__main__'\n",
      " * Debug mode: off\n"
     ]
    },
    {
     "name": "stderr",
     "output_type": "stream",
     "text": [
      "WARNING: This is a development server. Do not use it in a production deployment. Use a production WSGI server instead.\n",
      " * Running on all addresses (0.0.0.0)\n",
      " * Running on http://127.0.0.1:5000\n",
      " * Running on http://172.18.0.3:5000\n",
      "Press CTRL+C to quit\n"
     ]
    }
   ],
   "source": [
    "from flask import Flask\n",
    "\n",
    "app = Flask(__name__)\n",
    "\n",
    "@app.route(\"/welcome\")\n",
    "def welcome():\n",
    "    return \"welcome to ABC corporation..!\"\n",
    "\n",
    "@app.route(\"/\")\n",
    "def details():\n",
    "    return \"Company Name: ABC Corporation , Location: India , Contact Detail: 999-999-9999\"\n",
    "\n",
    "if __name__==\"__main__\":\n",
    "    app.run(host=\"0.0.0.0\")"
   ]
  },
  {
   "cell_type": "code",
   "execution_count": 4,
   "id": "0090091c-3bab-4c33-94af-6a2a5be405d2",
   "metadata": {},
   "outputs": [
    {
     "data": {
      "text/html": [
       "<img src=\"details.PNG\"/>"
      ],
      "text/plain": [
       "<IPython.core.display.Image object>"
      ]
     },
     "execution_count": 4,
     "metadata": {},
     "output_type": "execute_result"
    }
   ],
   "source": [
    "Image(url=\"details.PNG\")"
   ]
  },
  {
   "cell_type": "code",
   "execution_count": null,
   "id": "e44a20dd-2bb7-48b2-9c74-4c1773399b7e",
   "metadata": {},
   "outputs": [],
   "source": []
  },
  {
   "cell_type": "markdown",
   "id": "150f6e55-f3e9-4ad5-ae12-161c35e005ec",
   "metadata": {},
   "source": [
    "Q5. What function is used in Flask for URL Building? Write a Python code to demonstrate the working of the\n",
    "url_for() function."
   ]
  },
  {
   "cell_type": "markdown",
   "id": "297887c9-3d2f-4f1e-8af8-72c588dfa782",
   "metadata": {},
   "source": [
    "Ans. The url_for() function is used in Flask for URL building."
   ]
  },
  {
   "cell_type": "code",
   "execution_count": 5,
   "id": "939d3025-4468-46c3-ae5b-0aef04bff35d",
   "metadata": {},
   "outputs": [
    {
     "name": "stdout",
     "output_type": "stream",
     "text": [
      " * Serving Flask app '__main__'\n",
      " * Debug mode: off\n"
     ]
    },
    {
     "name": "stderr",
     "output_type": "stream",
     "text": [
      "WARNING: This is a development server. Do not use it in a production deployment. Use a production WSGI server instead.\n",
      " * Running on all addresses (0.0.0.0)\n",
      " * Running on http://127.0.0.1:5000\n",
      " * Running on http://172.18.0.3:5000\n",
      "Press CTRL+C to quit\n"
     ]
    }
   ],
   "source": [
    "from flask import Flask, redirect, url_for, render_template, request\n",
    "\n",
    "app = Flask(__name__)\n",
    "\n",
    "@app.route('/cricket/<favteam>')\n",
    "def cricket(favteam):\n",
    "\treturn f\"your fav sports is cricket and fav team is {favteam}\"\n",
    "\n",
    "@app.route('/baseball/<favteam>')\n",
    "def baseball(favteam):\n",
    "\treturn f\"your fav sports is baseball and fav team is {favteam}\"\n",
    "\n",
    "@app.route('/<sport>/<favteam>')\n",
    "def sport_team(sport,favteam):\n",
    "    if sport==\"cricket\":\n",
    "        return redirect(url_for('cricket'))\n",
    "    \n",
    "    elif sport == \"baseball\":\n",
    "        return redirect(url_for(\"baseball\"))\n",
    "    else:\n",
    "        pass\n",
    "\n",
    "if __name__==\"__main__\":\n",
    "    app.run(host=\"0.0.0.0\")\n",
    "\n"
   ]
  },
  {
   "cell_type": "code",
   "execution_count": 6,
   "id": "9012eb1f-6958-4036-8aca-24caa868fdeb",
   "metadata": {},
   "outputs": [
    {
     "data": {
      "text/html": [
       "<img src=\"sport_cricket.PNG\"/>"
      ],
      "text/plain": [
       "<IPython.core.display.Image object>"
      ]
     },
     "execution_count": 6,
     "metadata": {},
     "output_type": "execute_result"
    }
   ],
   "source": [
    "Image(url=\"sport_cricket.PNG\")"
   ]
  },
  {
   "cell_type": "code",
   "execution_count": 7,
   "id": "e70a15e9-6d77-45b3-9f81-6bc099c89989",
   "metadata": {},
   "outputs": [
    {
     "data": {
      "text/html": [
       "<img src=\"sport_baseball.PNG\"/>"
      ],
      "text/plain": [
       "<IPython.core.display.Image object>"
      ]
     },
     "execution_count": 7,
     "metadata": {},
     "output_type": "execute_result"
    }
   ],
   "source": [
    "Image(url=\"sport_baseball.PNG\")"
   ]
  },
  {
   "cell_type": "code",
   "execution_count": null,
   "id": "00fd016f-a668-40c7-9484-e426d69f3579",
   "metadata": {},
   "outputs": [],
   "source": []
  }
 ],
 "metadata": {
  "kernelspec": {
   "display_name": "Python 3 (ipykernel)",
   "language": "python",
   "name": "python3"
  },
  "language_info": {
   "codemirror_mode": {
    "name": "ipython",
    "version": 3
   },
   "file_extension": ".py",
   "mimetype": "text/x-python",
   "name": "python",
   "nbconvert_exporter": "python",
   "pygments_lexer": "ipython3",
   "version": "3.10.8"
  }
 },
 "nbformat": 4,
 "nbformat_minor": 5
}
