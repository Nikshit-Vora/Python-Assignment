{
 "cells": [
  {
   "cell_type": "markdown",
   "id": "249136e8-0f67-47d8-bdc1-0d1f74dd6e0b",
   "metadata": {},
   "source": [
    "Q1. You are writing code for a company. The requirement of the company is that you create a python \n",
    "function that will check whether the password entered by the user is correct or not. The function should \n",
    "take the password as input and return the string “Valid Password” if the entered password follows the \n",
    "below-given password guidelines else it should return “Invalid Password”.\n",
    "\n",
    "\n",
    "Note: \n",
    "\n",
    "1. The Password should contain at least two uppercase letters and at least two lowercase letters.\n",
    "\n",
    "2. The Password should contain at least a number and three special characters.\n",
    "\n",
    "3. The length of the password should be 10 characters long.\n",
    "\n",
    "\n"
   ]
  },
  {
   "cell_type": "code",
   "execution_count": 51,
   "id": "b0662d95-1676-4b7a-a362-346d360a72ce",
   "metadata": {},
   "outputs": [],
   "source": [
    "def check_password(n):\n",
    "        \n",
    "    # two upper case count\n",
    "    password_upper_case = False\n",
    "    \n",
    "    upper_count = 0\n",
    "    for i in n:\n",
    "        if i.isupper():\n",
    "            upper_count = upper_count+1\n",
    "            if upper_count == 2:\n",
    "                password_upper_case = True\n",
    "                \n",
    "                \n",
    "    # two lower case count\n",
    "    password_lower_case = False\n",
    "    \n",
    "    lower_count = 0\n",
    "    for i in n:\n",
    "        if i.islower():\n",
    "            lower_count = lower_count+1\n",
    "            if lower_count == 2:\n",
    "                password_lower_case = True\n",
    "                \n",
    "                \n",
    "    # atleast one integer\n",
    "    contain_int = False\n",
    "    \n",
    "    int_count = 0\n",
    "    for i in n:\n",
    "        if i.isnumeric()==True:\n",
    "            int_count = int_count + 1\n",
    "            contain_int = True\n",
    "            break\n",
    "    \n",
    "    # speical char count\n",
    "    char_lst = \"@_!#$%^&*()<>?/\\|}{~:]\"\n",
    "    \n",
    "    special_char = False\n",
    "    \n",
    "    char_count = 0\n",
    "    for i in n:\n",
    "        if i in char_lst:\n",
    "            char_count = char_count + 1\n",
    "            if char_count == 3:\n",
    "                special_char = True\n",
    "                break\n",
    "                \n",
    "                \n",
    "    # password length\n",
    "    password_length = False\n",
    "    if len(n) >= 10:\n",
    "        password_length = True\n",
    "    \n",
    "    \n",
    "    # checking all criteria..\n",
    "    if password_upper_case and password_lower_case and int_count and special_char and password_length:\n",
    "        return \"valid password\"\n",
    "    else:\n",
    "        return \"invalid password.\""
   ]
  },
  {
   "cell_type": "code",
   "execution_count": 55,
   "id": "3fc44124-c0fc-4430-96f6-259657237481",
   "metadata": {},
   "outputs": [
    {
     "data": {
      "text/plain": [
       "'valid password'"
      ]
     },
     "execution_count": 55,
     "metadata": {},
     "output_type": "execute_result"
    }
   ],
   "source": [
    "check_password(\"Hello_Python123$%\")"
   ]
  },
  {
   "cell_type": "code",
   "execution_count": null,
   "id": "522e8432-e112-446e-9c3c-5c41863c01f5",
   "metadata": {},
   "outputs": [],
   "source": []
  },
  {
   "cell_type": "markdown",
   "id": "39019942-bd20-486f-abac-ace72799038c",
   "metadata": {},
   "source": [
    "Q2. Solve the below-given questions using at least one of the following: \n",
    "\n",
    "1. Lambda function\n",
    "2. Filter function\n",
    "3. Zip function\n",
    "4. List Comprehension\n",
    "\n",
    "- Check if the string starts with a particular letter\n",
    "- Check if the string is numeric\n",
    "- Sort a list of tuples having fruit names and their quantity. [(\"mango\",99),(\"orange\",80), (\"grapes\", 1000)]\n",
    "- Find the squares of numbers from 1 to 10\n",
    "- Find the cube root of numbers from 1 to 10\n",
    "- Check if a given number is even\n",
    "\n",
    "- Filter odd numbers from the given list. [1,2,3,4,5,6,7,8,9,10]\n",
    "- Sort a list of integers into positive and negative integers lists. [1,2,3,4,5,6,-1,-2,-3,-4,-5,0]"
   ]
  },
  {
   "cell_type": "code",
   "execution_count": 13,
   "id": "13c0a4f9-dab0-4dbe-9200-c13fe2293a5b",
   "metadata": {},
   "outputs": [],
   "source": [
    "# Check if the string starts with a particular letter\n",
    "\n",
    "str_with_letter = lambda x : \"Yes, string start with letter..\" if (x[0]).isalpha() else \"No, string do not start with letter.\""
   ]
  },
  {
   "cell_type": "code",
   "execution_count": 14,
   "id": "901c143e-7010-4b27-9f63-01cffcb84188",
   "metadata": {},
   "outputs": [
    {
     "data": {
      "text/plain": [
       "'No, string do not start with letter.'"
      ]
     },
     "execution_count": 14,
     "metadata": {},
     "output_type": "execute_result"
    }
   ],
   "source": [
    "str_with_letter(\"123\")"
   ]
  },
  {
   "cell_type": "code",
   "execution_count": 15,
   "id": "bd226781-7821-4031-9bb8-2585724b68af",
   "metadata": {},
   "outputs": [
    {
     "data": {
      "text/plain": [
       "'Yes, string start with letter..'"
      ]
     },
     "execution_count": 15,
     "metadata": {},
     "output_type": "execute_result"
    }
   ],
   "source": [
    "str_with_letter(\"abc123\")"
   ]
  },
  {
   "cell_type": "code",
   "execution_count": null,
   "id": "7e5d4a43-d26e-44ef-b033-4e6840010e0b",
   "metadata": {},
   "outputs": [],
   "source": []
  },
  {
   "cell_type": "code",
   "execution_count": 16,
   "id": "c11afb49-dac5-47fb-a434-9e6c45d8a339",
   "metadata": {},
   "outputs": [],
   "source": [
    "# Check if the string is numeric\n",
    "\n",
    "str_isnumeric = lambda x : x.isnumeric()"
   ]
  },
  {
   "cell_type": "code",
   "execution_count": 17,
   "id": "614e4920-4be8-4d97-89aa-d5f27cf533d0",
   "metadata": {},
   "outputs": [
    {
     "data": {
      "text/plain": [
       "False"
      ]
     },
     "execution_count": 17,
     "metadata": {},
     "output_type": "execute_result"
    }
   ],
   "source": [
    "str_isnumeric(\"hello world\")"
   ]
  },
  {
   "cell_type": "code",
   "execution_count": 18,
   "id": "b4d5eca7-d443-4136-a7c5-926e4ed9ce70",
   "metadata": {},
   "outputs": [
    {
     "data": {
      "text/plain": [
       "True"
      ]
     },
     "execution_count": 18,
     "metadata": {},
     "output_type": "execute_result"
    }
   ],
   "source": [
    "str_isnumeric(\"12345678910\")"
   ]
  },
  {
   "cell_type": "code",
   "execution_count": null,
   "id": "9a398985-84fd-4416-874e-51bf8f55b021",
   "metadata": {},
   "outputs": [],
   "source": []
  },
  {
   "cell_type": "code",
   "execution_count": 20,
   "id": "c136ef70-f74e-42d0-abd9-6bddb28b49f2",
   "metadata": {},
   "outputs": [],
   "source": [
    "# Sort a list of tuples having fruit names and their quantity. \n",
    "\n",
    "n = [(\"mango\",99),(\"orange\",80), (\"grapes\", 1000)]\n",
    "n.sort(key=lambda x : x[1])"
   ]
  },
  {
   "cell_type": "code",
   "execution_count": 21,
   "id": "70c18ae5-a060-4c4e-a0a2-d1bfda32bb56",
   "metadata": {},
   "outputs": [
    {
     "data": {
      "text/plain": [
       "[('orange', 80), ('mango', 99), ('grapes', 1000)]"
      ]
     },
     "execution_count": 21,
     "metadata": {},
     "output_type": "execute_result"
    }
   ],
   "source": [
    "n"
   ]
  },
  {
   "cell_type": "code",
   "execution_count": null,
   "id": "156a1463-ea80-4126-91c9-85c6a487be7e",
   "metadata": {},
   "outputs": [],
   "source": []
  },
  {
   "cell_type": "code",
   "execution_count": 28,
   "id": "b1bef958-aefd-47be-8bc8-b121ee65382b",
   "metadata": {},
   "outputs": [],
   "source": [
    "# Find the squares of numbers from 1 to 10\n",
    "\n",
    "num_square = [i**2 for i in range(1,11)]"
   ]
  },
  {
   "cell_type": "code",
   "execution_count": 29,
   "id": "75d4855b-ef8a-41f4-b8b4-e8a47f4fb748",
   "metadata": {},
   "outputs": [
    {
     "data": {
      "text/plain": [
       "[1, 4, 9, 16, 25, 36, 49, 64, 81, 100]"
      ]
     },
     "execution_count": 29,
     "metadata": {},
     "output_type": "execute_result"
    }
   ],
   "source": [
    "num_square"
   ]
  },
  {
   "cell_type": "code",
   "execution_count": null,
   "id": "a1358d6e-1031-4762-a3ce-085894e4fc97",
   "metadata": {},
   "outputs": [],
   "source": []
  },
  {
   "cell_type": "code",
   "execution_count": 30,
   "id": "d3a95127-a7ac-4ce1-8152-5e1e4354b771",
   "metadata": {},
   "outputs": [],
   "source": [
    "# Find the cube root of numbers from 1 to 10\n",
    "\n",
    "num_cube = [i**3 for i in range(1,11)]"
   ]
  },
  {
   "cell_type": "code",
   "execution_count": 31,
   "id": "77f226c3-8497-42fa-a0cf-7680b6de0fed",
   "metadata": {},
   "outputs": [
    {
     "data": {
      "text/plain": [
       "[1, 8, 27, 64, 125, 216, 343, 512, 729, 1000]"
      ]
     },
     "execution_count": 31,
     "metadata": {},
     "output_type": "execute_result"
    }
   ],
   "source": [
    "num_cube"
   ]
  },
  {
   "cell_type": "code",
   "execution_count": null,
   "id": "7a2156df-d5f7-430f-8635-a2cc84790f55",
   "metadata": {},
   "outputs": [],
   "source": []
  },
  {
   "cell_type": "code",
   "execution_count": 32,
   "id": "691592dd-62ea-4b7a-9af3-0eaba3ea4985",
   "metadata": {},
   "outputs": [],
   "source": [
    "# Check if a given number is even\n",
    "\n",
    "even_check = lambda x : x%2==0"
   ]
  },
  {
   "cell_type": "code",
   "execution_count": 33,
   "id": "eda3af78-8f7c-4d3f-b37a-2e9f797ec076",
   "metadata": {},
   "outputs": [
    {
     "data": {
      "text/plain": [
       "False"
      ]
     },
     "execution_count": 33,
     "metadata": {},
     "output_type": "execute_result"
    }
   ],
   "source": [
    "even_check(5)"
   ]
  },
  {
   "cell_type": "code",
   "execution_count": 34,
   "id": "fb1c028d-8680-4c11-bdb4-69b81a9dc4e5",
   "metadata": {},
   "outputs": [
    {
     "data": {
      "text/plain": [
       "True"
      ]
     },
     "execution_count": 34,
     "metadata": {},
     "output_type": "execute_result"
    }
   ],
   "source": [
    "even_check(10)"
   ]
  },
  {
   "cell_type": "code",
   "execution_count": null,
   "id": "a0f0fca5-3756-4f24-ab52-984f9b631b0b",
   "metadata": {},
   "outputs": [],
   "source": []
  },
  {
   "cell_type": "code",
   "execution_count": 35,
   "id": "ccfd5657-dbcf-4dbe-a5ec-fef026110e5c",
   "metadata": {},
   "outputs": [
    {
     "data": {
      "text/plain": [
       "[1, 3, 5, 7, 9]"
      ]
     },
     "execution_count": 35,
     "metadata": {},
     "output_type": "execute_result"
    }
   ],
   "source": [
    "# Filter odd numbers from the given list. [1,2,3,4,5,6,7,8,9,10]\n",
    "\n",
    "lst = [1,2,3,4,5,6,7,8,9,10]\n",
    "\n",
    "list(filter(lambda x : x%2!=0 , lst))"
   ]
  },
  {
   "cell_type": "code",
   "execution_count": null,
   "id": "ff91fc3d-ca65-4afc-93c4-61418ef501dd",
   "metadata": {},
   "outputs": [],
   "source": []
  },
  {
   "cell_type": "code",
   "execution_count": 43,
   "id": "74aa2b89-7e42-4c9e-b9ad-324d2abc804d",
   "metadata": {},
   "outputs": [],
   "source": [
    "# Sort a list of integers into positive and negative integers lists. \n",
    "\n",
    "n = [1,2,3,4,5,6,-1,-2,-3,-4,-5,0]\n",
    "\n",
    "positive_int = list(filter(lambda x : x >=0 , n))\n",
    "negative_int = list(filter(lambda x : x < 0 , n))"
   ]
  },
  {
   "cell_type": "code",
   "execution_count": 44,
   "id": "a744644b-378d-4dfe-bbfe-3aa54f1e21ba",
   "metadata": {},
   "outputs": [
    {
     "data": {
      "text/plain": [
       "[1, 2, 3, 4, 5, 6, 0]"
      ]
     },
     "execution_count": 44,
     "metadata": {},
     "output_type": "execute_result"
    }
   ],
   "source": [
    "positive_int"
   ]
  },
  {
   "cell_type": "code",
   "execution_count": 45,
   "id": "86ac5b4b-e5c0-4198-b5e5-da6086504c84",
   "metadata": {},
   "outputs": [
    {
     "data": {
      "text/plain": [
       "[-1, -2, -3, -4, -5]"
      ]
     },
     "execution_count": 45,
     "metadata": {},
     "output_type": "execute_result"
    }
   ],
   "source": [
    "negative_int"
   ]
  },
  {
   "cell_type": "code",
   "execution_count": null,
   "id": "0c4d0537-9131-4e3b-b708-4b2749063669",
   "metadata": {},
   "outputs": [],
   "source": []
  }
 ],
 "metadata": {
  "kernelspec": {
   "display_name": "Python 3 (ipykernel)",
   "language": "python",
   "name": "python3"
  },
  "language_info": {
   "codemirror_mode": {
    "name": "ipython",
    "version": 3
   },
   "file_extension": ".py",
   "mimetype": "text/x-python",
   "name": "python",
   "nbconvert_exporter": "python",
   "pygments_lexer": "ipython3",
   "version": "3.10.8"
  }
 },
 "nbformat": 4,
 "nbformat_minor": 5
}
