{
 "cells": [
  {
   "cell_type": "markdown",
   "id": "35ce6c30-3e11-4103-811f-f2d8d3f94470",
   "metadata": {},
   "source": [
    "#### Q1. Create a vehicle class with an init method having instance variables as name_of_vehicle, max_speed and average_of_vehicle."
   ]
  },
  {
   "cell_type": "code",
   "execution_count": 1,
   "id": "380e1088-9606-4c17-b772-18058afee4ad",
   "metadata": {},
   "outputs": [],
   "source": [
    "class vehicle:\n",
    "    def __init__(self,name_of_vehicle,max_speed,average_of_vehicle):\n",
    "        self.name_of_vehicle=name_of_vehicle\n",
    "        self.max_speed=max_speed\n",
    "        self.average_of_vehicle=average_of_vehicle"
   ]
  },
  {
   "cell_type": "code",
   "execution_count": 2,
   "id": "fce812ec-de47-4abb-87c9-4f50dfb28ad4",
   "metadata": {},
   "outputs": [],
   "source": [
    "v1 = vehicle(\"centro\",120,70)"
   ]
  },
  {
   "cell_type": "code",
   "execution_count": 3,
   "id": "2e4dffa6-de71-4182-a121-c3a0d9fa17e3",
   "metadata": {},
   "outputs": [
    {
     "data": {
      "text/plain": [
       "'centro'"
      ]
     },
     "execution_count": 3,
     "metadata": {},
     "output_type": "execute_result"
    }
   ],
   "source": [
    "v1.name_of_vehicle"
   ]
  },
  {
   "cell_type": "code",
   "execution_count": 4,
   "id": "74ad623b-da2e-483e-a4f4-d976e101dc89",
   "metadata": {},
   "outputs": [
    {
     "data": {
      "text/plain": [
       "120"
      ]
     },
     "execution_count": 4,
     "metadata": {},
     "output_type": "execute_result"
    }
   ],
   "source": [
    "v1.max_speed"
   ]
  },
  {
   "cell_type": "code",
   "execution_count": 5,
   "id": "77fe8650-bd58-4569-8488-c61495f569c8",
   "metadata": {},
   "outputs": [
    {
     "data": {
      "text/plain": [
       "70"
      ]
     },
     "execution_count": 5,
     "metadata": {},
     "output_type": "execute_result"
    }
   ],
   "source": [
    "v1.average_of_vehicle"
   ]
  },
  {
   "cell_type": "code",
   "execution_count": null,
   "id": "baae0553-b3ad-4390-aec1-2018f3794553",
   "metadata": {},
   "outputs": [],
   "source": []
  },
  {
   "cell_type": "markdown",
   "id": "e4863f97-7552-47b0-b3d4-b32f072fa3ad",
   "metadata": {},
   "source": [
    "#### Q2. Create a child class car from the vehicle class created in Que 1, which will inherit the vehicle class. Create a method named seating_capacity which takes capacity as an argument and returns the name of the vehicle and its seating capacity."
   ]
  },
  {
   "cell_type": "code",
   "execution_count": 6,
   "id": "15bbcaf9-7839-408f-9a5d-47ebc0c22f2d",
   "metadata": {},
   "outputs": [],
   "source": [
    "class car(vehicle):\n",
    "    \n",
    "    def __init__(self, name_of_vehicle, max_speed, average_of_vehicle):\n",
    "        super().__init__(name_of_vehicle,max_speed, average_of_vehicle)\n",
    "        \n",
    "    def seating_capacity(self, capacity):\n",
    "        return self.name_of_vehicle, capacity"
   ]
  },
  {
   "cell_type": "code",
   "execution_count": 7,
   "id": "6ad4981e-958b-4d4a-9b87-d9a3ecd83922",
   "metadata": {},
   "outputs": [],
   "source": [
    "car1 = car(\"CRETA\",180,120)"
   ]
  },
  {
   "cell_type": "code",
   "execution_count": 8,
   "id": "2c90dcaa-4d79-4a83-ab9e-1e1ebf903e26",
   "metadata": {},
   "outputs": [
    {
     "data": {
      "text/plain": [
       "('CRETA', 4)"
      ]
     },
     "execution_count": 8,
     "metadata": {},
     "output_type": "execute_result"
    }
   ],
   "source": [
    "car1.seating_capacity(4)"
   ]
  },
  {
   "cell_type": "code",
   "execution_count": null,
   "id": "fe35cd4f-2c72-4790-87d8-056c9b0db1a0",
   "metadata": {},
   "outputs": [],
   "source": []
  },
  {
   "cell_type": "markdown",
   "id": "5003fdb4-5668-45fb-aa55-cbea87b5a8a9",
   "metadata": {},
   "source": [
    "#### Q3. What is multiple inheritance? Write a python code to demonstrate multiple inheritance.\n"
   ]
  },
  {
   "cell_type": "markdown",
   "id": "93a5c6c7-773a-4f80-8b19-14ac8b9457b4",
   "metadata": {},
   "source": [
    "Ans. When a class is derived from more than one base class it is called multiple Inheritance. The derived class inherits all the features of the base case."
   ]
  },
  {
   "cell_type": "code",
   "execution_count": 9,
   "id": "44fc9a79-5603-4ff0-9d22-b7bbcfa2a4f3",
   "metadata": {},
   "outputs": [],
   "source": [
    "class A:\n",
    "    def methode_a(self):\n",
    "        print(\"this is class a and methode a.\")\n",
    "\n",
    "class B:\n",
    "    def methode_b(self):\n",
    "        print(\"this is class b and methode b.\")\n",
    "\n",
    "class C(A,B):  # inherits the methode of class a and class b\n",
    "    pass"
   ]
  },
  {
   "cell_type": "code",
   "execution_count": 10,
   "id": "f94c5640-5e07-4ee7-8422-3a27f4d88bdb",
   "metadata": {},
   "outputs": [],
   "source": [
    "obj = C()"
   ]
  },
  {
   "cell_type": "code",
   "execution_count": 11,
   "id": "23bdf476-03b4-46b9-922a-5347334c0569",
   "metadata": {},
   "outputs": [
    {
     "name": "stdout",
     "output_type": "stream",
     "text": [
      "this is class a and methode a.\n"
     ]
    }
   ],
   "source": [
    "obj.methode_a()   # methode a from class a"
   ]
  },
  {
   "cell_type": "code",
   "execution_count": 12,
   "id": "1857c259-bba5-4e30-abc1-589040f0fef7",
   "metadata": {},
   "outputs": [
    {
     "name": "stdout",
     "output_type": "stream",
     "text": [
      "this is class b and methode b.\n"
     ]
    }
   ],
   "source": [
    "obj.methode_b()   # methode b from class b"
   ]
  },
  {
   "cell_type": "code",
   "execution_count": null,
   "id": "1a1b6cc6-3155-4dac-818a-ff8bfad9a8d7",
   "metadata": {},
   "outputs": [],
   "source": []
  },
  {
   "cell_type": "markdown",
   "id": "b0e5cefa-0fea-48da-b797-d1bdad50bfbc",
   "metadata": {},
   "source": [
    "#### Q4. What are getter and setter in python? Create a class and create a getter and a setter method in this class.\n"
   ]
  },
  {
   "cell_type": "markdown",
   "id": "97f81235-7548-42fe-9a32-03576783110f",
   "metadata": {},
   "source": [
    "Ans. A property object has three methods, getter(), setter(), and delete().\n",
    "\n",
    "1. getter : A method that allows us to access or see an attribute of the class even if it is private.\n",
    "2. setter : A method that allows us to set or change the value of an attribute in a class even if it is private."
   ]
  },
  {
   "cell_type": "code",
   "execution_count": 13,
   "id": "a28bf501-7375-495f-ace1-aeb2145ded2b",
   "metadata": {},
   "outputs": [],
   "source": [
    "class vehicle:\n",
    "    def __init__(self,name_of_vehicle,max_speed,average_of_vehicle):\n",
    "        self.name_of_vehicle=name_of_vehicle\n",
    "        self.__max_speed=max_speed   # this is private instance\n",
    "        self.average_of_vehicle=average_of_vehicle\n",
    "        \n",
    "    # using property decorator a getter function\n",
    "\n",
    "    @property    # to make it public to see the value\n",
    "    def max_speed_access(self):\n",
    "        return self.__max_speed\n",
    "    \n",
    "    # setter function\n",
    "    \n",
    "    @max_speed_access.setter    # to make changes externally by user\n",
    "    def max_speed_set(self,speed):\n",
    "        if speed>180:\n",
    "            pass\n",
    "        else:\n",
    "            self.__max_speed= speed"
   ]
  },
  {
   "cell_type": "code",
   "execution_count": 14,
   "id": "e37d782e-068e-459a-a89e-9fa8a1ac0b8a",
   "metadata": {},
   "outputs": [],
   "source": [
    "v1 = vehicle(\"centro\",120,70)"
   ]
  },
  {
   "cell_type": "code",
   "execution_count": 15,
   "id": "34e31b18-2f9b-422e-9fd2-00e0927a3c97",
   "metadata": {},
   "outputs": [
    {
     "data": {
      "text/plain": [
       "'centro'"
      ]
     },
     "execution_count": 15,
     "metadata": {},
     "output_type": "execute_result"
    }
   ],
   "source": [
    "v1.name_of_vehicle"
   ]
  },
  {
   "cell_type": "code",
   "execution_count": 16,
   "id": "010c28a7-353c-4092-8947-b5dd84563358",
   "metadata": {},
   "outputs": [
    {
     "data": {
      "text/plain": [
       "120"
      ]
     },
     "execution_count": 16,
     "metadata": {},
     "output_type": "execute_result"
    }
   ],
   "source": [
    "v1.max_speed_access    # can see the max speed"
   ]
  },
  {
   "cell_type": "code",
   "execution_count": 17,
   "id": "1541950e-ec70-4f22-9f60-7093384beb10",
   "metadata": {},
   "outputs": [],
   "source": [
    "v1.max_speed_set = 200"
   ]
  },
  {
   "cell_type": "code",
   "execution_count": 18,
   "id": "f6066d69-bc7b-4988-91d9-02fe06305d03",
   "metadata": {},
   "outputs": [
    {
     "data": {
      "text/plain": [
       "120"
      ]
     },
     "execution_count": 18,
     "metadata": {},
     "output_type": "execute_result"
    }
   ],
   "source": [
    "v1.max_speed_access"
   ]
  },
  {
   "cell_type": "code",
   "execution_count": 19,
   "id": "b3f37446-84d2-4746-9a98-bce1ef2fe950",
   "metadata": {},
   "outputs": [],
   "source": [
    "v1.max_speed_set = 100  # can change the value of max speed "
   ]
  },
  {
   "cell_type": "code",
   "execution_count": 20,
   "id": "626a4ed4-e395-42ce-b7b5-33b02046fd6d",
   "metadata": {},
   "outputs": [
    {
     "data": {
      "text/plain": [
       "100"
      ]
     },
     "execution_count": 20,
     "metadata": {},
     "output_type": "execute_result"
    }
   ],
   "source": [
    "v1.max_speed_access"
   ]
  },
  {
   "cell_type": "code",
   "execution_count": null,
   "id": "527dd5ab-d7c2-49e1-a355-1954dc0ed0da",
   "metadata": {},
   "outputs": [],
   "source": []
  },
  {
   "cell_type": "markdown",
   "id": "fa49a220-af53-4325-91b6-d4b6de93723c",
   "metadata": {},
   "source": [
    "#### Q5. What is method overriding in python? Write a python code to demonstrate method overriding."
   ]
  },
  {
   "cell_type": "markdown",
   "id": "dddf0bd1-b36f-4348-8c48-67925db552d0",
   "metadata": {},
   "source": [
    "Ans. The method overriding in Python means creating two methods with the same name but it is different in the programming logic. The concept of Method overriding allows us to change or override the Parent Class function in the Child Class."
   ]
  },
  {
   "cell_type": "code",
   "execution_count": 21,
   "id": "0fdf35db-364a-4592-93fc-1c6f2eb8211a",
   "metadata": {},
   "outputs": [],
   "source": [
    "# here is the code to examine method overriding in python.."
   ]
  },
  {
   "cell_type": "code",
   "execution_count": 22,
   "id": "7c0a064a-1a8b-4757-8bdb-54e64e25619b",
   "metadata": {},
   "outputs": [],
   "source": [
    "class parents:\n",
    "      \n",
    "    def msg(self):\n",
    "        print('This is msg from parent class......')\n",
    "        \n",
    "class child(parents):\n",
    "  \n",
    "    def msg(self):     # define the function with the same name as we have in parent class....\n",
    "        print('this is msg from the child class....')"
   ]
  },
  {
   "cell_type": "code",
   "execution_count": 23,
   "id": "fb5dd426-143b-4f7c-a308-e73277db345a",
   "metadata": {},
   "outputs": [],
   "source": [
    "obj = child()"
   ]
  },
  {
   "cell_type": "code",
   "execution_count": 24,
   "id": "18e6de0a-2638-4d63-aba7-115d2cefea31",
   "metadata": {},
   "outputs": [
    {
     "name": "stdout",
     "output_type": "stream",
     "text": [
      "this is msg from the child class....\n"
     ]
    }
   ],
   "source": [
    "obj.msg()   # it will print msg from child class so we can say that it is overriding the msg method of the parents class"
   ]
  },
  {
   "cell_type": "code",
   "execution_count": null,
   "id": "ae754210-0ea9-424b-8444-d93425625f17",
   "metadata": {},
   "outputs": [],
   "source": []
  },
  {
   "cell_type": "code",
   "execution_count": null,
   "id": "491a20d4-1c09-4d48-b923-37bfa5a0bff6",
   "metadata": {},
   "outputs": [],
   "source": []
  }
 ],
 "metadata": {
  "kernelspec": {
   "display_name": "Python 3 (ipykernel)",
   "language": "python",
   "name": "python3"
  },
  "language_info": {
   "codemirror_mode": {
    "name": "ipython",
    "version": 3
   },
   "file_extension": ".py",
   "mimetype": "text/x-python",
   "name": "python",
   "nbconvert_exporter": "python",
   "pygments_lexer": "ipython3",
   "version": "3.10.8"
  }
 },
 "nbformat": 4,
 "nbformat_minor": 5
}
