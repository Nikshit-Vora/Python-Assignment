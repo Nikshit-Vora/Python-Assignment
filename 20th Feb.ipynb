{
 "cells": [
  {
   "cell_type": "markdown",
   "id": "06caaa51-b4d4-4066-abb9-c4c37c4def15",
   "metadata": {},
   "source": [
    "Q1. Explain GET and POST methods.\n"
   ]
  },
  {
   "cell_type": "markdown",
   "id": "8300b034-a340-476d-b5a9-f6d374f3fd0e",
   "metadata": {},
   "source": [
    "1. GET: \n",
    "* Requests data from a specified resource.\n",
    "* In the GET method, the data is sent as URL parameters that are usually strings of name and value pairs separated by ampersands (&).\n",
    "\n",
    "2. POST: \n",
    "* Submits data to be processed to a specified resource.\n",
    "* In the POST method, the data is sent to the server as a package in a separate communication with the processing script. Data sent through the POST method will not be visible in the URL."
   ]
  },
  {
   "cell_type": "code",
   "execution_count": null,
   "id": "7540b68e-507e-4fa0-ae91-087b517b2198",
   "metadata": {},
   "outputs": [],
   "source": []
  },
  {
   "cell_type": "markdown",
   "id": "c6d1a1ad-d51f-4cdd-b45c-e0b2d15a0e78",
   "metadata": {},
   "source": [
    "Q2. Why is request used in Flask?\n"
   ]
  },
  {
   "cell_type": "markdown",
   "id": "67e9c59e-3da7-46d6-bd03-3286da3e3bb9",
   "metadata": {},
   "source": [
    "1. The request object in Flask allows the application to access information about the HTTP request made by the client, such as the method, URL, and headers.\n",
    "2. With the request object, Flask can retrieve data submitted in a form, as well as any query parameters or JSON payload sent with the request.\n",
    "3. The request object provides a convenient way to access and process the data sent by the client, making it easy to update a database or generate a response based on the request data.\n",
    "4. The request object is an essential component of Flask's routing system, allowing the application to determine which view function to execute based on the incoming request.\n",
    "5. By using the request object in Flask, developers can create dynamic web applications that can respond to a variety of user inputs and requests."
   ]
  },
  {
   "cell_type": "code",
   "execution_count": null,
   "id": "15e94e77-8e00-440c-931a-c707020caea2",
   "metadata": {},
   "outputs": [],
   "source": []
  },
  {
   "cell_type": "markdown",
   "id": "bbddd59f-06b8-4d70-821b-8dfc10bc2e3f",
   "metadata": {},
   "source": [
    "Q3. Why is redirect() used in Flask?\n"
   ]
  },
  {
   "cell_type": "markdown",
   "id": "2a33ea10-d919-42b3-bd7d-6fa6bc1eb035",
   "metadata": {},
   "source": [
    "Ans.  \n",
    "* A redirect is used in the Flask class to send the user to a particular URL with the status code. \n",
    "* conversely, this status code additionally identifies the issue. When we access a website, our browser sends a request to the server, and the server replies with what is known as the HTTP status code, which is a three-digit number."
   ]
  },
  {
   "cell_type": "markdown",
   "id": "3564aeef-f923-438b-933a-4c1b5d1d3f32",
   "metadata": {},
   "source": [
    "Q4. What are templates in Flask? Why is the render_template() function used?\n"
   ]
  },
  {
   "cell_type": "markdown",
   "id": "0a741b1a-b110-4d58-b394-9d2235db34b7",
   "metadata": {},
   "source": [
    "Ans.\n",
    "* Templates are files that contain static data as well as placeholders for dynamic data. \n",
    "* A template is rendered with specific data to produce a final document.\n",
    "* To render a template we call render_template() with the template name along with the data you want to pass to the template as keyword arguments. The render_template() function renders the template and returns HTML as a string. The keyword arguments we pass to the template is known as the context of the template or simply template context. "
   ]
  },
  {
   "cell_type": "code",
   "execution_count": null,
   "id": "3b356803-1fca-4b66-b682-1756fe08ecc8",
   "metadata": {},
   "outputs": [],
   "source": []
  },
  {
   "cell_type": "markdown",
   "id": "cab6b304-dfea-4600-98a0-0c7a87a928d6",
   "metadata": {},
   "source": [
    "Q5. Create a simple API. Use Postman to test it. Attach the screenshot of the output in the Jupyter Notebook."
   ]
  },
  {
   "cell_type": "raw",
   "id": "97665d5d-e84a-45c8-825a-a66857744be1",
   "metadata": {},
   "source": [
    "# This is code to create simple API.\n",
    "\n",
    "from flask import Flask, jsonify\n",
    "\n",
    "app = Flask(__name__)\n",
    "\n",
    "@app.route('/hello', methods=['GET'])\n",
    "def hello():\n",
    "    message = {'message': 'Hello, world!'}\n",
    "    return jsonify(message)\n",
    "\n",
    "if __name__==\"__main__\":\n",
    "    app.run(host=\"0.0.0.0\")\n"
   ]
  },
  {
   "cell_type": "code",
   "execution_count": null,
   "id": "544372b3-a3b1-4fbe-bf33-7ec823f47a07",
   "metadata": {},
   "outputs": [],
   "source": []
  }
 ],
 "metadata": {
  "kernelspec": {
   "display_name": "Python 3 (ipykernel)",
   "language": "python",
   "name": "python3"
  },
  "language_info": {
   "codemirror_mode": {
    "name": "ipython",
    "version": 3
   },
   "file_extension": ".py",
   "mimetype": "text/x-python",
   "name": "python",
   "nbconvert_exporter": "python",
   "pygments_lexer": "ipython3",
   "version": "3.10.8"
  }
 },
 "nbformat": 4,
 "nbformat_minor": 5
}
