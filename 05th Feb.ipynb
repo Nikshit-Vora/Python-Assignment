{
 "cells": [
  {
   "cell_type": "markdown",
   "id": "78cc2a6e-4d60-443a-888c-9eacb6dbd1ee",
   "metadata": {},
   "source": [
    "Q1. Explain Class and Object with respect to Object-Oriented Programming. Give a suitable example."
   ]
  },
  {
   "cell_type": "markdown",
   "id": "cb554a6e-5ac4-4889-9aa0-c593b76c5f26",
   "metadata": {},
   "source": [
    "Ans. A class is a bluprint template for creating objects. whereas object is an instance of a class."
   ]
  },
  {
   "cell_type": "code",
   "execution_count": 22,
   "id": "4c138028-41cd-4c07-a536-c24c23bd0513",
   "metadata": {},
   "outputs": [],
   "source": [
    "# here is code to demonstrate the class and object\n",
    "\n",
    "class greeting:   # This is the class. \n",
    "    \n",
    "    def hey(self):    # this is function inside the class.\n",
    "        print(\"Hello!! how are you???\")"
   ]
  },
  {
   "cell_type": "code",
   "execution_count": 23,
   "id": "700f7df9-a8ba-413d-9f7c-adcef6d51f9b",
   "metadata": {},
   "outputs": [],
   "source": [
    "n = greeting()   # this is the object that we have created"
   ]
  },
  {
   "cell_type": "code",
   "execution_count": 25,
   "id": "13181f87-7b8d-4c0a-aea2-a616d16f99cc",
   "metadata": {},
   "outputs": [
    {
     "name": "stdout",
     "output_type": "stream",
     "text": [
      "Hello!! how are you???\n"
     ]
    }
   ],
   "source": [
    "n.hey()     # calling of hey function"
   ]
  },
  {
   "cell_type": "code",
   "execution_count": null,
   "id": "0d86f187-1c89-4b84-a69a-85150f37e67f",
   "metadata": {},
   "outputs": [],
   "source": []
  },
  {
   "cell_type": "markdown",
   "id": "cbf1d6d4-ec28-453f-ad7a-b749b07db85c",
   "metadata": {},
   "source": [
    "Q2. Name the four pillars of OOPs."
   ]
  },
  {
   "cell_type": "markdown",
   "id": "d3ccd9b1-8182-4318-ad6c-c2a2e945578a",
   "metadata": {},
   "source": [
    "Ans. Four pillars of OOPS.\n",
    "\n",
    "1 . Inheritance\n",
    "2. Polymorphism\n",
    "3. Encapsulation\n",
    "4. Abstraction. "
   ]
  },
  {
   "cell_type": "code",
   "execution_count": null,
   "id": "e532009b-5e03-4e85-8865-c6284dddcb73",
   "metadata": {},
   "outputs": [],
   "source": []
  },
  {
   "cell_type": "markdown",
   "id": "002af042-20c8-462e-aeb4-082344978abe",
   "metadata": {},
   "source": [
    "Q3. Explain why the __init__() function is used. Give a suitable example."
   ]
  },
  {
   "cell_type": "markdown",
   "id": "4f6aab0d-aece-46dd-a99a-3e01ac52bc2e",
   "metadata": {},
   "source": [
    "Ans. the __init__() function is used to assign values to object properties, or other operations that are necessary to do when the object is being created."
   ]
  },
  {
   "cell_type": "code",
   "execution_count": 1,
   "id": "1fa86ec8-070a-4602-ada0-17c064dca81a",
   "metadata": {},
   "outputs": [],
   "source": [
    "# here is example of __init__ function \n",
    "\n",
    "class person:\n",
    "    \n",
    "    def __init__(self,name,sport):  # here __init__ is used to input the variables inside the class.\n",
    "        self.name=name\n",
    "        self.sport=sport\n",
    "        \n",
    "    def return_items(self):\n",
    "        return f\"hey {self.name}, your favourite sports is {self.sport}\""
   ]
  },
  {
   "cell_type": "code",
   "execution_count": 2,
   "id": "047ebfa7-ade1-41ee-95a2-a2a4be531f38",
   "metadata": {},
   "outputs": [],
   "source": [
    "n = person(\"rahul\",\"cricket\")"
   ]
  },
  {
   "cell_type": "code",
   "execution_count": 3,
   "id": "9ce45025-7c55-40bc-8396-2d2ba449de60",
   "metadata": {},
   "outputs": [
    {
     "data": {
      "text/plain": [
       "'hey rahul, your favourite sports is cricket'"
      ]
     },
     "execution_count": 3,
     "metadata": {},
     "output_type": "execute_result"
    }
   ],
   "source": [
    "n.return_items()"
   ]
  },
  {
   "cell_type": "code",
   "execution_count": 7,
   "id": "0337bcee-7bda-405b-a91d-4770ce8bbf3d",
   "metadata": {},
   "outputs": [
    {
     "data": {
      "text/plain": [
       "'rahul'"
      ]
     },
     "execution_count": 7,
     "metadata": {},
     "output_type": "execute_result"
    }
   ],
   "source": [
    "n.name  # here we can call that variable "
   ]
  },
  {
   "cell_type": "code",
   "execution_count": 5,
   "id": "85381c9a-303b-4043-8be1-0195c9da7606",
   "metadata": {},
   "outputs": [
    {
     "data": {
      "text/plain": [
       "'cricket'"
      ]
     },
     "execution_count": 5,
     "metadata": {},
     "output_type": "execute_result"
    }
   ],
   "source": [
    "n.sport"
   ]
  },
  {
   "cell_type": "code",
   "execution_count": 6,
   "id": "209c7867-a770-4f03-84d3-92dc226b2f89",
   "metadata": {},
   "outputs": [
    {
     "name": "stdout",
     "output_type": "stream",
     "text": [
      "<class '__main__.person'>\n"
     ]
    }
   ],
   "source": [
    "print(type(n))"
   ]
  },
  {
   "cell_type": "code",
   "execution_count": null,
   "id": "e71096d5-e525-4511-a6ed-710fa0eeeb2c",
   "metadata": {},
   "outputs": [],
   "source": []
  },
  {
   "cell_type": "markdown",
   "id": "1ed716fb-4fbf-4c6f-a2c6-91e913a123ad",
   "metadata": {},
   "source": [
    "Q4. Why self is used in OOPs?"
   ]
  },
  {
   "cell_type": "markdown",
   "id": "c31bb61f-3002-407b-ba24-95d92d262478",
   "metadata": {},
   "source": [
    "Ans. The self parameter is a reference to the current instance of the class, and is used to access variables that belongs to the class."
   ]
  },
  {
   "cell_type": "code",
   "execution_count": 8,
   "id": "4728fa95-48f8-4350-a9fc-3b59391cb37e",
   "metadata": {},
   "outputs": [],
   "source": [
    "# here is the code to demonstrate the use case of self in class\n",
    "\n",
    "class car:\n",
    "    def __init__(self,name,fuel):\n",
    "        self.name=name\n",
    "        self.fuel=fuel\n",
    "        \n",
    "    def car_details(self):    # here we have written self to access the variable that belongs to this class\n",
    "        return f\"{self.name} need to have enough {self.fuel} to drive.\"\n",
    "    "
   ]
  },
  {
   "cell_type": "code",
   "execution_count": 9,
   "id": "8120cfe8-4cb8-4723-8cba-eea0bf1b8b7d",
   "metadata": {},
   "outputs": [],
   "source": [
    "car1 = car(\"centro\",\"CNG\")"
   ]
  },
  {
   "cell_type": "code",
   "execution_count": 10,
   "id": "1e002c6a-4255-4567-b347-5ff1dcf40f69",
   "metadata": {},
   "outputs": [
    {
     "data": {
      "text/plain": [
       "('centro', 'CNG')"
      ]
     },
     "execution_count": 10,
     "metadata": {},
     "output_type": "execute_result"
    }
   ],
   "source": [
    "car1.name,car1.fuel"
   ]
  },
  {
   "cell_type": "code",
   "execution_count": 11,
   "id": "fbb89287-6ef2-46ec-b30e-5b69e4bc3496",
   "metadata": {},
   "outputs": [
    {
     "data": {
      "text/plain": [
       "'centro need to have enough CNG to drive.'"
      ]
     },
     "execution_count": 11,
     "metadata": {},
     "output_type": "execute_result"
    }
   ],
   "source": [
    "car1.car_details()"
   ]
  },
  {
   "cell_type": "code",
   "execution_count": null,
   "id": "a316bb21-5689-4fc7-8ca9-27cadb026526",
   "metadata": {},
   "outputs": [],
   "source": []
  },
  {
   "cell_type": "markdown",
   "id": "acd4e1fc-b553-410f-870b-f84cd6949f79",
   "metadata": {},
   "source": [
    "Q5. What is inheritance? Give an example for each type of inheritance."
   ]
  },
  {
   "cell_type": "markdown",
   "id": "f2cb79c3-b42f-496a-b168-7a2188f34e82",
   "metadata": {},
   "source": [
    "Ans. Inheritance provides the reusability of a code. We don’t have to write the same code again and again. Also, it allows us to add more features to a class without modifying it."
   ]
  },
  {
   "cell_type": "markdown",
   "id": "6ede8c57-e822-447b-9a76-57df44553dd6",
   "metadata": {},
   "source": [
    "Parent class : The class which got inherited is called a parent class or superclass or base class.\n",
    "\n",
    "Child class : The class which inherited the parent class is called a child class or subclass or derived class or extended class."
   ]
  },
  {
   "cell_type": "markdown",
   "id": "6f8c5a27-37b2-4c54-9e3a-c5807073145e",
   "metadata": {},
   "source": [
    "types of inheritance in python.\n",
    "1. single inheritance\n",
    "2. Multiple inheritance\n",
    "3. Multilevel inheritance"
   ]
  },
  {
   "cell_type": "code",
   "execution_count": 13,
   "id": "df21953e-3560-4180-97e0-4be83384ca5b",
   "metadata": {},
   "outputs": [],
   "source": [
    "# Python program to demonstrate single inheritance\n",
    " \n",
    "class Parent:    # This is Parent class\n",
    "    def f1(self):\n",
    "        print(\"This is parent class..\") \n",
    "\n",
    "class Child(Parent):  # this is derived/child class.\n",
    "    def f2(self):\n",
    "        print(\"This is child class...\")"
   ]
  },
  {
   "cell_type": "code",
   "execution_count": 14,
   "id": "57ee56c3-dae6-45cd-9cca-e4fb8c64d31d",
   "metadata": {},
   "outputs": [],
   "source": [
    "a = Parent()"
   ]
  },
  {
   "cell_type": "code",
   "execution_count": 15,
   "id": "d05dcf58-8256-49dc-a247-48329f9fe749",
   "metadata": {},
   "outputs": [
    {
     "name": "stdout",
     "output_type": "stream",
     "text": [
      "This is parent class..\n"
     ]
    }
   ],
   "source": [
    "a.f1()"
   ]
  },
  {
   "cell_type": "code",
   "execution_count": 16,
   "id": "2ec47fba-979f-49a9-a356-0fb3e3aedc92",
   "metadata": {},
   "outputs": [],
   "source": [
    "b = Child()  # created object of child class"
   ]
  },
  {
   "cell_type": "code",
   "execution_count": 17,
   "id": "eb32f5d2-02d7-4853-8eb9-96e433ca37a1",
   "metadata": {},
   "outputs": [
    {
     "name": "stdout",
     "output_type": "stream",
     "text": [
      "This is child class...\n"
     ]
    }
   ],
   "source": [
    "b.f2()"
   ]
  },
  {
   "cell_type": "code",
   "execution_count": 18,
   "id": "3e6cc951-6385-4ef5-8cff-712262397e92",
   "metadata": {},
   "outputs": [
    {
     "name": "stdout",
     "output_type": "stream",
     "text": [
      "This is parent class..\n"
     ]
    }
   ],
   "source": [
    "b.f1()  # here we can call function from parent class also.."
   ]
  },
  {
   "cell_type": "code",
   "execution_count": null,
   "id": "8ecef762-1b63-4875-b052-e835ed6ac66e",
   "metadata": {},
   "outputs": [],
   "source": []
  },
  {
   "cell_type": "code",
   "execution_count": 19,
   "id": "4f74e680-1936-4ba3-8c44-de575af31771",
   "metadata": {},
   "outputs": [],
   "source": [
    "# Python program to demonstrate mutiplse inheritance\n",
    " \n",
    "class Parent1:    # This is Parent class\n",
    "    def f1(self):\n",
    "        print(\"This is parent class 1 ..\") \n",
    "        \n",
    "class Parent2:\n",
    "    def f2(self):\n",
    "        print(\"This is parent class 2 ..\") \n",
    "\n",
    "class Child(Parent1, Parent2):  # this is derived/child class.\n",
    "    def f3(self):\n",
    "        print(\"This is child class of parent 1 and 2...\")"
   ]
  },
  {
   "cell_type": "code",
   "execution_count": 20,
   "id": "2bb31121-6c14-4075-88e2-bf63608639c4",
   "metadata": {},
   "outputs": [],
   "source": [
    "a = Child()  # created object of child class"
   ]
  },
  {
   "cell_type": "code",
   "execution_count": 23,
   "id": "4d4daa19-1025-4733-8ba6-726c00a17222",
   "metadata": {},
   "outputs": [
    {
     "name": "stdout",
     "output_type": "stream",
     "text": [
      "This is child class of parent 1 and 2...\n"
     ]
    }
   ],
   "source": [
    "a.f3()  # function of child class"
   ]
  },
  {
   "cell_type": "code",
   "execution_count": 24,
   "id": "ff6294a7-9acd-4952-b29a-0889381c6bc1",
   "metadata": {},
   "outputs": [
    {
     "name": "stdout",
     "output_type": "stream",
     "text": [
      "This is parent class 1 ..\n"
     ]
    }
   ],
   "source": [
    "a.f1()  # function of parent class 1"
   ]
  },
  {
   "cell_type": "code",
   "execution_count": 25,
   "id": "7ba9a2e9-c3bc-491c-abdd-d48ca9d0f969",
   "metadata": {},
   "outputs": [
    {
     "name": "stdout",
     "output_type": "stream",
     "text": [
      "This is parent class 2 ..\n"
     ]
    }
   ],
   "source": [
    "a.f2()  # function of parent class 2"
   ]
  },
  {
   "cell_type": "code",
   "execution_count": null,
   "id": "c0b4eefc-242c-44c9-9647-e3a605a5d5b5",
   "metadata": {},
   "outputs": [],
   "source": []
  },
  {
   "cell_type": "code",
   "execution_count": 26,
   "id": "d06f9c25-f328-4839-982c-27044d69c283",
   "metadata": {},
   "outputs": [],
   "source": [
    "# Python program to demonstrate Multilevel inheritance\n",
    " \n",
    "class Parent1:    # This is Parent class\n",
    "    def f1(self):\n",
    "        print(\"This is parent class 1 ..\") \n",
    "        \n",
    "class Parent2(Parent1):  # this will inherit the properties of parent class 1\n",
    "    def f2(self):\n",
    "        print(\"This is parent class 2 ..\") \n",
    "\n",
    "class Child(Parent2):  # this will inherit the properties of parent class 2 and parent class 1\n",
    "    def f3(self):\n",
    "        print(\"This is child class of parent 1 and 2...\")"
   ]
  },
  {
   "cell_type": "code",
   "execution_count": 28,
   "id": "f7db2b91-df03-4fe4-a14e-26900c249f43",
   "metadata": {},
   "outputs": [],
   "source": [
    "a = Child()  # object of child class"
   ]
  },
  {
   "cell_type": "code",
   "execution_count": 29,
   "id": "6edb20d4-01c5-4bc1-8b81-5561249fa3d1",
   "metadata": {},
   "outputs": [
    {
     "name": "stdout",
     "output_type": "stream",
     "text": [
      "This is child class of parent 1 and 2...\n"
     ]
    }
   ],
   "source": [
    "a.f3()   # function of child class "
   ]
  },
  {
   "cell_type": "code",
   "execution_count": 30,
   "id": "70e3066f-76f9-4044-b26f-a3db9300cbbe",
   "metadata": {},
   "outputs": [
    {
     "name": "stdout",
     "output_type": "stream",
     "text": [
      "This is parent class 2 ..\n"
     ]
    }
   ],
   "source": [
    "a.f2()   # function of parent class 2"
   ]
  },
  {
   "cell_type": "code",
   "execution_count": 31,
   "id": "552913cd-88a6-44a1-89e2-982af1b7d168",
   "metadata": {},
   "outputs": [
    {
     "name": "stdout",
     "output_type": "stream",
     "text": [
      "This is parent class 1 ..\n"
     ]
    }
   ],
   "source": [
    "a.f1()   # function of parent class 1"
   ]
  },
  {
   "cell_type": "code",
   "execution_count": null,
   "id": "81b8b2ba-ff16-4545-8118-6ae4c620d511",
   "metadata": {},
   "outputs": [],
   "source": []
  }
 ],
 "metadata": {
  "kernelspec": {
   "display_name": "Python 3 (ipykernel)",
   "language": "python",
   "name": "python3"
  },
  "language_info": {
   "codemirror_mode": {
    "name": "ipython",
    "version": 3
   },
   "file_extension": ".py",
   "mimetype": "text/x-python",
   "name": "python",
   "nbconvert_exporter": "python",
   "pygments_lexer": "ipython3",
   "version": "3.10.8"
  }
 },
 "nbformat": 4,
 "nbformat_minor": 5
}
