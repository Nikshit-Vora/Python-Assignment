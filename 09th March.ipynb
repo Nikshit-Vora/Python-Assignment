{
 "cells": [
  {
   "cell_type": "markdown",
   "id": "9019665a-a7fe-4465-ba36-12d6c02d86a0",
   "metadata": {},
   "source": [
    "Q1: What are the Probability Mass Function (PMF) and Probability Density Function (PDF)? Explain with an example."
   ]
  },
  {
   "cell_type": "markdown",
   "id": "e7d24195-612c-43d5-8f06-71ac73ddbd2d",
   "metadata": {},
   "source": [
    "* Probability Mass Function (PMF) and Probability Density Function (PDF) are two important concepts in probability theory and statistics. Both of them are used to describe the distribution of a random variable.\n",
    "\n",
    "PMF :\n",
    "* It is used to describe the probability distribution of a discrete random variable. It gives the probability that a discrete random variable takes a certain value. The PMF is defined as:\n",
    "\n",
    "* P(X = x) = f(x)\n",
    "\n",
    "* where X is the random variable, x is the value taken by X, and f(x) is the probability that X takes the value x.\n",
    "\n",
    "For example, let's consider a fair six-sided die. The random variable X represents the number rolled on the die. The PMF of X is given by:\n",
    "\n",
    "P(X = 1) = 1/6\n",
    "\n",
    "P(X = 2) = 1/6\n",
    "\n",
    "P(X = 3) = 1/6\n",
    "\n",
    "P(X = 4) = 1/6\n",
    "\n",
    "P(X = 5) = 1/6\n",
    "\n",
    "P(X = 6) = 1/6\n",
    "\n",
    "* The sum of all the probabilities is equal to 1, which means that the random variable X must take one of the values 1, 2, 3, 4, 5, or 6 with probability 1."
   ]
  },
  {
   "cell_type": "markdown",
   "id": "b64183a6-f21d-449e-b81f-4c1bbac75755",
   "metadata": {},
   "source": [
    "PDF :\n",
    "* It is used to describe the probability distribution of a continuous random variable. It gives the probability density at a certain point of the continuous random variable. The PDF is defined as:\n",
    "\n",
    "* f(x) = dF(x) / dx\n",
    "\n",
    "* where F(x) is the cumulative distribution function (CDF) of the continuous random variable X. The CDF gives the probability that X takes a value less than or equal to x.\n",
    "\n",
    "* For example, let's consider a continuous random variable X that follows a normal distribution with mean 0 and variance 1. The PDF of X is given by:\n",
    "\n",
    "* f(x) = (1 / sqrt(2π)) * exp(-x^2 / 2)\n",
    "\n",
    "* The PDF of a normal distribution is a bell-shaped curve, centered at the mean value, with a spread determined by the variance. The area under the curve between two values of X represents the probability that X takes a value between those two values. However, the PDF does not give the probability that X takes any specific value, since the probability of any single value for a continuous variable is always zero."
   ]
  },
  {
   "cell_type": "code",
   "execution_count": null,
   "id": "0c4e46d1-e6ca-4deb-a4ab-e7b96d740026",
   "metadata": {},
   "outputs": [],
   "source": []
  },
  {
   "cell_type": "markdown",
   "id": "a455dd60-defd-4e86-8571-c95177b73555",
   "metadata": {},
   "source": [
    "Q2: What is Cumulative Density Function (CDF)? Explain with an example. Why CDF is used?"
   ]
  },
  {
   "cell_type": "markdown",
   "id": "9a51b991-7dfb-4d91-9c67-6af49412320f",
   "metadata": {},
   "source": [
    "Ans. \n",
    "\n",
    "* The Cumulative Distribution Function (CDF) is a function that describes the probability that a random variable X takes a value less than or equal to a given value x. In other words, it gives the cumulative probability of X up to a certain value.\n",
    "\n",
    "* The CDF is defined as:\n",
    "\n",
    "F(x) = P(X ≤ x)\n",
    "\n",
    "* where X is the random variable and x is a specific value.\n",
    "\n",
    "* The CDF is a non-decreasing function, meaning that as x increases, the probability that X takes a value less than or equal to x can only increase or stay the same. The CDF also satisfies two properties: it starts at 0 (when x is negative infinity) and ends at 1 (when x is positive infinity)."
   ]
  },
  {
   "cell_type": "markdown",
   "id": "f9fcb8ed-0f72-445a-bb94-36cd8037f6dc",
   "metadata": {},
   "source": [
    "* For example, let's consider a fair six-sided die. The random variable X represents the number rolled on the die. The CDF of X is:\n",
    "\n",
    "F(x) = P(X ≤ x)\n",
    "\n",
    "If x < 1, then F(x) = 0 (since X cannot take a value less than 1).\n",
    "\n",
    "If 1 ≤ x < 2, then F(x) = P(X ≤ 1) = 1/6.\n",
    "\n",
    "If 2 ≤ x < 3, then F(x) = P(X ≤ 2) = 2/6.\n",
    "\n",
    "If 3 ≤ x < 4, then F(x) = P(X ≤ 3) = 3/6.\n",
    "\n",
    "If 4 ≤ x < 5, then F(x) = P(X ≤ 4) = 4/6.\n",
    "\n",
    "If 5 ≤ x < 6, then F(x) = P(X ≤ 5) = 5/6.\n",
    "\n",
    "If x ≥ 6, then F(x) = 1 (since X cannot take a value greater than 6)."
   ]
  },
  {
   "cell_type": "code",
   "execution_count": null,
   "id": "225a6022-51cb-441e-9a05-6eec1fb48738",
   "metadata": {},
   "outputs": [],
   "source": []
  },
  {
   "cell_type": "markdown",
   "id": "cd682266-74da-4215-85f7-eae0fa45b559",
   "metadata": {},
   "source": [
    "Q3: What are some examples of situations where the normal distribution might be used as a model? Explain how the parameters of the normal distribution relate to the shape of the distribution."
   ]
  },
  {
   "cell_type": "markdown",
   "id": "9edf867b-a475-436f-8547-04b23851158d",
   "metadata": {},
   "source": [
    "* The normal distribution is a commonly used statistical distribution in many areas of science and engineering. It is a continuous probability distribution that is often used to model random variables that have a symmetrical, bell-shaped distribution. Some examples of situations where the normal distribution might be used as a model include:\n",
    "\n",
    "1. Heights of adult humans\n",
    "2. Errors in measurement or experimental data\n",
    "3. IQ scores\n",
    "\n",
    "* The normal distribution is characterized by two parameters: the mean and the standard deviation. The mean, denoted by μ, specifies the location of the peak of the distribution, while the standard deviation, denoted by σ, specifies the spread of the distribution."
   ]
  },
  {
   "cell_type": "code",
   "execution_count": 3,
   "id": "043ff36a-35e3-452d-9af2-bac3a9b050ed",
   "metadata": {},
   "outputs": [
    {
     "data": {
      "text/html": [
       "<img src=\"normal_dis.PNG\"/>"
      ],
      "text/plain": [
       "<IPython.core.display.Image object>"
      ]
     },
     "execution_count": 3,
     "metadata": {},
     "output_type": "execute_result"
    }
   ],
   "source": [
    "from IPython.display import Image\n",
    "  \n",
    "# get the image\n",
    "Image(url=\"normal_dis.PNG\")"
   ]
  },
  {
   "cell_type": "code",
   "execution_count": null,
   "id": "20ce1097-8ada-4625-9fdd-9c0402c27c51",
   "metadata": {},
   "outputs": [],
   "source": []
  },
  {
   "cell_type": "markdown",
   "id": "0c7408fa-586c-42b6-944d-b53951d3f345",
   "metadata": {},
   "source": [
    "Q4: Explain the importance of Normal Distribution. Give a few real-life examples of Normal Distribution."
   ]
  },
  {
   "cell_type": "markdown",
   "id": "acd7677e-e4b9-4dbf-9bbc-9c836878fcd4",
   "metadata": {},
   "source": [
    "* The normal distribution is important in statistics because it is a versatile and well-understood distribution that describes many real-world phenomena. It is a continuous probability distribution that is often used to model random variables that have a symmetrical, bell-shaped distribution. The normal distribution has many important properties, including:\n",
    "\n",
    "1. It is fully described by two parameters, the mean and the standard deviation.\n",
    "2. It is a symmetric distribution, meaning that the mean, median, and mode are all equal.\n",
    "3. It has a well-defined and easily calculable cumulative distribution function, which makes it useful for hypothesis testing and statistical inference.\n",
    "4. It is the limiting distribution of many other probability distributions, making it a foundational concept in probability theory."
   ]
  },
  {
   "cell_type": "markdown",
   "id": "8d4dfef5-50df-42ef-8b33-3d5e87450255",
   "metadata": {},
   "source": [
    "* Some real-life examples of normal distribution include:\n",
    "\n",
    "1. Heights of adult humans: The heights of adult humans follow a normal distribution with a mean of around 5'7\" (170cm) and a standard deviation of around 2.5 inches (6.35cm).\n",
    "\n",
    "2. Scores on standardized tests: Scores on standardized tests, such as the SAT or ACT, are often modeled by a normal distribution with a mean of around 500-600 and a standard deviation of around 100."
   ]
  },
  {
   "cell_type": "code",
   "execution_count": null,
   "id": "6460ad2d-3ab7-4bc8-8d65-86fe701b2828",
   "metadata": {},
   "outputs": [],
   "source": []
  },
  {
   "cell_type": "markdown",
   "id": "c6c82cd4-ccec-447d-9d9d-3c7be680bda5",
   "metadata": {},
   "source": [
    "Q5: What is Bernaulli Distribution? Give an Example. What is the difference between Bernoulli Distribution and Binomial Distribution?"
   ]
  },
  {
   "cell_type": "markdown",
   "id": "702113b8-8810-4918-b7c8-c44cbc53fec1",
   "metadata": {},
   "source": [
    "The Bernoulli distribution:\n",
    "* It is a discrete probability distribution that models a random variable that can take on only two values, typically 0 and 1, with a probability p of taking the value 1 and a probability of 1-p of taking the value 0. It is named after Swiss mathematician Jakob Bernoulli, who first introduced the concept in the 18th century.\n",
    "\n",
    "* An example of a Bernoulli distributed random variable is flipping a coin, where 1 represents heads and 0 represents tails. If the coin is fair, then the probability of heads is 0.5, and the probability of tails is also 0.5. Thus, the outcome of a single flip of a fair coin follows a Bernoulli distribution with p = 0.5."
   ]
  },
  {
   "cell_type": "markdown",
   "id": "d5b349df-5a38-4c04-bf20-98713b3b7a4c",
   "metadata": {},
   "source": [
    "The Binomial distribution:\n",
    "* It models the number of successes in a fixed number of independent Bernoulli trials, where each trial has a probability p of success. The Binomial distribution is often used in situations where we want to count the number of times a particular event occurs in a fixed number of trials.\n",
    "\n",
    "* For example, if we flip a fair coin 10 times and count the number of heads, the number of heads will follow a Binomial distribution with n=10 and p=0.5. If we instead only flip the coin once and count the number of heads, the number of heads will follow a Bernoulli distribution with p=0.5."
   ]
  },
  {
   "cell_type": "markdown",
   "id": "591d1cae-6744-4479-92a5-68495148dc11",
   "metadata": {},
   "source": [
    "The main difference between the Bernoulli distribution and the Binomial distribution :\n",
    "* Bernoulli distribution models a single trial, while the Binomial distribution models a fixed number of trials. Specifically, the Binomial distribution is the sum of a fixed number of independent and identically distributed Bernoulli trials.\n"
   ]
  },
  {
   "cell_type": "code",
   "execution_count": null,
   "id": "87c58dd7-9c09-435e-98a7-6e2424330ea7",
   "metadata": {},
   "outputs": [],
   "source": []
  },
  {
   "cell_type": "markdown",
   "id": "7f8ae460-0b23-43e8-9673-18555118f2a5",
   "metadata": {},
   "source": [
    "Q6. Consider a dataset with a mean of 50 and a standard deviation of 10. If we assume that the dataset is normally distributed, what is the probability that a randomly selected observation will be greater than 60? Use the appropriate formula and show your calculations."
   ]
  },
  {
   "cell_type": "markdown",
   "id": "80e0e240-4fdf-4b8e-9c2e-994cbbdb6c1d",
   "metadata": {},
   "source": [
    "Ans.\n",
    "\n",
    "Mean (μ) = 50\n",
    "Standard deviation (σ) = 10\n",
    "Value of interest (x) = 60\n",
    "\n",
    "We want to find the probability of selecting an observation greater than 60.\n",
    "\n",
    "Using the formula for the standard normal distribution:\n",
    "\n",
    "z = (x - μ) / σ\n",
    "\n",
    "We can calculate the z-score for x = 60:\n",
    "\n",
    "z = (60 - 50) / 10 = 1\n",
    "\n",
    "Using a standard normal distribution table or calculator, we can find the probability that a z-score is greater than 1. This probability is approximately 0.1587.\n",
    "\n",
    "Therefore, the probability that a randomly selected observation from the dataset will be greater than 60 is approximately 0.1587 or 15.87%."
   ]
  },
  {
   "cell_type": "code",
   "execution_count": null,
   "id": "60be4c49-0eba-4c78-a2a3-4d3c428cd322",
   "metadata": {},
   "outputs": [],
   "source": []
  },
  {
   "cell_type": "markdown",
   "id": "d708a6eb-b161-4409-af13-fcd334d59b3c",
   "metadata": {},
   "source": [
    "Q7: Explain uniform Distribution with an example."
   ]
  },
  {
   "cell_type": "markdown",
   "id": "e2984829-1cb5-4b10-a311-a5fecb04e2ed",
   "metadata": {},
   "source": [
    "Ans.\n",
    "\n",
    "The uniform distribution :\n",
    "\n",
    "* It is a continuous probability distribution that has constant probability density function over a specified interval. The probability density function of a uniform distribution is f(x) = 1/(b-a), where a and b are the lower and upper bounds of the interval, respectively.\n",
    "\n",
    "* An example of a uniform distribution is the rolling of a fair die. Assuming the die has six sides numbered from 1 to 6, each side has an equal probability of landing face up when the die is rolled. This means that the probability of rolling any particular number is 1/6. Therefore, the probability distribution of the outcomes of a single roll of a fair die follows a uniform distribution with a = 1 and b = 6."
   ]
  },
  {
   "cell_type": "code",
   "execution_count": null,
   "id": "cce470cd-c52d-44a8-8028-813a7ae14be2",
   "metadata": {},
   "outputs": [],
   "source": []
  },
  {
   "cell_type": "markdown",
   "id": "6817e410-208c-4eae-be9c-3a36e020b367",
   "metadata": {},
   "source": [
    "Q8: What is the z score? State the importance of the z score."
   ]
  },
  {
   "cell_type": "markdown",
   "id": "4124a66d-2cb7-4d16-82c3-5b3c40c8d4c3",
   "metadata": {},
   "source": [
    "* The formula for calculating the z-score is:\n",
    "\n",
    "z = (x - μ) / σ\n",
    "\n",
    "where:\n",
    "x is the observation\n",
    "μ is the population mean\n",
    "σ is the population standard deviation\n",
    "\n",
    "* importance of Z score:\n",
    "\n",
    "1. The z-score indicates how many standard deviations an observation is above or below the mean of the population. \n",
    "2. A positive z-score means that the observation is above the mean, while a negative z-score means that the observation is below the mean.\n",
    "3. It standardize data and make comparisons between observations from different populations. By converting data into z-scores, we can compare observations that are measured on different scales or with different units of measurement. For example, if we want to compare the performance of students on two different exams, we can standardize the scores on both exams using z-scores and then compare them.\n",
    "\n",
    "\n",
    "\n",
    "\n",
    "\n",
    "\n",
    "\n"
   ]
  },
  {
   "cell_type": "code",
   "execution_count": null,
   "id": "8c08663c-4df0-46f1-8b6d-2c21912b5d12",
   "metadata": {},
   "outputs": [],
   "source": []
  },
  {
   "cell_type": "markdown",
   "id": "aa118d09-8d3a-4463-b432-b8f41da339a1",
   "metadata": {},
   "source": [
    "Q9: What is Central Limit Theorem? State the significance of the Central Limit Theorem."
   ]
  },
  {
   "cell_type": "markdown",
   "id": "c9f43357-7b67-45c2-a556-866b5b7c647d",
   "metadata": {},
   "source": [
    "The Central Limit Theorem (CLT) \n",
    "\n",
    "* It is a fundamental concept in statistics that states that as the sample size increases, the sampling distribution of the mean of any independent, identically distributed random variable approaches a normal distribution, regardless of the underlying population distribution. This means that, under certain conditions (n>=30), the means of a large number of random samples will be normally distributed, even if the population from which the samples are drawn is not normally distributed."
   ]
  },
  {
   "cell_type": "markdown",
   "id": "a909cc61-f1e9-4160-a5f1-9cf423aab1c5",
   "metadata": {},
   "source": [
    "Importance of CLT:\n",
    "\n",
    "* It allows us to compare means of different samples, even if they come from populations with different distributions, by converting the means to z-scores using the standard normal distribution."
   ]
  },
  {
   "cell_type": "code",
   "execution_count": null,
   "id": "e9e273e7-b568-4863-ab2b-8279c84ca13d",
   "metadata": {},
   "outputs": [],
   "source": []
  },
  {
   "cell_type": "markdown",
   "id": "eeb60a73-7e60-46fe-91c9-456ebe7f0848",
   "metadata": {},
   "source": [
    "Q10: State the assumptions of the Central Limit Theorem."
   ]
  },
  {
   "cell_type": "markdown",
   "id": "6294d58d-5362-4715-b56b-0399c7ed2614",
   "metadata": {},
   "source": [
    "* The Central Limit Theorem (CLT) has several assumptions that must be met in order for it to hold true. These assumptions include:\n",
    "\n",
    "1. Random Sampling: The sample data must be collected through a random sampling process, meaning that each member of the population has an equal chance of being selected for the sample.\n",
    "\n",
    "2. Independence: Each sample observation must be independent of all other observations. This means that the value of one observation should not affect the value of another observation.\n",
    "\n",
    "3. Finite Population or Large Sample Size: The CLT assumes that either the population size is finite and the sample size is no more than 10% of the population size, or the sample size is sufficiently large (usually n > 30).\n",
    "\n",
    "4. No Extreme Outliers: The CLT assumes that the population does not have any extreme outliers or skewness that would significantly affect the distribution of the sample means."
   ]
  },
  {
   "cell_type": "code",
   "execution_count": null,
   "id": "f4d1f0b9-683d-46d2-ab4f-a5ec6021dadb",
   "metadata": {},
   "outputs": [],
   "source": []
  },
  {
   "cell_type": "code",
   "execution_count": null,
   "id": "74b64060-63c6-41f8-b6e1-2f244c0b367e",
   "metadata": {},
   "outputs": [],
   "source": []
  },
  {
   "cell_type": "code",
   "execution_count": null,
   "id": "9293e2de-9d7f-4663-9979-8b538a10f6bf",
   "metadata": {},
   "outputs": [],
   "source": []
  }
 ],
 "metadata": {
  "kernelspec": {
   "display_name": "Python 3 (ipykernel)",
   "language": "python",
   "name": "python3"
  },
  "language_info": {
   "codemirror_mode": {
    "name": "ipython",
    "version": 3
   },
   "file_extension": ".py",
   "mimetype": "text/x-python",
   "name": "python",
   "nbconvert_exporter": "python",
   "pygments_lexer": "ipython3",
   "version": "3.10.8"
  }
 },
 "nbformat": 4,
 "nbformat_minor": 5
}
