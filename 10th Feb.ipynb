{
 "cells": [
  {
   "cell_type": "markdown",
   "id": "2de621d7-216e-49a6-812c-ca09514ab5e1",
   "metadata": {},
   "source": [
    "Q1. Which function is used to open a file? What are the different modes of opening a file? Explain each mode of file opening.\n"
   ]
  },
  {
   "cell_type": "markdown",
   "id": "592a4c91-d32f-430d-982d-097a9c2946b5",
   "metadata": {},
   "source": [
    "Ans. open() function is used to open the file. \n",
    "\n",
    "f = open ( filename, mode )"
   ]
  },
  {
   "cell_type": "code",
   "execution_count": 2,
   "id": "8c7995a3-6b82-4ad0-8e07-bd08e130b33c",
   "metadata": {},
   "outputs": [],
   "source": [
    "# here is the example of opening the file....\n",
    "\n",
    "f = open(\"test_open.txt\",\"w\")"
   ]
  },
  {
   "cell_type": "code",
   "execution_count": 6,
   "id": "67b892b8-c705-4b15-82e7-9f2d5c982634",
   "metadata": {},
   "outputs": [],
   "source": [
    "# this is another methode of opening file.\n",
    "\n",
    "with open(\"test_open2.txt\",\"w\") as f:\n",
    "    data = f.write(\"this is my first line in file..\")"
   ]
  },
  {
   "cell_type": "code",
   "execution_count": 3,
   "id": "e90b985d-bcf1-4556-8676-e95c39b2295b",
   "metadata": {},
   "outputs": [],
   "source": [
    "# these are the different modes of opening the file.."
   ]
  },
  {
   "cell_type": "markdown",
   "id": "02b82cc2-d839-4265-a883-7f688b343661",
   "metadata": {},
   "source": [
    "|File Mode|Purpose|\n",
    "|-        |-      |\n",
    "|r        |open an existing file for a read operation.|\n",
    "|w        |open an existing file for a write operation. If the file already contains some data then it will be overridden but if the file is not present then it creates the file as well.|\n",
    "|a|open an existing file for append operation. It won’t override existing data.|\n",
    "|r+|To read and write data into the file. The previous data in the file will be overridden.|\n",
    "|w+|To write and read data. It will override existing data.|\n",
    "|a+|To append and read data from the file. It won’t override existing data.|\n",
    "\n"
   ]
  },
  {
   "cell_type": "code",
   "execution_count": null,
   "id": "1f6fe198-ee52-4d68-b245-5db073edc1c1",
   "metadata": {},
   "outputs": [],
   "source": []
  },
  {
   "cell_type": "markdown",
   "id": "833e48a6-95e1-46d5-8600-6f5762e4f4db",
   "metadata": {},
   "source": [
    "Q2. Why close() function is used? Why is it important to close a file?"
   ]
  },
  {
   "cell_type": "markdown",
   "id": "0ed30e8b-42c2-471f-b4b1-eef36c296c56",
   "metadata": {},
   "source": [
    "Ans. The close() function closes the connection between the python program and an open file. also it will save our work. if we dont close the file then there are chances we may end up losing some data from the file."
   ]
  },
  {
   "cell_type": "code",
   "execution_count": null,
   "id": "30693b5e-4fc8-404a-b55f-0a34cdf8f6c0",
   "metadata": {},
   "outputs": [],
   "source": []
  },
  {
   "cell_type": "markdown",
   "id": "8b614611-cdc0-4f3e-9c0c-640bcd618295",
   "metadata": {},
   "source": [
    "Q3. Write a python program to create a text file. Write ‘I want to become a Data Scientist’ in that file. Then\n",
    "close the file. Open this file and read the content of the file."
   ]
  },
  {
   "cell_type": "code",
   "execution_count": 8,
   "id": "34c34ea0-ffa6-4d6f-a670-5323d26de7f1",
   "metadata": {},
   "outputs": [],
   "source": [
    "# here is the code to create new text file and write into it..\n",
    "\n",
    "with open(\"my_test.txt\",\"w\") as f:\n",
    "    data = f.write(\"I want to become Data Scientist...\")  # writing line in the file..."
   ]
  },
  {
   "cell_type": "code",
   "execution_count": 9,
   "id": "270cebfe-dcb2-4fb3-b488-271c1e04c850",
   "metadata": {},
   "outputs": [],
   "source": [
    "f.close()"
   ]
  },
  {
   "cell_type": "code",
   "execution_count": 10,
   "id": "01dcf318-c023-45c2-8d53-a66b3174cfe2",
   "metadata": {},
   "outputs": [],
   "source": [
    "f = open(\"my_test.txt\",\"r\")"
   ]
  },
  {
   "cell_type": "code",
   "execution_count": 11,
   "id": "f52198a8-aa3e-4bc7-8b92-5255ec217e17",
   "metadata": {},
   "outputs": [
    {
     "data": {
      "text/plain": [
       "'I want to become Data Scientist...'"
      ]
     },
     "execution_count": 11,
     "metadata": {},
     "output_type": "execute_result"
    }
   ],
   "source": [
    "f.read()"
   ]
  },
  {
   "cell_type": "code",
   "execution_count": 13,
   "id": "b719a3af-fbb4-4343-8d1d-fabc32c36c4b",
   "metadata": {},
   "outputs": [],
   "source": [
    "f.close()"
   ]
  },
  {
   "cell_type": "code",
   "execution_count": null,
   "id": "0445c584-d24a-4657-97ba-e07b24baee29",
   "metadata": {},
   "outputs": [],
   "source": []
  },
  {
   "cell_type": "markdown",
   "id": "14939044-fc4d-4b7a-ac64-ba3c5346f6aa",
   "metadata": {},
   "source": [
    "Q4. Explain the following with python code: read(), readline() and readlines()."
   ]
  },
  {
   "cell_type": "code",
   "execution_count": 19,
   "id": "38ae0a6d-cf11-4aca-a586-3ec0cdacfbca",
   "metadata": {},
   "outputs": [],
   "source": [
    "# here i have created new text file....\n",
    "f = open(\"test1.txt\",\"w+\")"
   ]
  },
  {
   "cell_type": "code",
   "execution_count": 20,
   "id": "9438b352-d392-4af9-b1c8-b8427ac6cc14",
   "metadata": {},
   "outputs": [
    {
     "data": {
      "text/plain": [
       "64"
      ]
     },
     "execution_count": 20,
     "metadata": {},
     "output_type": "execute_result"
    }
   ],
   "source": [
    "f.write(\"this is first line...\\nthis is second line.\\nthis is third line...\")    # writing three lines into file.....\n"
   ]
  },
  {
   "cell_type": "code",
   "execution_count": 26,
   "id": "330adab0-d0b3-4f9c-9b09-7d4b4948b46e",
   "metadata": {},
   "outputs": [
    {
     "data": {
      "text/plain": [
       "0"
      ]
     },
     "execution_count": 26,
     "metadata": {},
     "output_type": "execute_result"
    }
   ],
   "source": [
    "f.seek(0)  # to bring the pointer at 0"
   ]
  },
  {
   "cell_type": "code",
   "execution_count": 27,
   "id": "e44eb532-a72b-4db0-b861-2aa4b841e3cb",
   "metadata": {},
   "outputs": [
    {
     "data": {
      "text/plain": [
       "'this is first line...\\nthis is second line.\\nthis is third line...'"
      ]
     },
     "execution_count": 27,
     "metadata": {},
     "output_type": "execute_result"
    }
   ],
   "source": [
    "f.read()   # it will read all the lines from file......"
   ]
  },
  {
   "cell_type": "code",
   "execution_count": 31,
   "id": "362fda74-ed5e-45c4-97f7-e76b6c53f18c",
   "metadata": {},
   "outputs": [
    {
     "data": {
      "text/plain": [
       "'this is first line...\\n'"
      ]
     },
     "execution_count": 31,
     "metadata": {},
     "output_type": "execute_result"
    }
   ],
   "source": [
    "# readline() function will read line one by one....\n",
    "\n",
    "f.seek(0)\n",
    "f.readline()"
   ]
  },
  {
   "cell_type": "code",
   "execution_count": 32,
   "id": "bb3512a5-e025-468c-b007-4e042d209398",
   "metadata": {},
   "outputs": [
    {
     "data": {
      "text/plain": [
       "'this is second line.\\n'"
      ]
     },
     "execution_count": 32,
     "metadata": {},
     "output_type": "execute_result"
    }
   ],
   "source": [
    "f.readline()"
   ]
  },
  {
   "cell_type": "code",
   "execution_count": 33,
   "id": "01225550-1a8d-4029-989a-80a20a9b9474",
   "metadata": {},
   "outputs": [
    {
     "data": {
      "text/plain": [
       "'this is third line...'"
      ]
     },
     "execution_count": 33,
     "metadata": {},
     "output_type": "execute_result"
    }
   ],
   "source": [
    "f.readline()"
   ]
  },
  {
   "cell_type": "code",
   "execution_count": 36,
   "id": "b2d79f3c-0b01-4e4c-bb39-43d86589ccdd",
   "metadata": {},
   "outputs": [
    {
     "data": {
      "text/plain": [
       "['this is first line...\\n', 'this is second line.\\n', 'this is third line...']"
      ]
     },
     "execution_count": 36,
     "metadata": {},
     "output_type": "execute_result"
    }
   ],
   "source": [
    "# readlines() will return the list of lines together.. \n",
    "\n",
    "f.seek(0)\n",
    "f.readlines()"
   ]
  },
  {
   "cell_type": "code",
   "execution_count": 38,
   "id": "6c4f988f-bb63-4e30-91a7-01f9f9d01ae3",
   "metadata": {},
   "outputs": [
    {
     "name": "stdout",
     "output_type": "stream",
     "text": [
      "this is first line...\n",
      "\n",
      "this is second line.\n",
      "\n",
      "this is third line...\n"
     ]
    }
   ],
   "source": [
    "\n",
    "# using for loop to print all the lines from file..\n",
    "f.seek(0)\n",
    "\n",
    "for i in f.readlines():\n",
    "    print(i)"
   ]
  },
  {
   "cell_type": "code",
   "execution_count": 39,
   "id": "8043e995-a379-4546-a8c5-e7f318da3023",
   "metadata": {},
   "outputs": [],
   "source": [
    "f.close()"
   ]
  },
  {
   "cell_type": "code",
   "execution_count": null,
   "id": "a0aea6f0-1f96-4827-9c3a-d140050f0b6c",
   "metadata": {},
   "outputs": [],
   "source": []
  },
  {
   "cell_type": "markdown",
   "id": "01e15135-4c7b-4012-82f5-790c4ddf8bcf",
   "metadata": {},
   "source": [
    "Q5. Explain why with statement is used with open(). What is the advantage of using with statement and\n",
    "open() together?"
   ]
  },
  {
   "cell_type": "markdown",
   "id": "9771ba80-eb18-4c06-8c06-2763ca1c19e7",
   "metadata": {},
   "source": [
    "Ans. when we use with open() to work with file we dont need to close the file. python will close it automatically. no need to close the file with close() function.."
   ]
  },
  {
   "cell_type": "code",
   "execution_count": 40,
   "id": "5aea5c6a-2955-4366-ac05-9b8e99534eb2",
   "metadata": {},
   "outputs": [],
   "source": [
    "# here is the code to create file by with open() method"
   ]
  },
  {
   "cell_type": "code",
   "execution_count": 42,
   "id": "00f49628-16a3-4661-b596-32951a97bbfc",
   "metadata": {},
   "outputs": [],
   "source": [
    "with open(\"test_open2.txt\",\"w\") as f:\n",
    "    data = f.write(\"this is my first line in file..\")\n",
    "    \n",
    "# when blcok gets executed file get close automatically.."
   ]
  },
  {
   "cell_type": "code",
   "execution_count": null,
   "id": "3971d1f9-9be7-425a-be24-acaed65cd144",
   "metadata": {},
   "outputs": [],
   "source": []
  },
  {
   "cell_type": "markdown",
   "id": "40e3b434-9b0d-44c3-90d4-1b21835544e5",
   "metadata": {},
   "source": [
    "Q6. Explain the write() and writelines() functions. Give a suitable example."
   ]
  },
  {
   "cell_type": "code",
   "execution_count": 51,
   "id": "48fbd0fc-bb74-45b9-8314-052aa2d36759",
   "metadata": {},
   "outputs": [],
   "source": [
    "with open(\"test2.txt\",\"w+\") as f:\n",
    "    x = f.write(\"this is my first line....\")   # write function used to write one line in file at a time....."
   ]
  },
  {
   "cell_type": "code",
   "execution_count": 53,
   "id": "3da048ca-9c24-4ca8-9c34-fe3d3962bae0",
   "metadata": {},
   "outputs": [],
   "source": [
    "# if i want to append the list of lines in the file then we can use writelines method..\n",
    "\n",
    "lst=[\"first line\",\"second line\",\"third line\",\"fourth line\"]\n",
    "\n",
    "f = open(\"test2.txt\",\"w+\")\n",
    "f.writelines(lst)"
   ]
  },
  {
   "cell_type": "code",
   "execution_count": 54,
   "id": "f97e8727-4a77-4ef0-9176-d5d5110a1b7e",
   "metadata": {},
   "outputs": [
    {
     "data": {
      "text/plain": [
       "0"
      ]
     },
     "execution_count": 54,
     "metadata": {},
     "output_type": "execute_result"
    }
   ],
   "source": [
    "f.seek(0)"
   ]
  },
  {
   "cell_type": "code",
   "execution_count": 55,
   "id": "b4dea684-e8d7-4134-9bf3-52a3d7a7d914",
   "metadata": {},
   "outputs": [
    {
     "data": {
      "text/plain": [
       "'first linesecond linethird linefourth line'"
      ]
     },
     "execution_count": 55,
     "metadata": {},
     "output_type": "execute_result"
    }
   ],
   "source": [
    "f.read()"
   ]
  },
  {
   "cell_type": "code",
   "execution_count": 57,
   "id": "e8a97935-44c9-418d-bbb6-e467d95abdfe",
   "metadata": {},
   "outputs": [
    {
     "name": "stdout",
     "output_type": "stream",
     "text": [
      "first linesecond linethird linefourth line\n"
     ]
    }
   ],
   "source": [
    "f.seek(0)\n",
    "for i in f.readlines():\n",
    "    print(i)"
   ]
  },
  {
   "cell_type": "code",
   "execution_count": null,
   "id": "dc9fcceb-e7a9-4708-90b2-f40558bbd4d6",
   "metadata": {},
   "outputs": [],
   "source": []
  }
 ],
 "metadata": {
  "kernelspec": {
   "display_name": "Python 3 (ipykernel)",
   "language": "python",
   "name": "python3"
  },
  "language_info": {
   "codemirror_mode": {
    "name": "ipython",
    "version": 3
   },
   "file_extension": ".py",
   "mimetype": "text/x-python",
   "name": "python",
   "nbconvert_exporter": "python",
   "pygments_lexer": "ipython3",
   "version": "3.10.8"
  }
 },
 "nbformat": 4,
 "nbformat_minor": 5
}
