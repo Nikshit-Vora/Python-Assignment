{
 "cells": [
  {
   "cell_type": "markdown",
   "id": "269bf4af-223c-4b78-8cc8-a4e2fac26e8f",
   "metadata": {},
   "source": [
    "Q1. What is the Probability density function?"
   ]
  },
  {
   "cell_type": "markdown",
   "id": "19ef332d-9915-4bc6-bfd4-b6702abbb8f1",
   "metadata": {},
   "source": [
    "Probability Density Function (PDF) :\n",
    "\n",
    "* It is a concept in probability theory that describes the probability distribution of a continuous random variable. \n",
    "* It is a function that describes the relative likelihood of observing different values of a continuous random variable.\n",
    "* Specifically, the probability of observing a value between a and b is given by the integral of the PDF over that interval:\n",
    "\n",
    "P(a <= X <= b) = integral from a to b of f(x) dx"
   ]
  },
  {
   "cell_type": "code",
   "execution_count": 6,
   "id": "6fd6c35a-4f84-44a6-a87b-2347e0f16817",
   "metadata": {},
   "outputs": [
    {
     "data": {
      "text/html": [
       "<img src=\"PDF.PNG\"/>"
      ],
      "text/plain": [
       "<IPython.core.display.Image object>"
      ]
     },
     "execution_count": 6,
     "metadata": {},
     "output_type": "execute_result"
    }
   ],
   "source": [
    "from IPython.display import Image\n",
    "  \n",
    "# get the image\n",
    "Image(url=\"PDF.PNG\")"
   ]
  },
  {
   "cell_type": "code",
   "execution_count": null,
   "id": "f14ca560-088e-4158-9e82-f152f1b57783",
   "metadata": {},
   "outputs": [],
   "source": []
  },
  {
   "cell_type": "markdown",
   "id": "3de5c733-ee1b-4997-a8e8-1dac3ad1e0b4",
   "metadata": {},
   "source": [
    "Q2. What are the types of Probability distribution?"
   ]
  },
  {
   "cell_type": "markdown",
   "id": "bb5acc1a-5304-4749-bfd9-ff4ff6dc0a81",
   "metadata": {},
   "source": [
    "There are several types of probability distributions, each with its own characteristics and applications. Some of the most common types of probability distributions are:\n",
    "\n",
    "1. Normal distribution\n",
    "2. Binomial distribution\n",
    "3. Poisson distribution\n",
    "4. Uniform distribution"
   ]
  },
  {
   "cell_type": "code",
   "execution_count": null,
   "id": "3319460b-5f58-45d4-9cf7-25a147ea00ea",
   "metadata": {},
   "outputs": [],
   "source": []
  },
  {
   "cell_type": "markdown",
   "id": "56e1b268-c6f0-476f-bb6d-6521e7191f62",
   "metadata": {},
   "source": [
    "Q3. Write a Python function to calculate the probability density function of a normal distribution with given mean and standard deviation at a given point."
   ]
  },
  {
   "cell_type": "code",
   "execution_count": 8,
   "id": "39e61851-be4a-45bf-ae41-853f7591e007",
   "metadata": {},
   "outputs": [
    {
     "name": "stdout",
     "output_type": "stream",
     "text": [
      "0.12098536225957168\n"
     ]
    }
   ],
   "source": [
    "import math\n",
    "\n",
    "def normal_pdf(x, mean, std_dev):\n",
    "    \"\"\"\n",
    "    Calculate the PDF of a normal distribution with the given mean and standard deviation at the given point x.\n",
    "    \"\"\"\n",
    "    coefficient = 1.0 / (std_dev * math.sqrt(2 * math.pi))\n",
    "    exponent = math.exp(-0.5 * ((x - mean) / std_dev) ** 2)\n",
    "    return coefficient * exponent\n",
    "\n",
    "pdf = normal_pdf(3, 5, 2)\n",
    "print(pdf)"
   ]
  },
  {
   "cell_type": "code",
   "execution_count": null,
   "id": "2d6bb290-e44f-4dba-ac17-5291797045f4",
   "metadata": {},
   "outputs": [],
   "source": []
  },
  {
   "cell_type": "markdown",
   "id": "3fb2bf2d-8b28-40be-b787-870a867655ef",
   "metadata": {},
   "source": [
    "Q4. What are the properties of Binomial distribution? Give two examples of events where binomial distribution can be applied."
   ]
  },
  {
   "cell_type": "markdown",
   "id": "31372abe-bb13-42da-811c-26fe611be760",
   "metadata": {},
   "source": [
    "The Binomial distribution is a type of probability distribution that describes the number of successes in a fixed number of independent trials, where each trial has a constant probability of success. Some of the properties of the Binomial distribution are:\n",
    "\n",
    "1. The Binomial distribution is discrete and defined only for integer values of the number of successes.\n",
    "\n",
    "2. The distribution is parameterized by two values: the number of trials n and the probability of success p.\n",
    "\n",
    "3. The mean of the distribution is np, and the variance is np(1-p).\n",
    "\n",
    "4. The shape of the distribution is determined by the values of n and p. As n increases, the distribution becomes more symmetric and concentrated around the mean.\n",
    "\n",
    "Two examples of events where the Binomial distribution can be applied are:\n",
    "\n",
    "1. Coin flipping: Suppose you flip a fair coin 10 times and count the number of heads. This is an example of a Binomial distribution, where the number of trials n = 10 and the probability of success p = 0.5 (assuming the coin is fair).\n",
    "\n",
    "2. Product defects: Suppose a manufacturer produces a batch of 1000 products and each product has a 5% chance of being defective. The number of defective products in the batch is an example of a Binomial distribution, where the number of trials n = 1000 and the probability of success p = 0.05."
   ]
  },
  {
   "cell_type": "code",
   "execution_count": null,
   "id": "bf66e665-bf14-48a9-bf89-5bb122feae02",
   "metadata": {},
   "outputs": [],
   "source": []
  },
  {
   "cell_type": "markdown",
   "id": "ff608e41-83a8-441f-84c6-21e6f93a46d5",
   "metadata": {},
   "source": [
    "Q5. Generate a random sample of size 1000 from a binomial distribution with probability of success 0.4 and plot a histogram of the results using matplotlib."
   ]
  },
  {
   "cell_type": "code",
   "execution_count": 9,
   "id": "fddfb03a-9d8d-4f8f-9f40-5ac0943e63f6",
   "metadata": {},
   "outputs": [
    {
     "data": {
      "image/png": "[encoded data removed]",
      "text/plain": [
       "<Figure size 640x480 with 1 Axes>"
      ]
     },
     "metadata": {},
     "output_type": "display_data"
    }
   ],
   "source": [
    "import numpy as np\n",
    "import matplotlib.pyplot as plt\n",
    "\n",
    "\n",
    "n = 1000  # number of trials\n",
    "p = 0.4   # probability of success\n",
    "sample = np.random.binomial(n, p, size=1000)\n",
    "\n",
    "# histogram of the sample\n",
    "plt.hist(sample, bins=20, alpha=0.5)\n",
    "plt.title('Histogram of Binomial Distribution with n=1000, p=0.4')\n",
    "plt.xlabel('Number of Successes')\n",
    "plt.ylabel('Frequency')\n",
    "plt.show()\n"
   ]
  },
  {
   "cell_type": "code",
   "execution_count": null,
   "id": "4ba09ad6-62c8-46af-91c8-99954c26992d",
   "metadata": {},
   "outputs": [],
   "source": []
  },
  {
   "cell_type": "markdown",
   "id": "3f9cf6c0-9322-4a30-bd1c-4b87dd592a01",
   "metadata": {},
   "source": [
    "Q6. Write a Python function to calculate the cumulative distribution function of a Poisson distribution with given mean at a given point."
   ]
  },
  {
   "cell_type": "code",
   "execution_count": 10,
   "id": "70d1ae9f-85b2-4e2e-b2fa-da07c0a23a46",
   "metadata": {},
   "outputs": [
    {
     "name": "stdout",
     "output_type": "stream",
     "text": [
      "0.42319008112684353\n"
     ]
    }
   ],
   "source": [
    "import math\n",
    "\n",
    "def poisson_cdf(x, mean):\n",
    "    \n",
    "    cdf = 0.0\n",
    "    for i in range(x + 1):\n",
    "        cdf += (math.exp(-mean) * mean**i) / math.factorial(i)\n",
    "    return cdf\n",
    "\n",
    "cdf = poisson_cdf(2, 3)\n",
    "print(cdf)\n",
    "\n"
   ]
  },
  {
   "cell_type": "code",
   "execution_count": null,
   "id": "f5077c96-52d5-459e-b90d-f21c387b0573",
   "metadata": {},
   "outputs": [],
   "source": []
  },
  {
   "cell_type": "markdown",
   "id": "5bdbdf0d-2724-45a7-bb4f-5eb64e065214",
   "metadata": {},
   "source": [
    "Q7. How Binomial distribution different from Poisson distribution?"
   ]
  },
  {
   "cell_type": "markdown",
   "id": "55a0e959-9cd8-4eff-8e93-3fc847c460f4",
   "metadata": {},
   "source": [
    "The Binomial and Poisson distributions are both discrete probability distributions, but they differ in several ways:"
   ]
  },
  {
   "cell_type": "markdown",
   "id": "e46d2f6a-ce5a-4d34-b78a-2ecf55899379",
   "metadata": {},
   "source": [
    "|Parameters|Binomial distribution|Poisson distribution|\n",
    "|-|-|-|\n",
    "|Number of Trials|The Binomial distribution is used to model the number of successes in a fixed number of independent trials.| Poisson distribution is used to model the number of rare events that occur over a fixed period of time or in a certain area.|\n",
    "|Probability of Success| In the Binomial distribution, the probability of success remains constant across all trials.|The Poisson distribution assumes that the probability of observing an event in a small time or space interval is proportional to the length of the interval or area.|\n",
    "|Shape| The Binomial distribution is typically bell-shaped and symmetric.|Poisson distribution is skewed to the right.|\n",
    "|Parameters|The Binomial distribution is parameterized by two values: the number of trials and the probability of success, |Poisson distribution is parameterized by a single value: the mean or expected value.|\n",
    "|Approximation| Under certain conditions (large n and small p), the Binomial distribution can be approximated by the Poisson distribution. |This is known as the Poisson approximation to the Binomial distribution.|\n",
    "\n",
    "\n",
    "* In summary, the Binomial distribution is used for counting the number of successes in a fixed number of trials with a constant probability of success, while the Poisson distribution is used for counting the number of rare events that occur over a fixed period of time or in a certain area.\n",
    "\n"
   ]
  },
  {
   "cell_type": "code",
   "execution_count": null,
   "id": "6906b2a8-7c34-45d2-b9bf-ad5b9b94d8b6",
   "metadata": {},
   "outputs": [],
   "source": []
  },
  {
   "cell_type": "markdown",
   "id": "bab09f16-1bde-45f7-b935-47a36bfc5d04",
   "metadata": {},
   "source": [
    "Q8. Generate a random sample of size 1000 from a Poisson distribution with mean 5 and calculate the sample mean and variance."
   ]
  },
  {
   "cell_type": "code",
   "execution_count": 11,
   "id": "2d210786-db87-4b9a-a9df-892b07942d67",
   "metadata": {},
   "outputs": [
    {
     "name": "stdout",
     "output_type": "stream",
     "text": [
      "Sample mean: 4.96\n",
      "Sample variance: 5.0644\n"
     ]
    }
   ],
   "source": [
    "import numpy as np\n",
    "\n",
    "sample = np.random.poisson(5, size=1000)\n",
    "\n",
    "mean = np.mean(sample)\n",
    "variance = np.var(sample)\n",
    "\n",
    "print(\"Sample mean:\", mean)\n",
    "print(\"Sample variance:\", variance)\n"
   ]
  },
  {
   "cell_type": "code",
   "execution_count": null,
   "id": "575d506a-ae3b-464b-a7c4-139cc666f36b",
   "metadata": {},
   "outputs": [],
   "source": []
  },
  {
   "cell_type": "markdown",
   "id": "f6fe26da-2cd5-48e9-8089-cfd29268aff3",
   "metadata": {},
   "source": [
    "Q9. How mean and variance are related in Binomial distribution and Poisson distribution?"
   ]
  },
  {
   "cell_type": "markdown",
   "id": "b8d69f82-16e8-43ca-b58f-b25c558cc50e",
   "metadata": {},
   "source": [
    "* In both Binomial and Poisson distributions, the mean and variance are related.\n",
    "\n",
    "* For a Binomial distribution with parameters n and p (where n is the number of trials and p is the probability of success), the mean and variance are given by:\n",
    "\n",
    "Mean = np\n",
    "\n",
    "Variance = np(1-p)\n",
    "\n",
    "In other words, the mean of a Binomial distribution is equal to the product of the number of trials and the probability of success, while the variance is equal to the product of the number of trials, the probability of failure (1-p), and the probability of success (p)."
   ]
  },
  {
   "cell_type": "markdown",
   "id": "d158b4a5-a1c9-4502-8f7b-fd9fbebacc27",
   "metadata": {},
   "source": [
    "For a Poisson distribution with parameter λ (which is the expected number of events in the interval), the mean and variance are both equal to λ:\n",
    "\n",
    "Mean = λ\n",
    "\n",
    "Variance = λ\n",
    "\n",
    "In other words, the mean and variance of a Poisson distribution are both equal to the expected number of events in the interval. This is because the Poisson distribution is defined as a distribution of rare events occurring independently in a fixed interval, where the average number of events is λ."
   ]
  },
  {
   "cell_type": "markdown",
   "id": "31c7fad8-514a-4f91-b6ef-f24ef66f9f77",
   "metadata": {},
   "source": [
    "Q10. In normal distribution with respect to mean position, where does the least frequent data appear?"
   ]
  },
  {
   "cell_type": "code",
   "execution_count": null,
   "id": "b6f7c0ee-8000-47cf-8a3c-dd6b913e29b6",
   "metadata": {},
   "outputs": [],
   "source": []
  },
  {
   "cell_type": "code",
   "execution_count": null,
   "id": "365d66ad-07bb-4b3d-8e92-7b9e902547de",
   "metadata": {},
   "outputs": [],
   "source": []
  },
  {
   "cell_type": "code",
   "execution_count": null,
   "id": "9677b5f8-7691-4fbe-818e-2fbfe6518df5",
   "metadata": {},
   "outputs": [],
   "source": []
  },
  {
   "cell_type": "code",
   "execution_count": null,
   "id": "6d530b80-718e-42ef-80e4-4d44c0bda8d2",
   "metadata": {},
   "outputs": [],
   "source": []
  },
  {
   "cell_type": "code",
   "execution_count": null,
   "id": "1da71495-e924-4ec5-9376-a14b58d84351",
   "metadata": {},
   "outputs": [],
   "source": []
  },
  {
   "cell_type": "code",
   "execution_count": null,
   "id": "cdebb93d-941d-462a-917f-26d93458c1a2",
   "metadata": {},
   "outputs": [],
   "source": []
  }
 ],
 "metadata": {
  "kernelspec": {
   "display_name": "Python 3 (ipykernel)",
   "language": "python",
   "name": "python3"
  },
  "language_info": {
   "codemirror_mode": {
    "name": "ipython",
    "version": 3
   },
   "file_extension": ".py",
   "mimetype": "text/x-python",
   "name": "python",
   "nbconvert_exporter": "python",
   "pygments_lexer": "ipython3",
   "version": "3.10.8"
  }
 },
 "nbformat": 4,
 "nbformat_minor": 5
}
