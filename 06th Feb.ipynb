{
 "cells": [
  {
   "cell_type": "markdown",
   "id": "bcf04f00-9be1-4f26-beca-a8dc777fd965",
   "metadata": {},
   "source": [
    "Q1. Create a function which will take a list as an argument and return the product of all the numbers after creating a flat list. Use the below-given list as an argument for your function.\n",
    "\n",
    "list1 = [1,2,3,4, [44,55,66, True], False, (34,56,78,89,34), {1,2,3,3,2,1}, {1:34, \"key2\": [55, 67, 78, 89], 4: (45,\n",
    "22, 61, 34)}, [56, 'data science'], 'Machine Learning']\n",
    "\n",
    "Note: you must extract numeric keys and values of the dictionary also."
   ]
  },
  {
   "cell_type": "code",
   "execution_count": 74,
   "id": "0e47c1cc-d873-4631-9662-0589f697da51",
   "metadata": {},
   "outputs": [],
   "source": [
    "def give_int(n):\n",
    "    \n",
    "    lst = []   # empty list to store int numbers\n",
    "    \n",
    "    for i in n:  # looping through each eliment of the list\n",
    "        if type(i)==int:   \n",
    "            lst.append(i)  # int values will be stored in lst directly\n",
    "            \n",
    "        elif type(i) in [list,set,tuple]:   # if eliment is list,set or tuple..then it will loop though internally those element...\n",
    "            for j in i:\n",
    "                if type(j)==int:\n",
    "                    lst.append(j)\n",
    "                    \n",
    "        elif type(i)==dict:   # this condition is for dictionary..\n",
    "            \n",
    "            for x,y in i.items():\n",
    "                if type(x)==int:\n",
    "                    lst.append(x)\n",
    "                    if type(y)==int:\n",
    "                        lst.append(y)\n",
    "                if type(x) in [list,set,tuple]:\n",
    "                    for i in x:\n",
    "                        if type(i)==int:\n",
    "                            lst.append(i)\n",
    "                if type(y) in [list,set,tuple]:    \n",
    "                    for i in y:\n",
    "                        if type(i)==int:\n",
    "                            lst.append(i)\n",
    "    return lst"
   ]
  },
  {
   "cell_type": "code",
   "execution_count": 75,
   "id": "7cdbfff2-3d90-4ba7-b205-04e9819ed642",
   "metadata": {},
   "outputs": [],
   "source": [
    "list1 = [1,2,3,4, [44,55,66, True], False, (34,56,78,89,34), {1,2,3,3,2,1}, {1:34, \"key2\": [55, 67, 78, 89], 4: (45,22, 61, 34)}, [56, 'data science'], 'Machine Learning']"
   ]
  },
  {
   "cell_type": "code",
   "execution_count": 76,
   "id": "9e4ee4f8-6b68-4c22-a9ad-b298f13cff89",
   "metadata": {},
   "outputs": [
    {
     "data": {
      "text/plain": [
       "[1,\n",
       " 2,\n",
       " 3,\n",
       " 4,\n",
       " 44,\n",
       " 55,\n",
       " 66,\n",
       " 34,\n",
       " 56,\n",
       " 78,\n",
       " 89,\n",
       " 34,\n",
       " 1,\n",
       " 2,\n",
       " 3,\n",
       " 1,\n",
       " 34,\n",
       " 55,\n",
       " 67,\n",
       " 78,\n",
       " 89,\n",
       " 4,\n",
       " 45,\n",
       " 22,\n",
       " 61,\n",
       " 34,\n",
       " 56]"
      ]
     },
     "execution_count": 76,
     "metadata": {},
     "output_type": "execute_result"
    }
   ],
   "source": [
    "give_int(list1)"
   ]
  },
  {
   "cell_type": "code",
   "execution_count": null,
   "id": "7297eec3-eb32-412b-9bee-62be2d12ba0e",
   "metadata": {},
   "outputs": [],
   "source": []
  },
  {
   "cell_type": "markdown",
   "id": "4bbdf983-7ddf-4d38-a126-530eb2590df6",
   "metadata": {},
   "source": [
    "Q2. Write a python program for encrypting a message sent to you by your friend. The logic of encryption should be such that, \n",
    "\n",
    "for a the output should be z. \n",
    "For b, the output should be y. \n",
    "For c, the output should be x respectively. \n",
    "\n",
    "Also, the whitespace should be replaced with a dollar sign. Keep the punctuation marks unchanged.\n",
    "\n",
    "Input Sentence: I want to become a Data Scientist.\n",
    "\n",
    "Encrypt the above input sentence using the program you just created.\n",
    "Note: Convert the given input sentence into lowercase before encrypting. The final output should be lowercase."
   ]
  },
  {
   "cell_type": "code",
   "execution_count": 24,
   "id": "931c797c-a011-402d-b212-d8fdfab72d4d",
   "metadata": {},
   "outputs": [],
   "source": [
    "lst1 = \"abcdefghijklmnopqrstuvwxyz\"\n",
    "lst2 = lst1[::-1]"
   ]
  },
  {
   "cell_type": "code",
   "execution_count": 37,
   "id": "d24d36d3-9ff6-40f6-ab86-0fd6b4080014",
   "metadata": {},
   "outputs": [
    {
     "name": "stdout",
     "output_type": "stream",
     "text": [
      "abcdefghijklmnopqrstuvwxyz\n",
      "zyxwvutsrqponmlkjihgfedcba\n"
     ]
    }
   ],
   "source": [
    "print(lst1)\n",
    "print(lst2)"
   ]
  },
  {
   "cell_type": "code",
   "execution_count": 34,
   "id": "a6320a73-37b2-44c7-a858-a51f2a91e7f9",
   "metadata": {},
   "outputs": [],
   "source": [
    "def encrypt_msg(n):\n",
    "    \n",
    "    msg = \"\"\n",
    "    \n",
    "    for i in n:\n",
    "        if i==\" \":\n",
    "            msg = msg + \"$\"\n",
    "        elif i==\".\":\n",
    "            msg = msg + \".\"\n",
    "        else:\n",
    "            x = lst1.index(i.lower())\n",
    "            msg = msg + lst2[x]\n",
    "    return msg"
   ]
  },
  {
   "cell_type": "code",
   "execution_count": 35,
   "id": "70d58172-db3a-47e8-8643-5b6946ab5124",
   "metadata": {},
   "outputs": [
    {
     "data": {
      "text/plain": [
       "'r$dzmg$gl$yvxlnv$z$wzgz$hxrvmgrhg.'"
      ]
     },
     "execution_count": 35,
     "metadata": {},
     "output_type": "execute_result"
    }
   ],
   "source": [
    "n = \"I want to become a Data Scientist.\"\n",
    "\n",
    "encrypt_msg(n)"
   ]
  },
  {
   "cell_type": "code",
   "execution_count": null,
   "id": "4880f2d6-ac9f-4a4c-bcb6-23df600276ef",
   "metadata": {},
   "outputs": [],
   "source": []
  }
 ],
 "metadata": {
  "kernelspec": {
   "display_name": "Python 3 (ipykernel)",
   "language": "python",
   "name": "python3"
  },
  "language_info": {
   "codemirror_mode": {
    "name": "ipython",
    "version": 3
   },
   "file_extension": ".py",
   "mimetype": "text/x-python",
   "name": "python",
   "nbconvert_exporter": "python",
   "pygments_lexer": "ipython3",
   "version": "3.10.8"
  }
 },
 "nbformat": 4,
 "nbformat_minor": 5
}
