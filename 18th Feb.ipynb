{
 "cells": [
  {
   "cell_type": "markdown",
   "id": "bbe63820-78a6-480f-b719-efc83b7defef",
   "metadata": {},
   "source": [
    "Q1. What is an API? Give an example, where an API is used in real life."
   ]
  },
  {
   "cell_type": "markdown",
   "id": "c0587c93-c9cb-4322-91eb-4e127905547e",
   "metadata": {},
   "source": [
    "Ans. API - Application Programming Interface (API) \n",
    "\n",
    "It is a software interface that allows two applications to interact with each other without any user intervention. API is a collection of software functions and procedures. In simple terms, API means a software code that can be accessed or executed. API is defined as a code that helps two different software’s to communicate and exchange data with each other."
   ]
  },
  {
   "cell_type": "markdown",
   "id": "823a215e-b03d-438c-92aa-afe7a695d735",
   "metadata": {},
   "source": [
    "Example:\n",
    "\n",
    "Online Payment Systems. Where digital money transfers occur, there is an API supporting the process. Many organizations choose to utilize APIs from a firm such as Paytm, Google Pay, PhonePay to provide secure, safe money transfers to their customers."
   ]
  },
  {
   "cell_type": "code",
   "execution_count": null,
   "id": "f256b74b-f8c5-425b-8d6b-c01a466c7a86",
   "metadata": {},
   "outputs": [],
   "source": []
  },
  {
   "cell_type": "markdown",
   "id": "eef8cd1e-250f-4bcd-a439-bcf7cf2d756c",
   "metadata": {},
   "source": [
    "Q2. Give advantages and disadvantages of using API."
   ]
  },
  {
   "cell_type": "markdown",
   "id": "b68988ea-fb72-4d5b-87a5-e002ce5b3beb",
   "metadata": {},
   "source": [
    "Advantages:\n",
    "\n",
    "1. increased efficiency : it increases efficiency by enabling applications to access data or functionality from other applications without requiring the user to switch between them.\n",
    "\n",
    "2. Reduced Developement time and cost: API can significantly reduce developement time and cost as develpers can integrate existing API into their applications rather than creating new functionality from scratch.\n",
    "\n",
    "3. improved user experiance : API can improve the user experience by enabling the integration of different applications and services, making it easier for users to access the functionality they need.\n",
    "\n",
    "4. Scalability: API can be designed to handle large amounts of traffic and usage, making it easier to scale applications without having to redesign or rebuild them."
   ]
  },
  {
   "cell_type": "markdown",
   "id": "46f3ff71-956f-46f9-98fa-b5b03817c39b",
   "metadata": {},
   "source": [
    "Disadvanges:\n",
    "    \n",
    "1. Dependence of third part services : when using third party APIs, applications become dependent on the sevice provider, which can be disadvantage if the service can be unreliable.\n",
    "\n",
    "2. security concerns : API can create security concerns if they are not designed and implemented correctly. Applications must be careful to prevent unauthorized access to data.\n",
    "\n",
    "3. Compatibility issues : it can arise if different applications use different APIs. \n",
    "\n",
    "4. Limited Control : applications using APIs are often limited to the functionality and data provided by the API, can not access or manipulate the underlying systems direcly. This can be a disadvantage if the functionality required by the application is not available thorugh the API.\n"
   ]
  },
  {
   "cell_type": "code",
   "execution_count": null,
   "id": "c17474b9-674d-48c8-87fa-c3e23175892b",
   "metadata": {},
   "outputs": [],
   "source": []
  },
  {
   "cell_type": "markdown",
   "id": "e1ae7f2a-cdb7-4bb1-8dff-2c0279a38531",
   "metadata": {},
   "source": [
    "Q3. What is a Web API? Differentiate between API and Web API."
   ]
  },
  {
   "cell_type": "markdown",
   "id": "ba589816-4661-4321-b444-148883d935e4",
   "metadata": {},
   "source": [
    "Ans. \n",
    "\n",
    "A Web API, or Application Programming Interface, is a set of protocols and tools for building software applications that communicate with each other over the internet. Web APIs provide a way for developers to access and manipulate data and functionality provided by web applications, web services, or other online resources."
   ]
  },
  {
   "cell_type": "markdown",
   "id": "f5ecddb1-96a0-4989-8011-e5a00681f78c",
   "metadata": {},
   "source": [
    "Differentiate between API and Web API."
   ]
  },
  {
   "cell_type": "markdown",
   "id": "1f6b856c-1d4e-49cd-9f8a-f57138ac16ce",
   "metadata": {},
   "source": [
    "API stands for \"Application Programming Interface,\" which is a set of protocols, routines, and tools that software developers use to build software applications. APIs can be designed to be used in different contexts, such as on a single computer or across a network, and can use a variety of communication protocols, such as TCP/IP, messaging systems, or file-based communication.\n",
    "\n",
    "In contrast, a Web API is a type of API that is specifically designed to be accessed over the internet using web-based communication protocols such as HTTP. Web APIs typically use standard data formats, such as JSON or XML, for exchanging data between applications, and can be accessed using web-based technologies such as HTTP clients, web browsers, and server-side scripting languages."
   ]
  },
  {
   "cell_type": "code",
   "execution_count": null,
   "id": "05478dea-01cd-4059-9f79-492fdabdb345",
   "metadata": {},
   "outputs": [],
   "source": []
  },
  {
   "cell_type": "markdown",
   "id": "16046d10-f3ec-4413-9695-070e9313b021",
   "metadata": {},
   "source": [
    "Q4. Explain REST and SOAP Architecture. Mention shortcomings of SOAP."
   ]
  },
  {
   "cell_type": "markdown",
   "id": "47ddb5b5-cfb1-469e-9173-f0e34921113f",
   "metadata": {},
   "source": [
    "REST (Representational State Transfer) is an architectural style that is commonly used for building APIs that are lightweight, scalable, and easy to use. In REST architecture, an API is treated as a set of resources, each of which can be accessed using standard HTTP methods such as GET, POST, PUT, and DELETE. RESTful APIs use standard data formats, such as JSON or XML, for exchanging data between applications, and they are stateless, meaning that each request contains all the necessary information to complete the request.\n",
    "\n",
    "SOAP (Simple Object Access Protocol) is an older architectural style that is used for building APIs that are more complex and feature-rich. In SOAP architecture, an API is treated as a set of objects, each of which can be accessed using a set of predefined methods. SOAP APIs use XML for exchanging data between applications, and they are stateful, meaning that each request requires the server to maintain information about the previous requests."
   ]
  },
  {
   "cell_type": "markdown",
   "id": "99e5e5a6-c71d-4cbd-a468-effd491d09f4",
   "metadata": {},
   "source": [
    "shortcomings of SOAP"
   ]
  },
  {
   "cell_type": "markdown",
   "id": "2f407176-b9ca-4fb2-8026-7e8adaf65710",
   "metadata": {},
   "source": [
    "Complexity: SOAP is a complex and verbose protocol, which can make it difficult to use and understand, especially for developers who are new to web services.\n",
    "\n",
    "Performance: SOAP is known to be slower than REST because of the overhead required to encode and decode messages in XML.\n",
    "\n",
    "Scalability: SOAP can be difficult to scale because of its stateful nature, which requires servers to maintain information about previous requests.\n",
    "\n",
    "Interoperability: SOAP APIs can be difficult to integrate with other systems and platforms, especially those that do not support XML."
   ]
  },
  {
   "cell_type": "code",
   "execution_count": null,
   "id": "c33abe3e-5123-4c80-a333-9a462489bff3",
   "metadata": {},
   "outputs": [],
   "source": []
  },
  {
   "cell_type": "markdown",
   "id": "bd2fad81-9f58-48af-a30c-cd1d521eb937",
   "metadata": {},
   "source": [
    "Q5. Differentiate between REST and SOAP."
   ]
  },
  {
   "cell_type": "markdown",
   "id": "45234a69-2363-4a39-88e8-48c03b606d9b",
   "metadata": {},
   "source": [
    "|SOAP API |REST API|\n",
    "|-|-|\n",
    "|Relies on SOAP (Simple Object Access Protocol)\t|Relies on REST (Representational State Transfer) architecture using HTTP.|\n",
    "|Transports data in standard XML format.|\tGenerally transports data in JSON. It is based on URI. Because REST follows stateless model, REST does not enforces message format as XML or JSON etc.|\n",
    "|Because it is XML based and relies on SOAP, it works with WSDL\t|It works with GET, POST, PUT, DELETE|\n",
    "|Works over HTTP, HTTPS, SMTP, XMPP\t|Works over HTTP and HTTPS|\n",
    "|Highly structured/typed\t|Less structured -> less bulky data|\n",
    "|Designed with large enterprise applications in mind\t|Designed with mobile devices in mind|\n",
    "\n",
    "\n"
   ]
  },
  {
   "cell_type": "code",
   "execution_count": null,
   "id": "c30fae57-3fb9-4e15-b2e6-271e07b6be98",
   "metadata": {},
   "outputs": [],
   "source": []
  }
 ],
 "metadata": {
  "kernelspec": {
   "display_name": "Python 3 (ipykernel)",
   "language": "python",
   "name": "python3"
  },
  "language_info": {
   "codemirror_mode": {
    "name": "ipython",
    "version": 3
   },
   "file_extension": ".py",
   "mimetype": "text/x-python",
   "name": "python",
   "nbconvert_exporter": "python",
   "pygments_lexer": "ipython3",
   "version": "3.10.8"
  }
 },
 "nbformat": 4,
 "nbformat_minor": 5
}
