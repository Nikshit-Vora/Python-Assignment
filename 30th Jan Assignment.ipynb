{
 "cells": [
  {
   "cell_type": "markdown",
   "id": "caebaadf-2eb9-47a3-84d5-0b87630f7502",
   "metadata": {},
   "source": [
    "### 1 Problem\n",
    "Wite a programme to accept percentage from the user and display the grade according to the following criteria.\n",
    "\n",
    "|Marks | Grade|\n",
    "|-|-|\n",
    "|**>90**|A|\n",
    "|**>80 and <=90**|B|\n",
    "|**>=60 and <=80**|C| \n",
    "|**<60**|D|"
   ]
  },
  {
   "cell_type": "code",
   "execution_count": 1,
   "id": "fc8aa80b-f8b2-4e9a-9939-783d3cb3359b",
   "metadata": {},
   "outputs": [
    {
     "name": "stdin",
     "output_type": "stream",
     "text": [
      "enter your marks:  95\n"
     ]
    },
    {
     "name": "stdout",
     "output_type": "stream",
     "text": [
      "your grade : A\n"
     ]
    }
   ],
   "source": [
    "marks = int(input(\"enter your marks: \"))\n",
    "\n",
    "if marks>90:\n",
    "    print(\"your grade : A\")\n",
    "elif marks>80 and marks<=90:\n",
    "    print(\"your grade : B\")\n",
    "elif marks>=60 and marks<=80:\n",
    "    print(\"your grade : C\")\n",
    "else:\n",
    "    print(\"your grade : D\")"
   ]
  },
  {
   "cell_type": "code",
   "execution_count": null,
   "id": "9def018b-8f7f-4f50-80a0-017badfbb93a",
   "metadata": {},
   "outputs": [],
   "source": []
  },
  {
   "cell_type": "markdown",
   "id": "47c78764-33d3-463b-a26c-3de76ada07e8",
   "metadata": {},
   "source": [
    "### 2 Problem\n",
    "Wite a programme to accept cost price of a bike and display the road tax to be paid according to the following criteria.\n",
    "\n",
    "|Tax | Cost Price (Rs.)|\n",
    "|-|-|\n",
    "|**15%**|>100000|\n",
    "|**10%**|>50000 and <=100000|\n",
    "|**5%**|<=50000| "
   ]
  },
  {
   "cell_type": "code",
   "execution_count": 2,
   "id": "824cea65-e94e-42a2-a99a-cc4e548030b6",
   "metadata": {},
   "outputs": [
    {
     "name": "stdin",
     "output_type": "stream",
     "text": [
      "enter price of your bike:  200000\n"
     ]
    },
    {
     "name": "stdout",
     "output_type": "stream",
     "text": [
      "tax to be paid : 15% \n"
     ]
    }
   ],
   "source": [
    "price_bike = int(input(\"enter price of your bike: \"))\n",
    "\n",
    "if price_bike>100000:\n",
    "    print(\"tax to be paid : 15% \")\n",
    "elif price_bike > 50000 and price_bike <=100000:\n",
    "    print(\"tax to be paid : 10% \")\n",
    "else:\n",
    "    print(\"tax to be paid : 5% \")"
   ]
  },
  {
   "cell_type": "code",
   "execution_count": null,
   "id": "33267b3f-d0a4-4b79-a6c1-4b19d0c023a8",
   "metadata": {},
   "outputs": [],
   "source": []
  },
  {
   "cell_type": "markdown",
   "id": "6d19ebe0-254e-4350-bb7e-d3f9d60b0688",
   "metadata": {},
   "source": [
    "### 3 Problem\n",
    "Accept any city from user and display monumnet of that city.\n",
    "\n",
    "|City | Monument |\n",
    "|-|-|\n",
    "|**Delhi**|Red Fort|\n",
    "|**Agra**|Taj Mahal|\n",
    "|**Jaipur**|Jal Mahal| "
   ]
  },
  {
   "cell_type": "code",
   "execution_count": 3,
   "id": "a14eb932-f3c7-42de-acc7-736b1e8110a7",
   "metadata": {},
   "outputs": [
    {
     "name": "stdout",
     "output_type": "stream",
     "text": [
      "['Delhi', 'Agra', 'Jaipur']\n",
      "\n",
      "\n",
      "choose city from the above list..\n"
     ]
    },
    {
     "name": "stdin",
     "output_type": "stream",
     "text": [
      "enter the your city name :  Delhi\n"
     ]
    },
    {
     "name": "stdout",
     "output_type": "stream",
     "text": [
      "you can visit Red fort Monumnet.\n"
     ]
    }
   ],
   "source": [
    "city_name = [\"Delhi\",\"Agra\",\"Jaipur\"]\n",
    "print(city_name)\n",
    "print(\"\\n\")\n",
    "print(\"choose city from the above list..\")\n",
    "city_name = input(\"enter the your city name : \")\n",
    "\n",
    "if city_name==\"Delhi\":\n",
    "    print(\"you can visit Red fort Monumnet.\")\n",
    "elif city_name==\"Agra\":\n",
    "    print(\"you can visit Taj mahal Monumnet.\")\n",
    "elif city_name==\"Jaipur\":\n",
    "    print(\"you can visit Jal Mahal Monument.\")\n",
    "else:\n",
    "    print(\"No data available..\")"
   ]
  },
  {
   "cell_type": "code",
   "execution_count": null,
   "id": "8ad4e89d-3d86-4f80-a6dd-2710cf225dc2",
   "metadata": {},
   "outputs": [],
   "source": []
  },
  {
   "cell_type": "markdown",
   "id": "159ca398-cc87-4c35-9a0b-5401a27fb24b",
   "metadata": {},
   "source": [
    "### 4 Problem\n",
    "Check how many times a given number can be divided by 3 befor it is less than or equal to 10"
   ]
  },
  {
   "cell_type": "code",
   "execution_count": 4,
   "id": "a8448784-4a11-41be-88f7-67a1a463688a",
   "metadata": {},
   "outputs": [
    {
     "name": "stdin",
     "output_type": "stream",
     "text": [
      "enter the number:  100\n"
     ]
    },
    {
     "name": "stdout",
     "output_type": "stream",
     "text": [
      "this nuber can be divided 2 times befor q become less than or equal to 10\n"
     ]
    }
   ],
   "source": [
    "num = int(input(\"enter the number: \"))\n",
    "\n",
    "count = 0\n",
    "while num/3>=10:\n",
    "    num = num/3\n",
    "    count=count+1\n",
    "\n",
    "print(f\"this nuber can be divided {count} times befor q become less than or equal to 10\")"
   ]
  },
  {
   "cell_type": "code",
   "execution_count": null,
   "id": "67d49420-b6f3-462a-946a-4162c08a20e6",
   "metadata": {},
   "outputs": [],
   "source": []
  },
  {
   "cell_type": "markdown",
   "id": "bb9966cf-f8f7-4048-9f3a-11dcebe626bc",
   "metadata": {},
   "source": [
    "### 5 Problem\n",
    "Why and when to use while loop in python and give detailed description with example.\n",
    "\n",
    "Ans.\n",
    "\n",
    "The for statement iterates through a collection or iterable object or generator function. The while statement simply loops until a condition is False.\n"
   ]
  },
  {
   "cell_type": "code",
   "execution_count": 5,
   "id": "a3f2f7c4-e3f9-4867-a1db-d1bdbb2db542",
   "metadata": {},
   "outputs": [
    {
     "name": "stdout",
     "output_type": "stream",
     "text": [
      "0\n",
      "1\n",
      "2\n",
      "3\n",
      "4\n",
      "5\n",
      "6\n",
      "7\n",
      "8\n",
      "9\n",
      "10\n"
     ]
    }
   ],
   "source": [
    "# while loop code example\n",
    "\n",
    "x=0\n",
    "\n",
    "while x<=10:    # while loop will iterate till the conditon becomes false..when we want to put end condition at that time we can use while loop.\n",
    "    print(x)    # to print x\n",
    "    x=x+1       # everytime it will increase x by 1.\n",
    "\n"
   ]
  },
  {
   "cell_type": "code",
   "execution_count": 6,
   "id": "9d06236f-1d09-4944-8c50-46e5bd8b9caf",
   "metadata": {},
   "outputs": [
    {
     "name": "stdout",
     "output_type": "stream",
     "text": [
      "P\n",
      "y\n",
      "t\n",
      "h\n",
      "o\n",
      "n\n"
     ]
    }
   ],
   "source": [
    "# for loop code example\n",
    "\n",
    "course = \"Python\"      # for loop can be used because here we have string which is iterable object.\n",
    "\n",
    "for i in course:\n",
    "    print(i)"
   ]
  },
  {
   "cell_type": "code",
   "execution_count": null,
   "id": "8af750da-43b0-4cf5-99c7-ba30a4e630b1",
   "metadata": {},
   "outputs": [],
   "source": []
  },
  {
   "cell_type": "markdown",
   "id": "66f719f5-68cc-4078-b0e6-e17ca66ea011",
   "metadata": {},
   "source": [
    "### 6 Problem\n",
    "Use nested while loop to print 3 different pattern."
   ]
  },
  {
   "cell_type": "code",
   "execution_count": 7,
   "id": "b335cdf0-3509-459c-8e3e-37b29bfc90fb",
   "metadata": {},
   "outputs": [
    {
     "name": "stdout",
     "output_type": "stream",
     "text": [
      "* * * * * * * * * * * * * * * \n",
      "* * * * * * * * * * * * * * \n",
      "* * * * * * * * * * * * * \n",
      "* * * * * * * * * * * * \n",
      "* * * * * * * * * * * \n",
      "* * * * * * * * * * \n",
      "* * * * * * * * * \n",
      "* * * * * * * * \n",
      "* * * * * * * \n",
      "* * * * * * \n",
      "* * * * * \n",
      "* * * * \n",
      "* * * \n",
      "* * \n",
      "* \n"
     ]
    }
   ],
   "source": [
    "# 1.\n",
    "\n",
    "n = 15\n",
    "x=0\n",
    "\n",
    "while n>0:\n",
    "    while x<n:      # nested while \n",
    "        print(\"*\",end=\" \")\n",
    "        x=x+1\n",
    "    print(\"\\r\")\n",
    "    x=0\n",
    "    n=n-1\n",
    "    \n",
    "    "
   ]
  },
  {
   "cell_type": "code",
   "execution_count": 8,
   "id": "1035b294-0182-45e9-8241-01df73e4a33a",
   "metadata": {},
   "outputs": [
    {
     "name": "stdout",
     "output_type": "stream",
     "text": [
      " * \n",
      "  * * \n",
      "   * * * \n",
      "    * * * * \n",
      "     * * * * * \n",
      "      * * * * * * \n",
      "       * * * * * * * \n",
      "        * * * * * * * * \n",
      "         * * * * * * * * * \n",
      "          * * * * * * * * * * \n",
      "           * * * * * * * * * * * \n",
      "            * * * * * * * * * * * * \n",
      "             * * * * * * * * * * * * * \n",
      "              * * * * * * * * * * * * * * \n",
      "               * * * * * * * * * * * * * * * \n",
      "                * * * * * * * * * * * * * * * * \n"
     ]
    }
   ],
   "source": [
    "## 2. \n",
    "\n",
    "n = 15\n",
    "x = 0\n",
    "\n",
    "while x<=15:\n",
    "    y=0\n",
    "    while y<=x:\n",
    "        if y==0:\n",
    "            print(\" \"*(x-y),\"*\",end=\" \")\n",
    "        else:\n",
    "            print(\"*\",end=\" \")\n",
    "        y=y+1\n",
    "    print(\"\\r\")\n",
    "    x=x+1"
   ]
  },
  {
   "cell_type": "code",
   "execution_count": 9,
   "id": "79989ff7-377b-4e08-8cb9-32c7eb03bd5d",
   "metadata": {},
   "outputs": [
    {
     "name": "stdout",
     "output_type": "stream",
     "text": [
      "                *                *               *              *             *            *           *          *         *        *       *      *     *    *   * \n",
      "               *               *              *             *            *           *          *         *        *       *      *     *    *   * \n",
      "              *              *             *            *           *          *         *        *       *      *     *    *   * \n",
      "             *             *            *           *          *         *        *       *      *     *    *   * \n",
      "            *            *           *          *         *        *       *      *     *    *   * \n",
      "           *           *          *         *        *       *      *     *    *   * \n",
      "          *          *         *        *       *      *     *    *   * \n",
      "         *         *        *       *      *     *    *   * \n",
      "        *        *       *      *     *    *   * \n",
      "       *       *      *     *    *   * \n",
      "      *      *     *    *   * \n",
      "     *     *    *   * \n",
      "    *    *   * \n",
      "   *   * \n",
      "  * \n"
     ]
    }
   ],
   "source": [
    "n = 15\n",
    "x=0\n",
    "\n",
    "while n>0:\n",
    "    while x<n:      # nested while \n",
    "        print(\" \"*(n-x),\"*\",end=\" \")\n",
    "        x=x+1\n",
    "    print(\"\\r\")\n",
    "    x=0\n",
    "    n=n-1\n"
   ]
  },
  {
   "cell_type": "markdown",
   "id": "80342403-c9cf-43f3-82c8-cc1e842f00c7",
   "metadata": {},
   "source": [
    "### 7 Problem\n",
    "Reverse a while loop to display numbers from 10 to 1"
   ]
  },
  {
   "cell_type": "code",
   "execution_count": 10,
   "id": "49734631-5980-43e2-8432-8dd8debd5d1e",
   "metadata": {},
   "outputs": [
    {
     "name": "stdin",
     "output_type": "stream",
     "text": [
      "enter any number :  20\n"
     ]
    },
    {
     "name": "stdout",
     "output_type": "stream",
     "text": [
      "20,19,18,17,16,15,14,13,12,11,10,9,8,7,6,5,4,3,2,1,"
     ]
    }
   ],
   "source": [
    "n = int(input(\"enter any number : \"))\n",
    "while n>0:\n",
    "    print(n,end=\",\")\n",
    "    n=n-1"
   ]
  },
  {
   "cell_type": "code",
   "execution_count": null,
   "id": "709de5a9-07e1-4b2c-8317-96e5a1c04a51",
   "metadata": {},
   "outputs": [],
   "source": []
  }
 ],
 "metadata": {
  "kernelspec": {
   "display_name": "Python 3 (ipykernel)",
   "language": "python",
   "name": "python3"
  },
  "language_info": {
   "codemirror_mode": {
    "name": "ipython",
    "version": 3
   },
   "file_extension": ".py",
   "mimetype": "text/x-python",
   "name": "python",
   "nbconvert_exporter": "python",
   "pygments_lexer": "ipython3",
   "version": "3.10.8"
  }
 },
 "nbformat": 4,
 "nbformat_minor": 5
}
