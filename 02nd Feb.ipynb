{
 "cells": [
  {
   "cell_type": "markdown",
   "id": "8fc2c101-bab4-447e-8e7b-fdc50f2a510a",
   "metadata": {},
   "source": [
    "### Problem 1\n",
    "\n",
    "Q1. What are the characteristics of the tuples? Is tuple immutable?\n"
   ]
  },
  {
   "cell_type": "markdown",
   "id": "25133809-22ef-4050-9f61-5a13d94696d1",
   "metadata": {},
   "source": [
    "Ans. Tuple items have following characteristics.\n",
    "1. ordered\n",
    "2. unchangeable\n",
    "3. allow duplicate values."
   ]
  },
  {
   "cell_type": "code",
   "execution_count": null,
   "id": "c08b18f4-4758-4fa4-afa0-834f4ef652ba",
   "metadata": {},
   "outputs": [],
   "source": []
  },
  {
   "cell_type": "markdown",
   "id": "97176241-338f-4704-855c-57d12367d197",
   "metadata": {},
   "source": [
    "### Problem 2\n",
    "\n",
    "What are the two tuple methods in python? Give an example of each method. Give a reason why tuples have only two in-built methods as compared to Lists."
   ]
  },
  {
   "cell_type": "markdown",
   "id": "55b4d9e2-930f-4461-b33a-b9d21132aacb",
   "metadata": {},
   "source": [
    "Ans. two tuple methode in python \n",
    "1. index()\n",
    "2. count()\n",
    "\n",
    "- tuple has above two methods only because tuple is immutable."
   ]
  },
  {
   "cell_type": "code",
   "execution_count": 1,
   "id": "406e2c99-02de-4ad6-a7d2-1202eb1358e9",
   "metadata": {},
   "outputs": [],
   "source": [
    "t = (1,2,3,4,5,6,1,2,5,4,8,2,5,1,5,4,78,52,2,1,4,2)"
   ]
  },
  {
   "cell_type": "code",
   "execution_count": 2,
   "id": "e3c02de8-88bd-4f64-8291-cd1046ab55f4",
   "metadata": {},
   "outputs": [
    {
     "data": {
      "text/plain": [
       "4"
      ]
     },
     "execution_count": 2,
     "metadata": {},
     "output_type": "execute_result"
    }
   ],
   "source": [
    "t.count(1)  # count methode will total count the number 1 present in tuple"
   ]
  },
  {
   "cell_type": "code",
   "execution_count": 3,
   "id": "51d09d9b-86e5-402b-978b-34980be71c15",
   "metadata": {},
   "outputs": [
    {
     "data": {
      "text/plain": [
       "10"
      ]
     },
     "execution_count": 3,
     "metadata": {},
     "output_type": "execute_result"
    }
   ],
   "source": [
    "t.index(8)  # index methode will return the index value of the element we provided in to function."
   ]
  },
  {
   "cell_type": "code",
   "execution_count": null,
   "id": "cbb3cfc1-261f-4928-8fa8-a59bd11d5bd0",
   "metadata": {},
   "outputs": [],
   "source": []
  },
  {
   "cell_type": "markdown",
   "id": "fb7295b3-3cca-48f1-bcd7-0a2e481a562c",
   "metadata": {},
   "source": [
    "### Problem 3\n",
    "Which collection datatypes in python do not allow duplicate items? Write a code using a set to remove \n",
    "duplicates from the given list.\n",
    "\n",
    "\n",
    "List = [1, 1, 1, 2, 1, 3, 1, 4, 2, 1, 2, 2, 2, 3, 2, 4, 3, 1, 3, 2, 3, 3, 3, 4, 4, 1, 4, 2, 4, 3, 4, 4]\n"
   ]
  },
  {
   "cell_type": "markdown",
   "id": "58ccc6fd-321d-49f8-bb5e-ea3ec126a872",
   "metadata": {},
   "source": [
    "Ans. Set data type do not allow the duplicate items. "
   ]
  },
  {
   "cell_type": "code",
   "execution_count": 4,
   "id": "8fa0aa02-d08a-4052-85c6-77e7d3f5defc",
   "metadata": {},
   "outputs": [],
   "source": [
    "# here is the example.\n",
    "\n",
    "lst = [1, 1, 1, 2, 1, 3, 1, 4, 2, 1, 2, 2, 2, 3, 2, 4, 3, 1, 3, 2, 3, 3, 3, 4, 4, 1, 4, 2, 4, 3, 4, 4]  # there are multiple element getting repeated in tuple."
   ]
  },
  {
   "cell_type": "code",
   "execution_count": 5,
   "id": "7802601d-0c55-4453-b8dd-88004a9479a5",
   "metadata": {},
   "outputs": [],
   "source": [
    "x = set(lst)  # by converting list into set. it will remove duplocate element."
   ]
  },
  {
   "cell_type": "code",
   "execution_count": 6,
   "id": "6b7a6071-d34a-4e36-8465-830fece2dcfb",
   "metadata": {},
   "outputs": [
    {
     "data": {
      "text/plain": [
       "{1, 2, 3, 4}"
      ]
     },
     "execution_count": 6,
     "metadata": {},
     "output_type": "execute_result"
    }
   ],
   "source": [
    "x "
   ]
  },
  {
   "cell_type": "code",
   "execution_count": null,
   "id": "a95d3522-4726-4955-9f9c-df3e388d6cb1",
   "metadata": {},
   "outputs": [],
   "source": []
  },
  {
   "cell_type": "markdown",
   "id": "d378b8c2-ace0-479a-b398-23b3c67aeca7",
   "metadata": {},
   "source": [
    "### Problem 4\n",
    "\n",
    "Explain the difference between the union() and update() methods for a set. Give an example of \n",
    "each method."
   ]
  },
  {
   "cell_type": "markdown",
   "id": "79fd4af1-1581-44c2-9261-8aa73a2f17e9",
   "metadata": {
    "tags": []
   },
   "source": [
    "#### Union method\n",
    "\n",
    "1. union() method returns a new set with distinct elements from all the sets.\n",
    "2. not in place methode."
   ]
  },
  {
   "cell_type": "code",
   "execution_count": 7,
   "id": "256b0346-80c2-48ab-9985-4eb1038cab9d",
   "metadata": {},
   "outputs": [
    {
     "data": {
      "text/plain": [
       "{1, 2, 3, 5}"
      ]
     },
     "execution_count": 7,
     "metadata": {},
     "output_type": "execute_result"
    }
   ],
   "source": [
    "a = {2, 3, 5}\n",
    "b = {1, 3, 5}\n",
    "\n",
    "a.union(b)"
   ]
  },
  {
   "cell_type": "code",
   "execution_count": 8,
   "id": "38149261-5bbb-4e0f-8f60-abffe3998313",
   "metadata": {},
   "outputs": [
    {
     "data": {
      "text/plain": [
       "{2, 3, 5}"
      ]
     },
     "execution_count": 8,
     "metadata": {},
     "output_type": "execute_result"
    }
   ],
   "source": [
    "a   # here we can see there is no changes in original a set a"
   ]
  },
  {
   "cell_type": "code",
   "execution_count": 9,
   "id": "b172c8d2-5c95-4e64-ad7e-9687d12b66a1",
   "metadata": {},
   "outputs": [
    {
     "data": {
      "text/plain": [
       "{1, 3, 5}"
      ]
     },
     "execution_count": 9,
     "metadata": {},
     "output_type": "execute_result"
    }
   ],
   "source": [
    "b  # here we can see there is no changes in original a set b"
   ]
  },
  {
   "cell_type": "markdown",
   "id": "9638188f-9c58-4f0f-a5b8-a2f0dda8e97f",
   "metadata": {},
   "source": [
    "#### update methode\n",
    "\n",
    "1. update() method updates the set on which this method is called with all the distinct elements present.\n",
    "2. in place method"
   ]
  },
  {
   "cell_type": "code",
   "execution_count": 10,
   "id": "32943c15-ec07-4f3e-acbb-06fb9a1f842a",
   "metadata": {},
   "outputs": [],
   "source": [
    "a = {2, 3, 5}\n",
    "b = {1, 3, 5}\n",
    "\n",
    "a.update(b)"
   ]
  },
  {
   "cell_type": "code",
   "execution_count": 11,
   "id": "f36a6456-3d80-445d-b5ec-bd213c31184f",
   "metadata": {},
   "outputs": [
    {
     "data": {
      "text/plain": [
       "{1, 2, 3, 5}"
      ]
     },
     "execution_count": 11,
     "metadata": {},
     "output_type": "execute_result"
    }
   ],
   "source": [
    "a     # here we can see that a has been changed...so its in place method"
   ]
  },
  {
   "cell_type": "code",
   "execution_count": 12,
   "id": "c5f93ce9-16cf-443b-83cd-7a3e5158d26f",
   "metadata": {},
   "outputs": [
    {
     "data": {
      "text/plain": [
       "{1, 3, 5}"
      ]
     },
     "execution_count": 12,
     "metadata": {},
     "output_type": "execute_result"
    }
   ],
   "source": [
    "b"
   ]
  },
  {
   "cell_type": "code",
   "execution_count": 13,
   "id": "b8865421-7271-4a08-84de-b48fe9a6a9a5",
   "metadata": {},
   "outputs": [],
   "source": [
    "b.update(a)"
   ]
  },
  {
   "cell_type": "code",
   "execution_count": 14,
   "id": "25578079-b35b-423a-8e25-0e69104833b3",
   "metadata": {},
   "outputs": [
    {
     "data": {
      "text/plain": [
       "{1, 2, 3, 5}"
      ]
     },
     "execution_count": 14,
     "metadata": {},
     "output_type": "execute_result"
    }
   ],
   "source": [
    "b"
   ]
  },
  {
   "cell_type": "code",
   "execution_count": null,
   "id": "7b0674a2-7cb8-4a54-9d03-ce6b42f3d45c",
   "metadata": {},
   "outputs": [],
   "source": []
  },
  {
   "cell_type": "markdown",
   "id": "64c350b4-f13f-4d2e-8b0a-32ad380cc99d",
   "metadata": {},
   "source": [
    "### Problem 5\n",
    "\n",
    "What is a dictionary? Give an example. Also, state whether a dictionary is ordered or unordered"
   ]
  },
  {
   "cell_type": "markdown",
   "id": "53337184-66c9-44a3-81ef-7f27b2b91c11",
   "metadata": {},
   "source": [
    "Ans. Dictionary is pair of key and value in curley bracket. yes, dictionary is ordered."
   ]
  },
  {
   "cell_type": "code",
   "execution_count": 15,
   "id": "333490ae-39b1-47bf-b591-454a25f6c48e",
   "metadata": {},
   "outputs": [],
   "source": [
    "# here is the example of dictionary\n",
    "\n",
    "d = {\"a\":1,\n",
    "     \"b\":[1,2,3,4,5,6],\n",
    "     \"c\":5.6,\n",
    "     \"d\":True,\n",
    "     5:\"five\",\n",
    "     \"e\":{1:2,5:8,9:10}\n",
    "}"
   ]
  },
  {
   "cell_type": "code",
   "execution_count": 16,
   "id": "4e1dda64-32eb-42f1-822c-597d3502d94b",
   "metadata": {},
   "outputs": [
    {
     "name": "stdout",
     "output_type": "stream",
     "text": [
      "{'a': 1, 'b': [1, 2, 3, 4, 5, 6], 'c': 5.6, 'd': True, 5: 'five', 'e': {1: 2, 5: 8, 9: 10}}\n"
     ]
    }
   ],
   "source": [
    "print(d)"
   ]
  },
  {
   "cell_type": "code",
   "execution_count": null,
   "id": "d877cd35-3887-403f-b878-28d5d2f0b8b4",
   "metadata": {},
   "outputs": [],
   "source": []
  },
  {
   "cell_type": "markdown",
   "id": "731847e8-ea1e-4f51-a887-df8e556af0ba",
   "metadata": {},
   "source": [
    "### Problem 6\n",
    "\n",
    "Can we create a nested dictionary? If so, please give an example by creating a simple one-level \n",
    "nested dictionary."
   ]
  },
  {
   "cell_type": "markdown",
   "id": "828e2c28-674a-4bad-ad2b-e80fe47e1fa9",
   "metadata": {},
   "source": [
    "Ans. yes, we can create nested dictionary. its dictionary inside the dictionary."
   ]
  },
  {
   "cell_type": "code",
   "execution_count": 17,
   "id": "78697ae6-9ad7-4623-99c6-b3131e6ad78f",
   "metadata": {},
   "outputs": [],
   "source": [
    "# example of nested dictionary\n",
    "\n",
    "d = {\"a\":1,\n",
    "     \"b\":{\"course\":\"python\",\"country\":\"india\",\"key\":45}\n",
    "}"
   ]
  },
  {
   "cell_type": "code",
   "execution_count": null,
   "id": "b77bc6b2-7f49-4570-a083-48ee09fb16aa",
   "metadata": {},
   "outputs": [],
   "source": []
  },
  {
   "cell_type": "markdown",
   "id": "f7929c1b-57f7-4896-9d36-0761586645c9",
   "metadata": {},
   "source": [
    "### Problem 7\n",
    "\n",
    "Using setdefault() method, create key named topics in the given dictionary and also add the value of \n",
    "the key as this list ['Python', 'Machine Learning’, 'Deep Learning']\n",
    "\n",
    "\n",
    "dict1 = {'language' : 'Python', 'course': 'Data Science Masters'}"
   ]
  },
  {
   "cell_type": "code",
   "execution_count": 18,
   "id": "c51b4ea9-e9ee-4339-881d-8ef45d90217a",
   "metadata": {},
   "outputs": [],
   "source": [
    "dict1 = {'language' : 'Python', 'course': 'Data Science Masters'}"
   ]
  },
  {
   "cell_type": "code",
   "execution_count": 19,
   "id": "5d65f808-700c-4ad1-8afc-77918d7782d6",
   "metadata": {},
   "outputs": [
    {
     "data": {
      "text/plain": [
       "['Python', 'Machine learning', 'Deep learning']"
      ]
     },
     "execution_count": 19,
     "metadata": {},
     "output_type": "execute_result"
    }
   ],
   "source": [
    "dict1.setdefault(\"Topics\",[\"Python\",\"Machine learning\",\"Deep learning\"])"
   ]
  },
  {
   "cell_type": "code",
   "execution_count": 20,
   "id": "961f749f-aaf1-4667-a9e9-be19f2d07cfd",
   "metadata": {},
   "outputs": [
    {
     "data": {
      "text/plain": [
       "{'language': 'Python',\n",
       " 'course': 'Data Science Masters',\n",
       " 'Topics': ['Python', 'Machine learning', 'Deep learning']}"
      ]
     },
     "execution_count": 20,
     "metadata": {},
     "output_type": "execute_result"
    }
   ],
   "source": [
    "dict1"
   ]
  },
  {
   "cell_type": "code",
   "execution_count": null,
   "id": "32008df4-63da-456c-901c-6238d6605665",
   "metadata": {},
   "outputs": [],
   "source": []
  },
  {
   "cell_type": "markdown",
   "id": "102dbccb-2e67-4e82-b03b-4b9415d2844d",
   "metadata": {},
   "source": [
    "### Problem 8\n",
    "\n",
    "What are the three view objects in dictionaries? Use the three in-built methods in python to display these three view objects for the given dictionary.\n",
    "\n",
    "\n",
    "dict1 = {'Sport': 'Cricket' , 'Teams': ['India', 'Australia', 'England', 'South Africa', 'Sri Lanka', 'New Zealand']}"
   ]
  },
  {
   "cell_type": "markdown",
   "id": "5d760279-700f-4c96-becc-d5e689abe851",
   "metadata": {},
   "source": [
    "Ans. Three view objects are given below.\n",
    "\n",
    "1. keys()\n",
    "2. values()\n",
    "3. items()"
   ]
  },
  {
   "cell_type": "code",
   "execution_count": 21,
   "id": "9c90b9e7-7e59-4b68-b48c-a3383c9c13af",
   "metadata": {},
   "outputs": [],
   "source": [
    "# given dictionary\n",
    "\n",
    "dict1 = {'Sport': 'Cricket' , 'Teams': ['India', 'Australia', 'England', 'South Africa', 'Sri Lanka', 'New Zealand']}"
   ]
  },
  {
   "cell_type": "code",
   "execution_count": 22,
   "id": "49c04672-d2b1-4fe1-887e-63f282ed1bf1",
   "metadata": {},
   "outputs": [
    {
     "data": {
      "text/plain": [
       "dict_keys(['Sport', 'Teams'])"
      ]
     },
     "execution_count": 22,
     "metadata": {},
     "output_type": "execute_result"
    }
   ],
   "source": [
    "dict1.keys()   ## it will return all the key form dictionary"
   ]
  },
  {
   "cell_type": "code",
   "execution_count": 23,
   "id": "5cdbbeaa-876e-4d16-a9e3-7e81dea356dd",
   "metadata": {},
   "outputs": [
    {
     "data": {
      "text/plain": [
       "dict_values(['Cricket', ['India', 'Australia', 'England', 'South Africa', 'Sri Lanka', 'New Zealand']])"
      ]
     },
     "execution_count": 23,
     "metadata": {},
     "output_type": "execute_result"
    }
   ],
   "source": [
    "dict1.values()   # it will return all the values from dictionary"
   ]
  },
  {
   "cell_type": "code",
   "execution_count": 24,
   "id": "276fcd0b-3adf-439e-8c6d-013f36abea85",
   "metadata": {},
   "outputs": [
    {
     "data": {
      "text/plain": [
       "dict_items([('Sport', 'Cricket'), ('Teams', ['India', 'Australia', 'England', 'South Africa', 'Sri Lanka', 'New Zealand'])])"
      ]
     },
     "execution_count": 24,
     "metadata": {},
     "output_type": "execute_result"
    }
   ],
   "source": [
    "dict1.items()    # it will return key, value pair tuple from dictionary."
   ]
  },
  {
   "cell_type": "code",
   "execution_count": null,
   "id": "368de349-3900-45dc-9689-2f33ea5abf96",
   "metadata": {},
   "outputs": [],
   "source": []
  },
  {
   "cell_type": "code",
   "execution_count": null,
   "id": "81ab05b3-226b-49b0-ab0f-00345f88a069",
   "metadata": {},
   "outputs": [],
   "source": []
  }
 ],
 "metadata": {
  "kernelspec": {
   "display_name": "Python 3 (ipykernel)",
   "language": "python",
   "name": "python3"
  },
  "language_info": {
   "codemirror_mode": {
    "name": "ipython",
    "version": 3
   },
   "file_extension": ".py",
   "mimetype": "text/x-python",
   "name": "python",
   "nbconvert_exporter": "python",
   "pygments_lexer": "ipython3",
   "version": "3.10.8"
  }
 },
 "nbformat": 4,
 "nbformat_minor": 5
}
