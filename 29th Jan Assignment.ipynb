{
 "cells": [
  {
   "cell_type": "markdown",
   "id": "d24c2903-94bd-44b1-91bd-47d89da05ba0",
   "metadata": {
    "tags": []
   },
   "source": [
    "#### 1. Who developed Python Programming Language?\n",
    "\n",
    "##### Ans. \n",
    "###### Guido van Rossum."
   ]
  },
  {
   "cell_type": "code",
   "execution_count": null,
   "id": "d32cb38c-a7d6-454d-aa77-c7b4756461b0",
   "metadata": {},
   "outputs": [],
   "source": []
  },
  {
   "cell_type": "markdown",
   "id": "c94ddad9-f3a0-4fba-98aa-566a90b34ca6",
   "metadata": {
    "tags": []
   },
   "source": [
    "#### 2. Which type of Programming does python support?\n",
    "\n",
    "##### Ans. \n",
    "###### OOP - Object Oriented Programming."
   ]
  },
  {
   "cell_type": "code",
   "execution_count": null,
   "id": "a3746062-ce0a-4814-b6f2-eed1ad778771",
   "metadata": {},
   "outputs": [],
   "source": []
  },
  {
   "cell_type": "markdown",
   "id": "fc763c47-9f2d-4328-9b3f-d9687d3d4582",
   "metadata": {},
   "source": [
    "#### 3. Is python case sensitive when dealing with identifiers??\n",
    "##### Ans. \n",
    "###### Yes"
   ]
  },
  {
   "cell_type": "code",
   "execution_count": null,
   "id": "0afc6c52-a7ea-4d04-9613-afab81ce75b2",
   "metadata": {},
   "outputs": [],
   "source": []
  },
  {
   "cell_type": "markdown",
   "id": "5954826d-9c29-491a-b202-ebe983f45661",
   "metadata": {},
   "source": [
    "#### 4. What is the correct extension of python file?\n",
    "##### Ans. \n",
    "###### Extension is .py"
   ]
  },
  {
   "cell_type": "code",
   "execution_count": null,
   "id": "44e5b141-6afa-4703-8848-427bc089b5f4",
   "metadata": {},
   "outputs": [],
   "source": []
  },
  {
   "cell_type": "markdown",
   "id": "4f898583-ed9f-4d36-ac42-3d6f53c536f5",
   "metadata": {},
   "source": [
    "#### 5. Is python code complied or interpreted?\n",
    "##### Ans. \n",
    "###### interpreted"
   ]
  },
  {
   "cell_type": "code",
   "execution_count": null,
   "id": "d0bc2b9f-a1a5-4fbd-b689-2dd04436b58a",
   "metadata": {},
   "outputs": [],
   "source": []
  },
  {
   "cell_type": "markdown",
   "id": "96585ead-3b1d-4a2d-8a52-fcc79bbe6573",
   "metadata": {},
   "source": [
    "#### 6. Name a few blocks of code used to define in python language? \n",
    "##### Ans. \n",
    "###### If-else block, while loop, for loop etc."
   ]
  },
  {
   "cell_type": "code",
   "execution_count": null,
   "id": "eb5b8dab-0aec-45aa-8817-48ce22ccb8df",
   "metadata": {},
   "outputs": [],
   "source": []
  },
  {
   "cell_type": "markdown",
   "id": "47ed1332-8ce4-48d7-a9ce-3a6185af283e",
   "metadata": {},
   "source": [
    "#### 7. State a character used to give single-line comments in python?\n",
    "##### Ans. \n",
    "###### HASH - *#*"
   ]
  },
  {
   "cell_type": "code",
   "execution_count": 1,
   "id": "7e5282f6-d948-46dc-85f7-3b97e3265ae6",
   "metadata": {},
   "outputs": [],
   "source": [
    "# This is comment..."
   ]
  },
  {
   "cell_type": "code",
   "execution_count": null,
   "id": "bfa88d86-4b55-4297-9fa0-018189502da6",
   "metadata": {},
   "outputs": [],
   "source": []
  },
  {
   "cell_type": "markdown",
   "id": "b2fd2d53-cc15-42b9-8aaa-6fd5c9e4d3ee",
   "metadata": {},
   "source": [
    "#### 8. Mention functions which can help us to find the version of python that we are working on?"
   ]
  },
  {
   "cell_type": "code",
   "execution_count": 2,
   "id": "8b408f97-d783-425b-a1df-38f9bfb697b1",
   "metadata": {},
   "outputs": [
    {
     "name": "stdout",
     "output_type": "stream",
     "text": [
      "3.10.8 | packaged by conda-forge | (main, Nov 22 2022, 08:26:04) [GCC 10.4.0]\n"
     ]
    }
   ],
   "source": [
    "import sys\n",
    "print(sys.version)"
   ]
  },
  {
   "cell_type": "code",
   "execution_count": null,
   "id": "f546ed66-645a-4078-96d6-1646f8937498",
   "metadata": {},
   "outputs": [],
   "source": []
  },
  {
   "cell_type": "markdown",
   "id": "3df4da5b-3f3e-4ad4-a42e-ba70672d8782",
   "metadata": {},
   "source": [
    "#### 9. Python supports the creation of anonymous functions at runtime, using a construct called __________ .\n",
    "##### Ans. \n",
    "###### lambda"
   ]
  },
  {
   "cell_type": "code",
   "execution_count": 3,
   "id": "ab7d7afd-6b8b-4c71-8bbd-9d800ec74d57",
   "metadata": {},
   "outputs": [
    {
     "data": {
      "text/plain": [
       "25"
      ]
     },
     "execution_count": 3,
     "metadata": {},
     "output_type": "execute_result"
    }
   ],
   "source": [
    "# example of lambda function.\n",
    "\n",
    "num_square = lambda x:x**2\n",
    "num_square(5)"
   ]
  },
  {
   "cell_type": "code",
   "execution_count": null,
   "id": "f2f57516-d934-41bd-8623-4dec4bf89a7e",
   "metadata": {},
   "outputs": [],
   "source": []
  },
  {
   "cell_type": "markdown",
   "id": "63bb8e64-fef5-4788-a9f6-bb1137e255e7",
   "metadata": {},
   "source": [
    "#### 10. What does pip stands for in python?\n",
    "##### Ans.\n",
    "###### Preferred Installer Program"
   ]
  },
  {
   "cell_type": "code",
   "execution_count": null,
   "id": "38661159-9dca-4700-8c8b-e37bf0cd7ad0",
   "metadata": {},
   "outputs": [],
   "source": []
  },
  {
   "cell_type": "markdown",
   "id": "e4783cad-1770-44f7-a989-024f131a06d6",
   "metadata": {},
   "source": [
    "#### 11. Mention few built in function in python.\n",
    "\n",
    "##### Ans.\n",
    "###### len(), max(), min(), print(), bool(), range() etc."
   ]
  },
  {
   "cell_type": "code",
   "execution_count": 4,
   "id": "2f56fc27-5566-429e-8df0-2d016238d957",
   "metadata": {},
   "outputs": [
    {
     "data": {
      "text/plain": [
       "['ArithmeticError',\n",
       " 'AssertionError',\n",
       " 'AttributeError',\n",
       " 'BaseException',\n",
       " 'BlockingIOError',\n",
       " 'BrokenPipeError',\n",
       " 'BufferError',\n",
       " 'BytesWarning',\n",
       " 'ChildProcessError',\n",
       " 'ConnectionAbortedError',\n",
       " 'ConnectionError',\n",
       " 'ConnectionRefusedError',\n",
       " 'ConnectionResetError',\n",
       " 'DeprecationWarning',\n",
       " 'EOFError',\n",
       " 'Ellipsis',\n",
       " 'EncodingWarning',\n",
       " 'EnvironmentError',\n",
       " 'Exception',\n",
       " 'False',\n",
       " 'FileExistsError',\n",
       " 'FileNotFoundError',\n",
       " 'FloatingPointError',\n",
       " 'FutureWarning',\n",
       " 'GeneratorExit',\n",
       " 'IOError',\n",
       " 'ImportError',\n",
       " 'ImportWarning',\n",
       " 'IndentationError',\n",
       " 'IndexError',\n",
       " 'InterruptedError',\n",
       " 'IsADirectoryError',\n",
       " 'KeyError',\n",
       " 'KeyboardInterrupt',\n",
       " 'LookupError',\n",
       " 'MemoryError',\n",
       " 'ModuleNotFoundError',\n",
       " 'NameError',\n",
       " 'None',\n",
       " 'NotADirectoryError',\n",
       " 'NotImplemented',\n",
       " 'NotImplementedError',\n",
       " 'OSError',\n",
       " 'OverflowError',\n",
       " 'PendingDeprecationWarning',\n",
       " 'PermissionError',\n",
       " 'ProcessLookupError',\n",
       " 'RecursionError',\n",
       " 'ReferenceError',\n",
       " 'ResourceWarning',\n",
       " 'RuntimeError',\n",
       " 'RuntimeWarning',\n",
       " 'StopAsyncIteration',\n",
       " 'StopIteration',\n",
       " 'SyntaxError',\n",
       " 'SyntaxWarning',\n",
       " 'SystemError',\n",
       " 'SystemExit',\n",
       " 'TabError',\n",
       " 'TimeoutError',\n",
       " 'True',\n",
       " 'TypeError',\n",
       " 'UnboundLocalError',\n",
       " 'UnicodeDecodeError',\n",
       " 'UnicodeEncodeError',\n",
       " 'UnicodeError',\n",
       " 'UnicodeTranslateError',\n",
       " 'UnicodeWarning',\n",
       " 'UserWarning',\n",
       " 'ValueError',\n",
       " 'Warning',\n",
       " 'ZeroDivisionError',\n",
       " '__IPYTHON__',\n",
       " '__build_class__',\n",
       " '__debug__',\n",
       " '__doc__',\n",
       " '__import__',\n",
       " '__loader__',\n",
       " '__name__',\n",
       " '__package__',\n",
       " '__spec__',\n",
       " 'abs',\n",
       " 'aiter',\n",
       " 'all',\n",
       " 'anext',\n",
       " 'any',\n",
       " 'ascii',\n",
       " 'bin',\n",
       " 'bool',\n",
       " 'breakpoint',\n",
       " 'bytearray',\n",
       " 'bytes',\n",
       " 'callable',\n",
       " 'chr',\n",
       " 'classmethod',\n",
       " 'compile',\n",
       " 'complex',\n",
       " 'copyright',\n",
       " 'credits',\n",
       " 'delattr',\n",
       " 'dict',\n",
       " 'dir',\n",
       " 'display',\n",
       " 'divmod',\n",
       " 'enumerate',\n",
       " 'eval',\n",
       " 'exec',\n",
       " 'execfile',\n",
       " 'filter',\n",
       " 'float',\n",
       " 'format',\n",
       " 'frozenset',\n",
       " 'get_ipython',\n",
       " 'getattr',\n",
       " 'globals',\n",
       " 'hasattr',\n",
       " 'hash',\n",
       " 'help',\n",
       " 'hex',\n",
       " 'id',\n",
       " 'input',\n",
       " 'int',\n",
       " 'isinstance',\n",
       " 'issubclass',\n",
       " 'iter',\n",
       " 'len',\n",
       " 'license',\n",
       " 'list',\n",
       " 'locals',\n",
       " 'map',\n",
       " 'max',\n",
       " 'memoryview',\n",
       " 'min',\n",
       " 'next',\n",
       " 'object',\n",
       " 'oct',\n",
       " 'open',\n",
       " 'ord',\n",
       " 'pow',\n",
       " 'print',\n",
       " 'property',\n",
       " 'range',\n",
       " 'repr',\n",
       " 'reversed',\n",
       " 'round',\n",
       " 'runfile',\n",
       " 'set',\n",
       " 'setattr',\n",
       " 'slice',\n",
       " 'sorted',\n",
       " 'staticmethod',\n",
       " 'str',\n",
       " 'sum',\n",
       " 'super',\n",
       " 'tuple',\n",
       " 'type',\n",
       " 'vars',\n",
       " 'zip']"
      ]
     },
     "execution_count": 4,
     "metadata": {},
     "output_type": "execute_result"
    }
   ],
   "source": [
    "# all the built in function in python.\n",
    "\n",
    "import builtins\n",
    "dir(builtins)"
   ]
  },
  {
   "cell_type": "code",
   "execution_count": null,
   "id": "af714a23-949f-45ff-9ee6-69bd8d2adb8f",
   "metadata": {},
   "outputs": [],
   "source": []
  },
  {
   "cell_type": "markdown",
   "id": "dca29a52-9a02-43c4-a472-62d2c0f9811d",
   "metadata": {},
   "source": [
    "#### 12. What is the maximum possible length of an identifier in python?\n",
    "##### Ans. \n",
    "###### Maximum length is 79 char.\n",
    "###### Identifier is a user-defined name to represent a following things. \n",
    "###### 1. variable\n",
    "###### 2. a function\n",
    "###### 3. a class\n",
    "###### 4. a module\n",
    "###### 5. any other object."
   ]
  },
  {
   "cell_type": "code",
   "execution_count": null,
   "id": "09ae5b11-c327-40c1-a50e-0901c74a31d6",
   "metadata": {},
   "outputs": [],
   "source": []
  },
  {
   "cell_type": "markdown",
   "id": "c84edf30-c763-408a-9c7d-6c313e8a18c6",
   "metadata": {},
   "source": [
    "#### 13. What are the benefits of using python?\n",
    "##### Ans. \n",
    "###### 1. Python has easiest syntax, easy to read, reuse and maintain the code.\n",
    "###### 2. So many libraries available to work with. (More than 1,37,000 packages).\n",
    "###### 3. These packages are useful in Data Science, Machine Learning, Web Scraping, Web Development, Gaming, Image Processing, Robotics, Data Mining, Managing Databases, AI, GUI Development etc.\n",
    "###### 4. Its open-source programming language. so, anyone can contribute to the language to fix any existing issues or can develop new things."
   ]
  },
  {
   "cell_type": "code",
   "execution_count": null,
   "id": "57383f62-9db5-4940-950f-6080f7e60615",
   "metadata": {},
   "outputs": [],
   "source": []
  },
  {
   "cell_type": "markdown",
   "id": "08f96e75-d58d-4edf-ac4b-34d2de1eda47",
   "metadata": {},
   "source": [
    "#### 14. How is memory managed in python?\n",
    "##### Ans.\n",
    "###### 1. Memory allocation can be defined as allocating a block of space in the computer memory to a program. In Python memory allocation and deallocation method is automatic as the Python developers created a garbage collector for Python so that the user does not have to do manual garbage collection.\n",
    "\n",
    "###### 2. Garbage collection: It is a process in which the interpreter frees up the memory when not in use to make it available for other objects. Assume a case where no reference is pointing to an object in memory i.e. it is not in use so, the virtual machine has a garbage collector that automatically deletes that object from the heap memory.\n",
    "\n",
    "###### 3. Reference counting: It works by counting the number of times an object is referenced by other objects in the system. When references to an object are removed, the reference count for an object is decremented. When the reference count becomes zero, the object is deallocated."
   ]
  },
  {
   "cell_type": "code",
   "execution_count": null,
   "id": "29c5aa3e-539a-4939-a1cf-9294f279d3ce",
   "metadata": {},
   "outputs": [],
   "source": []
  },
  {
   "cell_type": "markdown",
   "id": "2fd1712a-8190-4cb4-9625-37dc137746ce",
   "metadata": {},
   "source": [
    "#### 15. How to install python on windows and set path variables?\n",
    "##### Ans.\n",
    "###### 1. Download the python from https://www.python.org/downloads/ \n",
    "###### 2. Run the installer by double clicking on the downloaded file and follow the screen-instructions.\n",
    "###### 3. Check the option to \"Add Python to PATH\" during installation."
   ]
  },
  {
   "cell_type": "code",
   "execution_count": null,
   "id": "bd951f42-4c20-4442-a707-1ab704434029",
   "metadata": {},
   "outputs": [],
   "source": []
  },
  {
   "cell_type": "markdown",
   "id": "a1ae1305-75eb-4389-967f-9eed9da23a2d",
   "metadata": {
    "tags": []
   },
   "source": [
    "#### 16. is indentation required in python?\n",
    "##### Ans. \n",
    "###### Yes, Indentation is required in Python because without proper indenting the Python code, we will end up seeing IndentationError and the code will not get compiled."
   ]
  },
  {
   "cell_type": "code",
   "execution_count": 5,
   "id": "60ba4e71-6960-45f4-9fd5-45a1838d3203",
   "metadata": {},
   "outputs": [
    {
     "name": "stdout",
     "output_type": "stream",
     "text": [
      "Welcome to python course....\n"
     ]
    }
   ],
   "source": [
    "# Python program showing indentation\n",
    " \n",
    "course_name = 'Python'\n",
    " \n",
    "if course_name == 'Python':\n",
    "    print('Welcome to python course....')\n",
    "else:\n",
    "    print('you enrolled different course..')\n"
   ]
  },
  {
   "cell_type": "code",
   "execution_count": null,
   "id": "8fc981d9-46a7-4b74-bb66-dd347f5627ec",
   "metadata": {},
   "outputs": [],
   "source": []
  }
 ],
 "metadata": {
  "kernelspec": {
   "display_name": "Python 3 (ipykernel)",
   "language": "python",
   "name": "python3"
  },
  "language_info": {
   "codemirror_mode": {
    "name": "ipython",
    "version": 3
   },
   "file_extension": ".py",
   "mimetype": "text/x-python",
   "name": "python",
   "nbconvert_exporter": "python",
   "pygments_lexer": "ipython3",
   "version": "3.10.8"
  }
 },
 "nbformat": 4,
 "nbformat_minor": 5
}
